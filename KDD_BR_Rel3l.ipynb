{
  "nbformat": 4,
  "nbformat_minor": 0,
  "metadata": {
    "kernelspec": {
      "display_name": "Python 3",
      "language": "python",
      "name": "python3"
    },
    "language_info": {
      "codemirror_mode": {
        "name": "ipython",
        "version": 3
      },
      "file_extension": ".py",
      "mimetype": "text/x-python",
      "name": "python",
      "nbconvert_exporter": "python",
      "pygments_lexer": "ipython3",
      "version": "3.7.3"
    },
    "colab": {
      "name": "KNN_example (8).ipynb",
      "provenance": [],
      "include_colab_link": true
    }
  },
  "cells": [
    {
      "cell_type": "markdown",
      "metadata": {
        "id": "view-in-github",
        "colab_type": "text"
      },
      "source": [
        "<a href=\"https://colab.research.google.com/github/polivio/AM/blob/master/KDD_BR_Rel3l.ipynb\" target=\"_parent\"><img src=\"https://colab.research.google.com/assets/colab-badge.svg\" alt=\"Open In Colab\"/></a>"
      ]
    },
    {
      "cell_type": "code",
      "metadata": {
        "id": "-cEOVgL9jy0C",
        "colab_type": "code",
        "colab": {}
      },
      "source": [
        "# https://www.kaggle.com/c/kddbr-2019/data\n",
        "\n",
        "# KNN KDD BR -Polivio\n",
        "import numpy as np\n",
        "from sklearn import preprocessing, neighbors\n",
        "import pandas as pd\n",
        "import matplotlib.pyplot as plt\n",
        "from sklearn.model_selection import train_test_split\n",
        "\n",
        "\n",
        "# auxílio para métricas\n",
        "from sklearn.model_selection import cross_val_score\n",
        "from sklearn.metrics import mean_squared_error\n",
        "from math import sqrt\n",
        "from sklearn import metrics # https://youtu.be/6dbrR-WymjI\n",
        "\n",
        "#modelos\n",
        "from sklearn import tree\n",
        "from sklearn.tree import DecisionTreeRegressor\n",
        "\n",
        "\n",
        "# Normalização\n",
        "from sklearn.preprocessing import MinMaxScaler"
      ],
      "execution_count": 0,
      "outputs": []
    },
    {
      "cell_type": "code",
      "metadata": {
        "id": "FyyXDD24jy0H",
        "colab_type": "code",
        "colab": {}
      },
      "source": [
        "# preprocessing # blob # raw\n",
        "train = pd.read_csv('https://github.com/polivio/PEE/raw/master/Training_grouped.csv')\n",
        "test = pd.read_csv('https://github.com/polivio/PEE/raw/master/Test_grouped.csv')\n",
        "\n"
      ],
      "execution_count": 0,
      "outputs": []
    },
    {
      "cell_type": "code",
      "metadata": {
        "id": "eAPf1EwfNgg_",
        "colab_type": "code",
        "colab": {}
      },
      "source": [
        "# separando o id, features e label para preprocessamento\n",
        "idTrain = train.loc[:,['traininglabelorder.scatterplotID']]\n",
        "features = train.loc[:,['qtde.ponto', \n",
        "       'mean.signalX', 'sd.signalX', 'kurtosis.signalX',\n",
        "      'mean.signalY', 'sd.signalY', \n",
        "       'kurtosis.signalY', 'L', 'X', 'XY', 'Y',\n",
        "       'mean.silhouette' ]]\n",
        "\n",
        "labelTrain = train.loc[:,['traininglabelorder.score']]\n",
        "\n",
        "features.head()"
      ],
      "execution_count": 0,
      "outputs": []
    },
    {
      "cell_type": "code",
      "metadata": {
        "id": "WUuBhRxuf6pa",
        "colab_type": "code",
        "outputId": "30df0bbf-64ba-4614-fd40-15fbad091d14",
        "colab": {
          "base_uri": "https://localhost:8080/",
          "height": 669
        }
      },
      "source": [
        "idVal = test.loc[:,['testorder.ID']]\n",
        "featuresval = test.loc[:,[ 'qtde.ponto', \n",
        "       'mean.signalX', 'sd.signalX', 'kurtosis.signalX',\n",
        "      'mean.signalY', 'sd.signalY', \n",
        "       'kurtosis.signalY', 'L', 'X', 'XY', 'Y',\n",
        "       'mean.silhouette']]\n",
        "\n",
        "#featuresval.head()"
      ],
      "execution_count": 0,
      "outputs": [
        {
          "output_type": "execute_result",
          "data": {
            "text/html": [
              "<div>\n",
              "<style scoped>\n",
              "    .dataframe tbody tr th:only-of-type {\n",
              "        vertical-align: middle;\n",
              "    }\n",
              "\n",
              "    .dataframe tbody tr th {\n",
              "        vertical-align: top;\n",
              "    }\n",
              "\n",
              "    .dataframe thead th {\n",
              "        text-align: right;\n",
              "    }\n",
              "</style>\n",
              "<table border=\"1\" class=\"dataframe\">\n",
              "  <thead>\n",
              "    <tr style=\"text-align: right;\">\n",
              "      <th></th>\n",
              "      <th>qtde.ponto</th>\n",
              "      <th>mean.signalX</th>\n",
              "      <th>sd.signalX</th>\n",
              "      <th>kurtosis.signalX</th>\n",
              "      <th>mean.signalY</th>\n",
              "      <th>sd.signalY</th>\n",
              "      <th>kurtosis.signalY</th>\n",
              "      <th>L</th>\n",
              "      <th>X</th>\n",
              "      <th>XY</th>\n",
              "      <th>Y</th>\n",
              "      <th>mean.silhouette</th>\n",
              "    </tr>\n",
              "  </thead>\n",
              "  <tbody>\n",
              "    <tr>\n",
              "      <th>0</th>\n",
              "      <td>384</td>\n",
              "      <td>2929.713542</td>\n",
              "      <td>983.267187</td>\n",
              "      <td>2.204854</td>\n",
              "      <td>2338.335938</td>\n",
              "      <td>880.798587</td>\n",
              "      <td>1.852330</td>\n",
              "      <td>7</td>\n",
              "      <td>116.0</td>\n",
              "      <td>167.0</td>\n",
              "      <td>94.0</td>\n",
              "      <td>0.916505</td>\n",
              "    </tr>\n",
              "    <tr>\n",
              "      <th>1</th>\n",
              "      <td>384</td>\n",
              "      <td>1409.484375</td>\n",
              "      <td>525.140811</td>\n",
              "      <td>2.798995</td>\n",
              "      <td>3155.841146</td>\n",
              "      <td>978.277806</td>\n",
              "      <td>2.624796</td>\n",
              "      <td>4</td>\n",
              "      <td>92.0</td>\n",
              "      <td>189.0</td>\n",
              "      <td>99.0</td>\n",
              "      <td>0.891220</td>\n",
              "    </tr>\n",
              "    <tr>\n",
              "      <th>2</th>\n",
              "      <td>382</td>\n",
              "      <td>2031.329843</td>\n",
              "      <td>2023.975889</td>\n",
              "      <td>2.531504</td>\n",
              "      <td>2982.876963</td>\n",
              "      <td>996.573219</td>\n",
              "      <td>2.506589</td>\n",
              "      <td>5</td>\n",
              "      <td>50.0</td>\n",
              "      <td>73.0</td>\n",
              "      <td>254.0</td>\n",
              "      <td>0.947689</td>\n",
              "    </tr>\n",
              "    <tr>\n",
              "      <th>3</th>\n",
              "      <td>370</td>\n",
              "      <td>2900.078378</td>\n",
              "      <td>1278.838337</td>\n",
              "      <td>1.794436</td>\n",
              "      <td>2463.178378</td>\n",
              "      <td>1937.785232</td>\n",
              "      <td>1.229172</td>\n",
              "      <td>5</td>\n",
              "      <td>170.0</td>\n",
              "      <td>10.0</td>\n",
              "      <td>185.0</td>\n",
              "      <td>0.954000</td>\n",
              "    </tr>\n",
              "    <tr>\n",
              "      <th>4</th>\n",
              "      <td>384</td>\n",
              "      <td>2567.598958</td>\n",
              "      <td>1090.155787</td>\n",
              "      <td>2.272346</td>\n",
              "      <td>3239.945312</td>\n",
              "      <td>1195.922708</td>\n",
              "      <td>2.315470</td>\n",
              "      <td>4</td>\n",
              "      <td>106.0</td>\n",
              "      <td>182.0</td>\n",
              "      <td>92.0</td>\n",
              "      <td>0.829513</td>\n",
              "    </tr>\n",
              "    <tr>\n",
              "      <th>5</th>\n",
              "      <td>384</td>\n",
              "      <td>4270.281250</td>\n",
              "      <td>2030.633675</td>\n",
              "      <td>2.377766</td>\n",
              "      <td>4901.104167</td>\n",
              "      <td>1866.213853</td>\n",
              "      <td>2.132134</td>\n",
              "      <td>7</td>\n",
              "      <td>32.0</td>\n",
              "      <td>221.0</td>\n",
              "      <td>124.0</td>\n",
              "      <td>0.419574</td>\n",
              "    </tr>\n",
              "    <tr>\n",
              "      <th>6</th>\n",
              "      <td>373</td>\n",
              "      <td>2978.777480</td>\n",
              "      <td>1572.195225</td>\n",
              "      <td>2.029055</td>\n",
              "      <td>1948.024129</td>\n",
              "      <td>1639.697019</td>\n",
              "      <td>2.898959</td>\n",
              "      <td>4</td>\n",
              "      <td>268.0</td>\n",
              "      <td>10.0</td>\n",
              "      <td>91.0</td>\n",
              "      <td>0.896077</td>\n",
              "    </tr>\n",
              "    <tr>\n",
              "      <th>7</th>\n",
              "      <td>384</td>\n",
              "      <td>757.755208</td>\n",
              "      <td>156.297509</td>\n",
              "      <td>5.168092</td>\n",
              "      <td>1348.734375</td>\n",
              "      <td>162.318779</td>\n",
              "      <td>6.400867</td>\n",
              "      <td>5</td>\n",
              "      <td>8.0</td>\n",
              "      <td>361.0</td>\n",
              "      <td>10.0</td>\n",
              "      <td>0.858830</td>\n",
              "    </tr>\n",
              "    <tr>\n",
              "      <th>8</th>\n",
              "      <td>112</td>\n",
              "      <td>1365.607143</td>\n",
              "      <td>945.558059</td>\n",
              "      <td>2.604198</td>\n",
              "      <td>3305.116071</td>\n",
              "      <td>1046.073790</td>\n",
              "      <td>3.044885</td>\n",
              "      <td>2</td>\n",
              "      <td>2.0</td>\n",
              "      <td>36.0</td>\n",
              "      <td>72.0</td>\n",
              "      <td>0.896741</td>\n",
              "    </tr>\n",
              "    <tr>\n",
              "      <th>9</th>\n",
              "      <td>212</td>\n",
              "      <td>1061.561321</td>\n",
              "      <td>563.184851</td>\n",
              "      <td>1.879929</td>\n",
              "      <td>1370.745283</td>\n",
              "      <td>293.410815</td>\n",
              "      <td>3.574951</td>\n",
              "      <td>3</td>\n",
              "      <td>25.0</td>\n",
              "      <td>64.0</td>\n",
              "      <td>120.0</td>\n",
              "      <td>0.953351</td>\n",
              "    </tr>\n",
              "    <tr>\n",
              "      <th>10</th>\n",
              "      <td>375</td>\n",
              "      <td>2603.053333</td>\n",
              "      <td>1166.844003</td>\n",
              "      <td>2.392702</td>\n",
              "      <td>2588.016000</td>\n",
              "      <td>1824.879343</td>\n",
              "      <td>1.359683</td>\n",
              "      <td>4</td>\n",
              "      <td>135.0</td>\n",
              "      <td>20.0</td>\n",
              "      <td>216.0</td>\n",
              "      <td>0.952802</td>\n",
              "    </tr>\n",
              "    <tr>\n",
              "      <th>11</th>\n",
              "      <td>384</td>\n",
              "      <td>468.973958</td>\n",
              "      <td>218.145984</td>\n",
              "      <td>2.389161</td>\n",
              "      <td>783.830729</td>\n",
              "      <td>250.847628</td>\n",
              "      <td>3.431568</td>\n",
              "      <td>4</td>\n",
              "      <td>165.0</td>\n",
              "      <td>27.0</td>\n",
              "      <td>188.0</td>\n",
              "      <td>0.897665</td>\n",
              "    </tr>\n",
              "    <tr>\n",
              "      <th>12</th>\n",
              "      <td>371</td>\n",
              "      <td>1478.663073</td>\n",
              "      <td>302.887567</td>\n",
              "      <td>5.063998</td>\n",
              "      <td>572.962264</td>\n",
              "      <td>156.411079</td>\n",
              "      <td>6.784759</td>\n",
              "      <td>5</td>\n",
              "      <td>319.0</td>\n",
              "      <td>NaN</td>\n",
              "      <td>47.0</td>\n",
              "      <td>0.952402</td>\n",
              "    </tr>\n",
              "    <tr>\n",
              "      <th>13</th>\n",
              "      <td>309</td>\n",
              "      <td>1458.689320</td>\n",
              "      <td>908.655679</td>\n",
              "      <td>2.348331</td>\n",
              "      <td>1700.964401</td>\n",
              "      <td>1391.228226</td>\n",
              "      <td>1.413938</td>\n",
              "      <td>4</td>\n",
              "      <td>134.0</td>\n",
              "      <td>2.0</td>\n",
              "      <td>169.0</td>\n",
              "      <td>0.949457</td>\n",
              "    </tr>\n",
              "    <tr>\n",
              "      <th>14</th>\n",
              "      <td>384</td>\n",
              "      <td>2747.588542</td>\n",
              "      <td>1401.570413</td>\n",
              "      <td>2.338244</td>\n",
              "      <td>4269.533854</td>\n",
              "      <td>1376.445936</td>\n",
              "      <td>1.816148</td>\n",
              "      <td>4</td>\n",
              "      <td>147.0</td>\n",
              "      <td>156.0</td>\n",
              "      <td>77.0</td>\n",
              "      <td>0.890903</td>\n",
              "    </tr>\n",
              "    <tr>\n",
              "      <th>15</th>\n",
              "      <td>384</td>\n",
              "      <td>1796.411458</td>\n",
              "      <td>2168.301656</td>\n",
              "      <td>2.497187</td>\n",
              "      <td>3445.104167</td>\n",
              "      <td>1572.385029</td>\n",
              "      <td>1.981931</td>\n",
              "      <td>9</td>\n",
              "      <td>109.0</td>\n",
              "      <td>18.0</td>\n",
              "      <td>248.0</td>\n",
              "      <td>0.894931</td>\n",
              "    </tr>\n",
              "    <tr>\n",
              "      <th>16</th>\n",
              "      <td>384</td>\n",
              "      <td>444.885417</td>\n",
              "      <td>328.795495</td>\n",
              "      <td>43.662968</td>\n",
              "      <td>2549.010417</td>\n",
              "      <td>422.197830</td>\n",
              "      <td>6.595914</td>\n",
              "      <td>8</td>\n",
              "      <td>4.0</td>\n",
              "      <td>4.0</td>\n",
              "      <td>368.0</td>\n",
              "      <td>0.926698</td>\n",
              "    </tr>\n",
              "    <tr>\n",
              "      <th>17</th>\n",
              "      <td>384</td>\n",
              "      <td>2706.635417</td>\n",
              "      <td>1582.636534</td>\n",
              "      <td>1.778407</td>\n",
              "      <td>2674.500000</td>\n",
              "      <td>1860.597939</td>\n",
              "      <td>1.441144</td>\n",
              "      <td>27</td>\n",
              "      <td>162.0</td>\n",
              "      <td>114.0</td>\n",
              "      <td>81.0</td>\n",
              "      <td>0.736624</td>\n",
              "    </tr>\n",
              "    <tr>\n",
              "      <th>18</th>\n",
              "      <td>384</td>\n",
              "      <td>2722.815104</td>\n",
              "      <td>1612.263853</td>\n",
              "      <td>1.687889</td>\n",
              "      <td>2955.989583</td>\n",
              "      <td>1345.681739</td>\n",
              "      <td>1.754622</td>\n",
              "      <td>7</td>\n",
              "      <td>185.0</td>\n",
              "      <td>11.0</td>\n",
              "      <td>181.0</td>\n",
              "      <td>0.921240</td>\n",
              "    </tr>\n",
              "    <tr>\n",
              "      <th>19</th>\n",
              "      <td>380</td>\n",
              "      <td>2071.052632</td>\n",
              "      <td>1101.308870</td>\n",
              "      <td>2.188385</td>\n",
              "      <td>1933.286842</td>\n",
              "      <td>883.582280</td>\n",
              "      <td>1.840788</td>\n",
              "      <td>5</td>\n",
              "      <td>104.0</td>\n",
              "      <td>192.0</td>\n",
              "      <td>79.0</td>\n",
              "      <td>0.900564</td>\n",
              "    </tr>\n",
              "  </tbody>\n",
              "</table>\n",
              "</div>"
            ],
            "text/plain": [
              "    qtde.ponto  mean.signalX   sd.signalX  ...     XY      Y  mean.silhouette\n",
              "0          384   2929.713542   983.267187  ...  167.0   94.0         0.916505\n",
              "1          384   1409.484375   525.140811  ...  189.0   99.0         0.891220\n",
              "2          382   2031.329843  2023.975889  ...   73.0  254.0         0.947689\n",
              "3          370   2900.078378  1278.838337  ...   10.0  185.0         0.954000\n",
              "4          384   2567.598958  1090.155787  ...  182.0   92.0         0.829513\n",
              "5          384   4270.281250  2030.633675  ...  221.0  124.0         0.419574\n",
              "6          373   2978.777480  1572.195225  ...   10.0   91.0         0.896077\n",
              "7          384    757.755208   156.297509  ...  361.0   10.0         0.858830\n",
              "8          112   1365.607143   945.558059  ...   36.0   72.0         0.896741\n",
              "9          212   1061.561321   563.184851  ...   64.0  120.0         0.953351\n",
              "10         375   2603.053333  1166.844003  ...   20.0  216.0         0.952802\n",
              "11         384    468.973958   218.145984  ...   27.0  188.0         0.897665\n",
              "12         371   1478.663073   302.887567  ...    NaN   47.0         0.952402\n",
              "13         309   1458.689320   908.655679  ...    2.0  169.0         0.949457\n",
              "14         384   2747.588542  1401.570413  ...  156.0   77.0         0.890903\n",
              "15         384   1796.411458  2168.301656  ...   18.0  248.0         0.894931\n",
              "16         384    444.885417   328.795495  ...    4.0  368.0         0.926698\n",
              "17         384   2706.635417  1582.636534  ...  114.0   81.0         0.736624\n",
              "18         384   2722.815104  1612.263853  ...   11.0  181.0         0.921240\n",
              "19         380   2071.052632  1101.308870  ...  192.0   79.0         0.900564\n",
              "\n",
              "[20 rows x 12 columns]"
            ]
          },
          "metadata": {
            "tags": []
          },
          "execution_count": 4
        }
      ]
    },
    {
      "cell_type": "code",
      "metadata": {
        "id": "zaYlIpBQbnhS",
        "colab_type": "code",
        "colab": {}
      },
      "source": [
        "\n",
        "# change the dtype to 'float64' \n",
        "features = features.astype('float64')\n",
        "featuresval = featuresval.astype('float64')\n",
        "\n",
        "# Substituição pela média para os clusters com NA\n",
        "features['X'].fillna(features['X'].mean(),inplace=True)\n",
        "features['XY'].fillna(features['XY'].mean(),inplace=True)\n",
        "features['Y'].fillna(features['XY'].mean(),inplace=True)\n",
        "\n",
        "\n",
        "\n",
        "# Substituição pela média para os clusters com NA\n",
        "featuresval['X'].fillna(featuresval['X'].mean(),inplace=True)\n",
        "featuresval['XY'].fillna(featuresval['XY'].mean(),inplace=True)\n",
        "featuresval['Y'].fillna(featuresval['XY'].mean(),inplace=True)\n"
      ],
      "execution_count": 0,
      "outputs": []
    },
    {
      "cell_type": "code",
      "metadata": {
        "id": "n7GIXgwgahwG",
        "colab_type": "code",
        "outputId": "4dd5b74e-ca03-466c-cb22-8cdb8aee0459",
        "colab": {
          "base_uri": "https://localhost:8080/",
          "height": 153
        }
      },
      "source": [
        "# Normalizando dados de treinamento = teste\n",
        "print(scaler.fit(features))\n",
        "\n",
        "features = scaler.transform(features)\n",
        "print(features)\n",
        "\n",
        "\n",
        "##  normalização antes\n",
        "scaler = MinMaxScaler() \n",
        "\n",
        "# Normalizando dados de validação para serem usados no Kaggle\n",
        "print(scaler.fit(featuresval))\n",
        "\n",
        "featuresval = scaler.transform(featuresval)\n",
        "\n",
        "print(featuresval)\n"
      ],
      "execution_count": 0,
      "outputs": [
        {
          "output_type": "stream",
          "text": [
            "MinMaxScaler(copy=True, feature_range=(0, 1))\n",
            "[[1.         0.35069271 0.23304664 ... 0.43799472 0.24538259 0.95914333]\n",
            " [1.         0.1887101  0.1238514  ... 0.49604222 0.2585752  0.94168467]\n",
            " [0.99468085 0.25496863 0.48110143 ... 0.18997361 0.66754617 0.98067533]\n",
            " ...\n",
            " [0.99468085 0.4790201  0.57176292 ... 0.11609499 0.3298153  0.9492964 ]\n",
            " [1.         0.15521992 0.13268455 ... 0.02902375 0.49076517 0.98217308]\n",
            " [0.98670213 0.40946428 0.43198796 ... 0.55145119 0.2348285  0.94488508]]\n"
          ],
          "name": "stdout"
        }
      ]
    },
    {
      "cell_type": "code",
      "metadata": {
        "id": "Ncae-AVjPprX",
        "colab_type": "code",
        "colab": {}
      },
      "source": [
        "# Separação de features e label para serem utilizadas em modelos\n",
        "# separando o array em para 25% para teste com os dados de treinamento.\n",
        "\n",
        "X_train, X_test, y_train, y_test = train_test_split(features, labelTrain, test_size=0.25, random_state=10)\n",
        "\n"
      ],
      "execution_count": 0,
      "outputs": []
    },
    {
      "cell_type": "markdown",
      "metadata": {
        "id": "Oy2mGv3n5433",
        "colab_type": "text"
      },
      "source": [
        "Primeiro Modelo KNN"
      ]
    },
    {
      "cell_type": "code",
      "metadata": {
        "id": "pSnIZR7b1a2I",
        "colab_type": "code",
        "outputId": "9d9987e0-bc6e-4306-8fb7-950303b8e0ec",
        "colab": {
          "base_uri": "https://localhost:8080/",
          "height": 241
        }
      },
      "source": [
        "# Search for an optimal value of K for KNN\n",
        "k_range = [1,3,5,7,11,13,17,19,23,29,31]\n",
        "k_scores = []\n",
        "for k in k_range:\n",
        "  clf = neighbors.KNeighborsRegressor(n_neighbors=k)\n",
        "  scores = cross_val_score(clf, X_train, y_train, cv = 10, scoring = 'neg_mean_squared_error') # não encontrei rmse direto\n",
        "  k_scores.append(scores.mean())\n",
        "  print(k)\n",
        "print(k_scores)\n",
        "  \n",
        "  \n",
        "  # Para k = 7 apresentou melhor valor \n",
        "  "
      ],
      "execution_count": 0,
      "outputs": [
        {
          "output_type": "stream",
          "text": [
            "1\n",
            "3\n",
            "5\n",
            "7\n",
            "11\n",
            "13\n",
            "17\n",
            "19\n",
            "23\n",
            "29\n",
            "31\n",
            "[-0.08462996431326059, -0.060970033359571574, -0.05744442456110636, -0.056928566060806464, -0.05740667640186954, -0.05775505297510408, -0.05868360639566457, -0.05909398843847539, -0.05985399123543207, -0.0609149963117228, -0.06129042933101282]\n"
          ],
          "name": "stdout"
        }
      ]
    },
    {
      "cell_type": "code",
      "metadata": {
        "id": "sg5bjxRlQewi",
        "colab_type": "code",
        "outputId": "0b4eb65e-66d1-4d47-a9c6-f1daf14f4b64",
        "colab": {
          "base_uri": "https://localhost:8080/",
          "height": 71
        }
      },
      "source": [
        "# Cálculos para transformar na métrica em comum rmse\n",
        "k_scores = [(x * -1 ) for x in k_scores]\n",
        "print(k_scores)\n"
      ],
      "execution_count": 0,
      "outputs": [
        {
          "output_type": "stream",
          "text": [
            "[0.08462996431326059, 0.060970033359571574, 0.05744442456110636, 0.056928566060806464, 0.05740667640186954, 0.05775505297510408, 0.05868360639566457, 0.05909398843847539, 0.05985399123543207, 0.0609149963117228, 0.06129042933101282]\n",
            "[-0.08462996431326059, -0.060970033359571574, -0.05744442456110636, -0.056928566060806464, -0.05740667640186954, -0.05775505297510408, -0.05868360639566457, -0.05909398843847539, -0.05985399123543207, -0.0609149963117228, -0.06129042933101282]\n"
          ],
          "name": "stdout"
        }
      ]
    },
    {
      "cell_type": "code",
      "metadata": {
        "id": "UYhABNVsRsc2",
        "colab_type": "code",
        "outputId": "23f9e5ab-abb9-422f-ce3e-e3b4b48ff477",
        "colab": {
          "base_uri": "https://localhost:8080/",
          "height": 34
        }
      },
      "source": [
        "# raíz do menor erro\n",
        "\n",
        "print(sqrt(0.056928566060806464))"
      ],
      "execution_count": 0,
      "outputs": [
        {
          "output_type": "stream",
          "text": [
            "0.23859707890250137\n"
          ],
          "name": "stdout"
        }
      ]
    },
    {
      "cell_type": "code",
      "metadata": {
        "id": "XeOiWzM8N0T5",
        "colab_type": "code",
        "outputId": "0b1291db-0607-4578-ba14-49167ece68bd",
        "colab": {
          "base_uri": "https://localhost:8080/",
          "height": 714
        }
      },
      "source": [
        "# Comando para validação de parâmetros de scorers.\n",
        "#import sklearn \n",
        "#sorted(sklearn.metrics.SCORERS.keys())"
      ],
      "execution_count": 0,
      "outputs": [
        {
          "output_type": "execute_result",
          "data": {
            "text/plain": [
              "['accuracy',\n",
              " 'adjusted_mutual_info_score',\n",
              " 'adjusted_rand_score',\n",
              " 'average_precision',\n",
              " 'balanced_accuracy',\n",
              " 'brier_score_loss',\n",
              " 'completeness_score',\n",
              " 'explained_variance',\n",
              " 'f1',\n",
              " 'f1_macro',\n",
              " 'f1_micro',\n",
              " 'f1_samples',\n",
              " 'f1_weighted',\n",
              " 'fowlkes_mallows_score',\n",
              " 'homogeneity_score',\n",
              " 'jaccard',\n",
              " 'jaccard_macro',\n",
              " 'jaccard_micro',\n",
              " 'jaccard_samples',\n",
              " 'jaccard_weighted',\n",
              " 'max_error',\n",
              " 'mutual_info_score',\n",
              " 'neg_log_loss',\n",
              " 'neg_mean_absolute_error',\n",
              " 'neg_mean_squared_error',\n",
              " 'neg_mean_squared_log_error',\n",
              " 'neg_median_absolute_error',\n",
              " 'normalized_mutual_info_score',\n",
              " 'precision',\n",
              " 'precision_macro',\n",
              " 'precision_micro',\n",
              " 'precision_samples',\n",
              " 'precision_weighted',\n",
              " 'r2',\n",
              " 'recall',\n",
              " 'recall_macro',\n",
              " 'recall_micro',\n",
              " 'recall_samples',\n",
              " 'recall_weighted',\n",
              " 'roc_auc',\n",
              " 'v_measure_score']"
            ]
          },
          "metadata": {
            "tags": []
          },
          "execution_count": 36
        }
      ]
    },
    {
      "cell_type": "code",
      "metadata": {
        "id": "v6fMIS2k6STC",
        "colab_type": "code",
        "colab": {}
      },
      "source": [
        "# plot the value k for KNN (x-axis) versus the cross-validated accuracy (y-axis)\n",
        "plt.plot(k_range, k_scores)\n",
        "plt.xlabel('Value of K for KNN')\n",
        "plt.ylabel('cross-validated accuracy')"
      ],
      "execution_count": 0,
      "outputs": []
    },
    {
      "cell_type": "code",
      "metadata": {
        "id": "irb7-KA6AR-W",
        "colab_type": "code",
        "outputId": "00cdd4f9-0f86-4c2c-82e7-8d01c09cfe84",
        "colab": {
          "base_uri": "https://localhost:8080/",
          "height": 68
        }
      },
      "source": [
        "# Comando para identricar os hiperparâmetros utilizados \n",
        "print(clf)"
      ],
      "execution_count": 0,
      "outputs": [
        {
          "output_type": "stream",
          "text": [
            "KNeighborsRegressor(algorithm='auto', leaf_size=30, metric='minkowski',\n",
            "                    metric_params=None, n_jobs=None, n_neighbors=20, p=2,\n",
            "                    weights='uniform')\n"
          ],
          "name": "stdout"
        }
      ]
    },
    {
      "cell_type": "code",
      "metadata": {
        "id": "CIYl9SH5_vXY",
        "colab_type": "code",
        "colab": {}
      },
      "source": [
        ""
      ],
      "execution_count": 0,
      "outputs": []
    },
    {
      "cell_type": "markdown",
      "metadata": {
        "id": "6WUMVZ6p6gqY",
        "colab_type": "text"
      },
      "source": [
        "Old - testes anteriores sem cross validation e sem ver melhor número de n-neighbors, com base nos clusters (análise errada)\n",
        "Dica de João Pedro sem número ímpar por desempate."
      ]
    },
    {
      "cell_type": "code",
      "metadata": {
        "id": "1QXF4OsNjy0N",
        "colab_type": "code",
        "colab": {}
      },
      "source": [
        "# Primeira versão \n",
        "# classsifiers KNN\n",
        "\n",
        "clf = neighbors.KNeighborsRegressor(n_neighbors=4)\n",
        "clf.fit(X_train , y_train)\n",
        "\n",
        "# Validando com 25 % dos dados de treinametno.... E após fazer a validação com os dados de teste (20.000), atenção normalizar antes ...\n",
        "y_pred = clf.predict(X_test)\n"
      ],
      "execution_count": 0,
      "outputs": []
    },
    {
      "cell_type": "code",
      "metadata": {
        "id": "Vok0XVxyY_Md",
        "colab_type": "code",
        "outputId": "eec7d9e2-372c-4d10-ec78-ebf4e6ab3255",
        "colab": {
          "base_uri": "https://localhost:8080/",
          "height": 34
        }
      },
      "source": [
        "\n",
        "\n",
        "accuracy = clf.score(X_test, y_test)\n",
        "print(accuracy)\n",
        "# ou\n",
        "\n",
        "print metrics.accuracy_score(y_test, ypred)\n",
        "\n"
      ],
      "execution_count": 0,
      "outputs": [
        {
          "output_type": "stream",
          "text": [
            "0.48201400851719145\n"
          ],
          "name": "stdout"
        }
      ]
    },
    {
      "cell_type": "code",
      "metadata": {
        "id": "MpHrd-GmAxmi",
        "colab_type": "code",
        "outputId": "7f908ee9-1587-4fa0-adab-0f7d6fcaa2df",
        "colab": {
          "base_uri": "https://localhost:8080/",
          "height": 34
        }
      },
      "source": [
        "rmse = sqrt(mean_squared_error(y_pred, y_test))\n",
        "print (rmse)"
      ],
      "execution_count": 0,
      "outputs": [
        {
          "output_type": "stream",
          "text": [
            "0.242298889493992\n"
          ],
          "name": "stdout"
        }
      ]
    },
    {
      "cell_type": "code",
      "metadata": {
        "id": "D1nBP0HpBbCH",
        "colab_type": "code",
        "outputId": "af4b204d-77d2-49dd-aeb1-bdc0f04f66fb",
        "colab": {
          "base_uri": "https://localhost:8080/",
          "height": 255
        }
      },
      "source": [
        "#Fazer testes no site do kaggle\n",
        "\n",
        "Xval = featuresval\n",
        "print(Xval)\n",
        "# Estes dados associar ao Teste - ScatterPlotId  & este score e confirmar no site...\n",
        "y_predVal = clf.predict(Xval)\n",
        "print(y_predVal)"
      ],
      "execution_count": 0,
      "outputs": [
        {
          "output_type": "stream",
          "text": [
            "[[1.         0.35069271 0.23304664 ... 0.43799472 0.24538259 0.95914333]\n",
            " [1.         0.1887101  0.1238514  ... 0.49604222 0.2585752  0.94168467]\n",
            " [0.99468085 0.25496863 0.48110143 ... 0.18997361 0.66754617 0.98067533]\n",
            " ...\n",
            " [0.99468085 0.4790201  0.57176292 ... 0.11609499 0.3298153  0.9492964 ]\n",
            " [1.         0.15521992 0.13268455 ... 0.02902375 0.49076517 0.98217308]\n",
            " [0.98670213 0.40946428 0.43198796 ... 0.55145119 0.2348285  0.94488508]]\n",
            "[[0.74665188]\n",
            " [0.78771325]\n",
            " [0.90561481]\n",
            " ...\n",
            " [0.77932236]\n",
            " [0.90898727]\n",
            " [0.34416327]]\n"
          ],
          "name": "stdout"
        }
      ]
    },
    {
      "cell_type": "markdown",
      "metadata": {
        "id": "dI-cAGGg6wWv",
        "colab_type": "text"
      },
      "source": [
        "Salvar o CSV e avaliar via Kaggle"
      ]
    },
    {
      "cell_type": "code",
      "metadata": {
        "id": "pLw-DoLyIEMw",
        "colab_type": "code",
        "outputId": "f3039c35-bec7-481f-ddf6-61baab19d054",
        "colab": {
          "base_uri": "https://localhost:8080/",
          "height": 300
        }
      },
      "source": [
        "# rever os comandos, primeiro necessário autenticação com drive e late submission.\n",
        "from google.colab import files\n",
        "files.download(\"dataset.csv\")"
      ],
      "execution_count": 0,
      "outputs": [
        {
          "output_type": "error",
          "ename": "FileNotFoundError",
          "evalue": "ignored",
          "traceback": [
            "\u001b[0;31m---------------------------------------------------------------------------\u001b[0m",
            "\u001b[0;31mFileNotFoundError\u001b[0m                         Traceback (most recent call last)",
            "\u001b[0;32m<ipython-input-72-23441225886d>\u001b[0m in \u001b[0;36m<module>\u001b[0;34m()\u001b[0m\n\u001b[1;32m      1\u001b[0m \u001b[0;32mfrom\u001b[0m \u001b[0mgoogle\u001b[0m\u001b[0;34m.\u001b[0m\u001b[0mcolab\u001b[0m \u001b[0;32mimport\u001b[0m \u001b[0mfiles\u001b[0m\u001b[0;34m\u001b[0m\u001b[0;34m\u001b[0m\u001b[0m\n\u001b[0;32m----> 2\u001b[0;31m \u001b[0mfiles\u001b[0m\u001b[0;34m.\u001b[0m\u001b[0mdownload\u001b[0m\u001b[0;34m(\u001b[0m\u001b[0;34m\"dataset.csv\"\u001b[0m\u001b[0;34m)\u001b[0m\u001b[0;34m\u001b[0m\u001b[0;34m\u001b[0m\u001b[0m\n\u001b[0m",
            "\u001b[0;32m/usr/local/lib/python3.6/dist-packages/google/colab/files.py\u001b[0m in \u001b[0;36mdownload\u001b[0;34m(filename)\u001b[0m\n\u001b[1;32m    142\u001b[0m       \u001b[0;32mraise\u001b[0m \u001b[0mOSError\u001b[0m\u001b[0;34m(\u001b[0m\u001b[0mmsg\u001b[0m\u001b[0;34m)\u001b[0m\u001b[0;34m\u001b[0m\u001b[0;34m\u001b[0m\u001b[0m\n\u001b[1;32m    143\u001b[0m     \u001b[0;32melse\u001b[0m\u001b[0;34m:\u001b[0m\u001b[0;34m\u001b[0m\u001b[0;34m\u001b[0m\u001b[0m\n\u001b[0;32m--> 144\u001b[0;31m       \u001b[0;32mraise\u001b[0m \u001b[0mFileNotFoundError\u001b[0m\u001b[0;34m(\u001b[0m\u001b[0mmsg\u001b[0m\u001b[0;34m)\u001b[0m  \u001b[0;31m# pylint: disable=undefined-variable\u001b[0m\u001b[0;34m\u001b[0m\u001b[0;34m\u001b[0m\u001b[0m\n\u001b[0m\u001b[1;32m    145\u001b[0m \u001b[0;34m\u001b[0m\u001b[0m\n\u001b[1;32m    146\u001b[0m   \u001b[0mstarted\u001b[0m \u001b[0;34m=\u001b[0m \u001b[0m_threading\u001b[0m\u001b[0;34m.\u001b[0m\u001b[0mEvent\u001b[0m\u001b[0;34m(\u001b[0m\u001b[0;34m)\u001b[0m\u001b[0;34m\u001b[0m\u001b[0;34m\u001b[0m\u001b[0m\n",
            "\u001b[0;31mFileNotFoundError\u001b[0m: Cannot find file: dataset.csv"
          ]
        }
      ]
    },
    {
      "cell_type": "markdown",
      "metadata": {
        "id": "7wDuJcOyr7qk",
        "colab_type": "text"
      },
      "source": [
        "## Testes com Decision Tree Regressor\n",
        "\n",
        "  "
      ]
    },
    {
      "cell_type": "code",
      "metadata": {
        "id": "WKo6QizZRFRM",
        "colab_type": "code",
        "outputId": "e87b72e4-0acc-40c8-ea6f-8fc652cb255e",
        "colab": {
          "base_uri": "https://localhost:8080/",
          "height": 153
        }
      },
      "source": [
        "# Tuning de Hiperparâmetros da árvore\n",
        "#Regressor\n",
        "\n",
        "\n",
        "\n",
        "maxdepth = [3,5,7,11,13,17,19]\n",
        "k_scores = []\n",
        "for k in maxdepth:\n",
        "  clf = tree.DecisionTreeRegressor(max_depth = k) # k = 11 (melhor predição)\n",
        "  scores = cross_val_score(clf, X_train, y_train, cv = 10, scoring = 'neg_mean_squared_error') \n",
        "  k_scores.append(scores.mean())\n",
        "  print(k)\n",
        "print(k_scores)\n",
        "\n",
        "# K = 11 menor valor"
      ],
      "execution_count": 0,
      "outputs": [
        {
          "output_type": "stream",
          "text": [
            "3\n",
            "5\n",
            "7\n",
            "11\n",
            "13\n",
            "17\n",
            "19\n",
            "[-0.07406641120227511, -0.06545673238453882, -0.059307252791411136, -0.05502900820528511, -0.05785115610332621, -0.06919593864859323, -0.07337242930702262]\n"
          ],
          "name": "stdout"
        }
      ]
    },
    {
      "cell_type": "code",
      "metadata": {
        "id": "8xZgkWhMUwfT",
        "colab_type": "code",
        "outputId": "bc9b73ef-7e06-4204-bd97-7b087f6bd842",
        "colab": {
          "base_uri": "https://localhost:8080/",
          "height": 34
        }
      },
      "source": [
        "# somente o rmse com base no melhor parâmetro neg mean squared error\n",
        "print(sqrt(0.05502900820528511))"
      ],
      "execution_count": 0,
      "outputs": [
        {
          "output_type": "stream",
          "text": [
            "0.23458262554009646\n"
          ],
          "name": "stdout"
        }
      ]
    },
    {
      "cell_type": "code",
      "metadata": {
        "id": "yrdRNkRrRN4T",
        "colab_type": "code",
        "outputId": "036eeb28-9957-42b0-9315-2646066bf583",
        "colab": {
          "base_uri": "https://localhost:8080/",
          "height": 51
        }
      },
      "source": [
        "# Regressor\n",
        "\n",
        "clf = tree.DecisionTreeRegressor(max_depth = 11)\n",
        "\n",
        "clf.fit(X_train , y_train)\n",
        "\n",
        "y_pred = clf.predict(X_test)\n",
        "\n",
        "print(y_pred)\n",
        "\n",
        "rmse = sqrt(mean_squared_error(y_pred, y_test))\n",
        "print (rmse)"
      ],
      "execution_count": 0,
      "outputs": [
        {
          "output_type": "stream",
          "text": [
            "[0.77219937 0.83431929 0.14461588 ... 0.66893977 0.94592516 0.91619821]\n",
            "0.23311026258173664\n"
          ],
          "name": "stdout"
        }
      ]
    },
    {
      "cell_type": "markdown",
      "metadata": {
        "id": "ClIj5MMn7mkI",
        "colab_type": "text"
      },
      "source": [
        "Testes com MLP Regressor"
      ]
    },
    {
      "cell_type": "code",
      "metadata": {
        "id": "QlQUYi51VqQY",
        "colab_type": "code",
        "colab": {}
      },
      "source": [
        "# https://scikit-learn.org/stable/auto_examples/inspection/plot_partial_dependence.html#sphx-glr-auto-examples-inspection-plot-partial-dependence-py\n",
        "from sklearn.neural_network import MLPRegressor\n",
        "nn=MLPRegressor(activation='relu',solver='sgd',hidden_layer_sizes=(10,15),random_state=1)"
      ],
      "execution_count": 0,
      "outputs": []
    },
    {
      "cell_type": "code",
      "metadata": {
        "id": "t6MwHG_QVqzZ",
        "colab_type": "code",
        "colab": {}
      },
      "source": [
        ""
      ],
      "execution_count": 0,
      "outputs": []
    },
    {
      "cell_type": "markdown",
      "metadata": {
        "id": "hzxxj3d87uEw",
        "colab_type": "text"
      },
      "source": [
        "Testes com SVR"
      ]
    },
    {
      "cell_type": "markdown",
      "metadata": {
        "id": "x8IkxTrp7wOp",
        "colab_type": "text"
      },
      "source": [
        "Testes com Ensemble"
      ]
    }
  ]
}