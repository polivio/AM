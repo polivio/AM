{
  "nbformat": 4,
  "nbformat_minor": 0,
  "metadata": {
    "kernelspec": {
      "display_name": "Python 3",
      "language": "python",
      "name": "python3"
    },
    "language_info": {
      "codemirror_mode": {
        "name": "ipython",
        "version": 3
      },
      "file_extension": ".py",
      "mimetype": "text/x-python",
      "name": "python",
      "nbconvert_exporter": "python",
      "pygments_lexer": "ipython3",
      "version": "3.7.3"
    },
    "colab": {
      "name": "KNN_example (8).ipynb",
      "provenance": [],
      "include_colab_link": true
    }
  },
  "cells": [
    {
      "cell_type": "markdown",
      "metadata": {
        "id": "view-in-github",
        "colab_type": "text"
      },
      "source": [
        "<a href=\"https://colab.research.google.com/github/polivio/AM/blob/master/KDD_BR_Rel3l.ipynb\" target=\"_parent\"><img src=\"https://colab.research.google.com/assets/colab-badge.svg\" alt=\"Open In Colab\"/></a>"
      ]
    },
    {
      "cell_type": "code",
      "metadata": {
        "id": "-cEOVgL9jy0C",
        "colab_type": "code",
        "colab": {}
      },
      "source": [
        "# https://www.kaggle.com/c/kddbr-2019/data\n",
        "\n",
        "# KNN KDD BR -Polivio\n",
        "import numpy as np\n",
        "from sklearn import preprocessing, neighbors\n",
        "import pandas as pd\n",
        "import matplotlib.pyplot as plt\n",
        "from sklearn.model_selection import train_test_split\n",
        "\n",
        "\n",
        "# auxílio para métricas\n",
        "from sklearn.model_selection import cross_val_score\n",
        "from sklearn.metrics import mean_squared_error\n",
        "from math import sqrt\n",
        "from sklearn import metrics # https://youtu.be/6dbrR-WymjI\n",
        "from sklearn.preprocessing import MinMaxScaler\n",
        "\n",
        "#modelos\n",
        "from sklearn import tree\n",
        "from sklearn.tree import DecisionTreeRegressor\n",
        "\n",
        "\n",
        "# Normalização\n",
        "from sklearn.preprocessing import MinMaxScaler"
      ],
      "execution_count": 0,
      "outputs": []
    },
    {
      "cell_type": "code",
      "metadata": {
        "id": "FyyXDD24jy0H",
        "colab_type": "code",
        "colab": {}
      },
      "source": [
        "# preprocessing # blob # raw\n",
        "train = pd.read_csv('https://github.com/polivio/PEE/raw/master/Training_grouped.csv')\n",
        "test = pd.read_csv('https://github.com/polivio/PEE/raw/master/Test_grouped.csv')\n",
        "\n"
      ],
      "execution_count": 0,
      "outputs": []
    },
    {
      "cell_type": "code",
      "metadata": {
        "id": "eAPf1EwfNgg_",
        "colab_type": "code",
        "outputId": "7e47745f-9f00-4cb7-fc56-d2952a975b25",
        "colab": {
          "base_uri": "https://localhost:8080/",
          "height": 204
        }
      },
      "source": [
        "# separando o id, features e label para preprocessamento\n",
        "idTrain = train.loc[:,['traininglabelorder.scatterplotID']]\n",
        "features = train.loc[:,['qtde.ponto', \n",
        "       'mean.signalX', 'sd.signalX', 'kurtosis.signalX',\n",
        "      'mean.signalY', 'sd.signalY', \n",
        "       'kurtosis.signalY', 'L', 'X', 'XY', 'Y',\n",
        "       'mean.silhouette' ]]\n",
        "\n",
        "labelTrain = train.loc[:,['traininglabelorder.score']]\n",
        "\n",
        "features.head()"
      ],
      "execution_count": 44,
      "outputs": [
        {
          "output_type": "execute_result",
          "data": {
            "text/html": [
              "<div>\n",
              "<style scoped>\n",
              "    .dataframe tbody tr th:only-of-type {\n",
              "        vertical-align: middle;\n",
              "    }\n",
              "\n",
              "    .dataframe tbody tr th {\n",
              "        vertical-align: top;\n",
              "    }\n",
              "\n",
              "    .dataframe thead th {\n",
              "        text-align: right;\n",
              "    }\n",
              "</style>\n",
              "<table border=\"1\" class=\"dataframe\">\n",
              "  <thead>\n",
              "    <tr style=\"text-align: right;\">\n",
              "      <th></th>\n",
              "      <th>qtde.ponto</th>\n",
              "      <th>mean.signalX</th>\n",
              "      <th>sd.signalX</th>\n",
              "      <th>kurtosis.signalX</th>\n",
              "      <th>mean.signalY</th>\n",
              "      <th>sd.signalY</th>\n",
              "      <th>kurtosis.signalY</th>\n",
              "      <th>L</th>\n",
              "      <th>X</th>\n",
              "      <th>XY</th>\n",
              "      <th>Y</th>\n",
              "      <th>mean.silhouette</th>\n",
              "    </tr>\n",
              "  </thead>\n",
              "  <tbody>\n",
              "    <tr>\n",
              "      <th>0</th>\n",
              "      <td>365</td>\n",
              "      <td>3164.835616</td>\n",
              "      <td>804.757625</td>\n",
              "      <td>3.516731</td>\n",
              "      <td>1586.430137</td>\n",
              "      <td>568.651580</td>\n",
              "      <td>3.170632</td>\n",
              "      <td>4</td>\n",
              "      <td>92.0</td>\n",
              "      <td>269.0</td>\n",
              "      <td>NaN</td>\n",
              "      <td>0.840146</td>\n",
              "    </tr>\n",
              "    <tr>\n",
              "      <th>1</th>\n",
              "      <td>384</td>\n",
              "      <td>1737.776042</td>\n",
              "      <td>944.798845</td>\n",
              "      <td>2.475172</td>\n",
              "      <td>2999.940104</td>\n",
              "      <td>1716.790542</td>\n",
              "      <td>2.195067</td>\n",
              "      <td>4</td>\n",
              "      <td>82.0</td>\n",
              "      <td>49.0</td>\n",
              "      <td>249.0</td>\n",
              "      <td>0.964427</td>\n",
              "    </tr>\n",
              "    <tr>\n",
              "      <th>2</th>\n",
              "      <td>373</td>\n",
              "      <td>1139.621984</td>\n",
              "      <td>866.460225</td>\n",
              "      <td>1.922726</td>\n",
              "      <td>1836.640751</td>\n",
              "      <td>950.478945</td>\n",
              "      <td>1.436889</td>\n",
              "      <td>4</td>\n",
              "      <td>156.0</td>\n",
              "      <td>7.0</td>\n",
              "      <td>206.0</td>\n",
              "      <td>0.936210</td>\n",
              "    </tr>\n",
              "    <tr>\n",
              "      <th>3</th>\n",
              "      <td>384</td>\n",
              "      <td>3609.692708</td>\n",
              "      <td>1808.877599</td>\n",
              "      <td>1.985210</td>\n",
              "      <td>2469.164062</td>\n",
              "      <td>1219.231193</td>\n",
              "      <td>1.913381</td>\n",
              "      <td>4</td>\n",
              "      <td>100.0</td>\n",
              "      <td>190.0</td>\n",
              "      <td>90.0</td>\n",
              "      <td>0.896070</td>\n",
              "    </tr>\n",
              "    <tr>\n",
              "      <th>4</th>\n",
              "      <td>383</td>\n",
              "      <td>1867.203655</td>\n",
              "      <td>938.232021</td>\n",
              "      <td>2.176598</td>\n",
              "      <td>2180.908616</td>\n",
              "      <td>1515.205489</td>\n",
              "      <td>1.155226</td>\n",
              "      <td>4</td>\n",
              "      <td>176.0</td>\n",
              "      <td>2.0</td>\n",
              "      <td>201.0</td>\n",
              "      <td>0.952810</td>\n",
              "    </tr>\n",
              "  </tbody>\n",
              "</table>\n",
              "</div>"
            ],
            "text/plain": [
              "   qtde.ponto  mean.signalX   sd.signalX  ...     XY      Y  mean.silhouette\n",
              "0         365   3164.835616   804.757625  ...  269.0    NaN         0.840146\n",
              "1         384   1737.776042   944.798845  ...   49.0  249.0         0.964427\n",
              "2         373   1139.621984   866.460225  ...    7.0  206.0         0.936210\n",
              "3         384   3609.692708  1808.877599  ...  190.0   90.0         0.896070\n",
              "4         383   1867.203655   938.232021  ...    2.0  201.0         0.952810\n",
              "\n",
              "[5 rows x 12 columns]"
            ]
          },
          "metadata": {
            "tags": []
          },
          "execution_count": 44
        }
      ]
    },
    {
      "cell_type": "code",
      "metadata": {
        "id": "WUuBhRxuf6pa",
        "colab_type": "code",
        "colab": {}
      },
      "source": [
        "idVal = test.loc[:,['testorder.ID']]\n",
        "featuresval = test.loc[:,[ 'qtde.ponto', \n",
        "       'mean.signalX', 'sd.signalX', 'kurtosis.signalX',\n",
        "      'mean.signalY', 'sd.signalY', \n",
        "       'kurtosis.signalY', 'L', 'X', 'XY', 'Y',\n",
        "       'mean.silhouette']]\n",
        "\n",
        "#featuresval.head()"
      ],
      "execution_count": 0,
      "outputs": []
    },
    {
      "cell_type": "code",
      "metadata": {
        "id": "zaYlIpBQbnhS",
        "colab_type": "code",
        "colab": {}
      },
      "source": [
        "\n",
        "# change the dtype to 'float64' \n",
        "features = features.astype('float64')\n",
        "featuresval = featuresval.astype('float64')\n",
        "\n",
        "# Substituição pela média para os clusters com NA\n",
        "features['X'].fillna(features['X'].mean(),inplace=True)\n",
        "features['XY'].fillna(features['XY'].mean(),inplace=True)\n",
        "features['Y'].fillna(features['XY'].mean(),inplace=True)\n",
        "\n",
        "\n",
        "\n",
        "# Substituição pela média para os clusters com NA\n",
        "featuresval['X'].fillna(featuresval['X'].mean(),inplace=True)\n",
        "featuresval['XY'].fillna(featuresval['XY'].mean(),inplace=True)\n",
        "featuresval['Y'].fillna(featuresval['XY'].mean(),inplace=True)\n"
      ],
      "execution_count": 0,
      "outputs": []
    },
    {
      "cell_type": "code",
      "metadata": {
        "id": "n7GIXgwgahwG",
        "colab_type": "code",
        "outputId": "401f8e8e-ab8f-447e-bdeb-56e4e0308bd8",
        "colab": {
          "base_uri": "https://localhost:8080/",
          "height": 153
        }
      },
      "source": [
        "\n",
        "from sklearn.preprocessing import MinMaxScaler\n",
        "\n",
        "##  normalização antes\n",
        "scaler = MinMaxScaler() \n",
        "\n",
        "# Normalizando dados de validação para serem usados no Kaggle\n",
        "print(scaler.fit(featuresval))\n",
        "\n",
        "featuresval = scaler.transform(featuresval)\n",
        "\n",
        "print(featuresval)\n"
      ],
      "execution_count": 47,
      "outputs": [
        {
          "output_type": "stream",
          "text": [
            "MinMaxScaler(copy=True, feature_range=(0, 1))\n",
            "[[1.         0.35069271 0.23304664 ... 0.43799472 0.24538259 0.95914333]\n",
            " [1.         0.1887101  0.1238514  ... 0.49604222 0.2585752  0.94168467]\n",
            " [0.99468085 0.25496863 0.48110143 ... 0.18997361 0.66754617 0.98067533]\n",
            " ...\n",
            " [0.99468085 0.4790201  0.57176292 ... 0.11609499 0.3298153  0.9492964 ]\n",
            " [1.         0.15521992 0.13268455 ... 0.02902375 0.49076517 0.98217308]\n",
            " [0.98670213 0.40946428 0.43198796 ... 0.55145119 0.2348285  0.94488508]]\n"
          ],
          "name": "stdout"
        }
      ]
    },
    {
      "cell_type": "code",
      "metadata": {
        "id": "Ncae-AVjPprX",
        "colab_type": "code",
        "colab": {}
      },
      "source": [
        "# Separação de features e label para serem utilizadas em modelos\n",
        "# separando o array em para 25% para teste com os dados de treinamento.\n",
        "\n",
        "X_train, X_test, y_train, y_test = train_test_split(features, labelTrain, test_size=0.25, random_state=10)\n",
        "\n"
      ],
      "execution_count": 0,
      "outputs": []
    },
    {
      "cell_type": "code",
      "metadata": {
        "id": "NSU_iJihCAXF",
        "colab_type": "code",
        "colab": {
          "base_uri": "https://localhost:8080/",
          "height": 391
        },
        "outputId": "8609ef6c-9a7a-44a2-f9b9-2f1f80ab9d4a"
      },
      "source": [
        "# testes:\n",
        "X_train.boxplot(figsize=(20,6))"
      ],
      "execution_count": 50,
      "outputs": [
        {
          "output_type": "execute_result",
          "data": {
            "text/plain": [
              "<matplotlib.axes._subplots.AxesSubplot at 0x7fe0fcfa02b0>"
            ]
          },
          "metadata": {
            "tags": []
          },
          "execution_count": 50
        },
        {
          "output_type": "display_data",
          "data": {
            "image/png": "[encoded data removed]",
            "text/plain": [
              "<Figure size 1440x432 with 1 Axes>"
            ]
          },
          "metadata": {
            "tags": []
          }
        }
      ]
    },
    {
      "cell_type": "markdown",
      "metadata": {
        "id": "Oy2mGv3n5433",
        "colab_type": "text"
      },
      "source": [
        "Primeiro Modelo KNN"
      ]
    },
    {
      "cell_type": "code",
      "metadata": {
        "id": "pSnIZR7b1a2I",
        "colab_type": "code",
        "outputId": "9d9987e0-bc6e-4306-8fb7-950303b8e0ec",
        "colab": {
          "base_uri": "https://localhost:8080/",
          "height": 241
        }
      },
      "source": [
        "# Dicas João Paulo e João Pedro, usar GridSearch com CV! ao invés de for .... \n",
        "# Search for an optimal value of K for KNN\n",
        "k_range = [1,3,5,7,11,13,17,19,23,29,31]\n",
        "k_scores = []\n",
        "for k in k_range:\n",
        "  clf = neighbors.KNeighborsRegressor(n_neighbors=k)\n",
        "  scores = cross_val_score(clf, X_train, y_train, cv = 10, scoring = 'neg_mean_squared_error') # não encontrei rmse direto\n",
        "  k_scores.append(scores.mean())\n",
        "  print(k)\n",
        "print(k_scores)\n",
        "  \n",
        "  \n",
        "  # Para k = 7 apresentou melhor valor \n",
        "  "
      ],
      "execution_count": 0,
      "outputs": [
        {
          "output_type": "stream",
          "text": [
            "1\n",
            "3\n",
            "5\n",
            "7\n",
            "11\n",
            "13\n",
            "17\n",
            "19\n",
            "23\n",
            "29\n",
            "31\n",
            "[-0.08462996431326059, -0.060970033359571574, -0.05744442456110636, -0.056928566060806464, -0.05740667640186954, -0.05775505297510408, -0.05868360639566457, -0.05909398843847539, -0.05985399123543207, -0.0609149963117228, -0.06129042933101282]\n"
          ],
          "name": "stdout"
        }
      ]
    },
    {
      "cell_type": "code",
      "metadata": {
        "id": "sg5bjxRlQewi",
        "colab_type": "code",
        "outputId": "0b4eb65e-66d1-4d47-a9c6-f1daf14f4b64",
        "colab": {
          "base_uri": "https://localhost:8080/",
          "height": 71
        }
      },
      "source": [
        "# Cálculos para transformar na métrica em comum rmse\n",
        "k_scores = [(x * -1 ) for x in k_scores]\n",
        "print(k_scores)\n"
      ],
      "execution_count": 0,
      "outputs": [
        {
          "output_type": "stream",
          "text": [
            "[0.08462996431326059, 0.060970033359571574, 0.05744442456110636, 0.056928566060806464, 0.05740667640186954, 0.05775505297510408, 0.05868360639566457, 0.05909398843847539, 0.05985399123543207, 0.0609149963117228, 0.06129042933101282]\n",
            "[-0.08462996431326059, -0.060970033359571574, -0.05744442456110636, -0.056928566060806464, -0.05740667640186954, -0.05775505297510408, -0.05868360639566457, -0.05909398843847539, -0.05985399123543207, -0.0609149963117228, -0.06129042933101282]\n"
          ],
          "name": "stdout"
        }
      ]
    },
    {
      "cell_type": "code",
      "metadata": {
        "id": "UYhABNVsRsc2",
        "colab_type": "code",
        "outputId": "23f9e5ab-abb9-422f-ce3e-e3b4b48ff477",
        "colab": {
          "base_uri": "https://localhost:8080/",
          "height": 34
        }
      },
      "source": [
        "# raíz do menor erro\n",
        "\n",
        "print(sqrt(0.056928566060806464))"
      ],
      "execution_count": 0,
      "outputs": [
        {
          "output_type": "stream",
          "text": [
            "0.23859707890250137\n"
          ],
          "name": "stdout"
        }
      ]
    },
    {
      "cell_type": "code",
      "metadata": {
        "id": "XeOiWzM8N0T5",
        "colab_type": "code",
        "outputId": "0b1291db-0607-4578-ba14-49167ece68bd",
        "colab": {
          "base_uri": "https://localhost:8080/",
          "height": 714
        }
      },
      "source": [
        "# Comando para validação de parâmetros de scorers.\n",
        "#import sklearn \n",
        "#sorted(sklearn.metrics.SCORERS.keys())"
      ],
      "execution_count": 0,
      "outputs": [
        {
          "output_type": "execute_result",
          "data": {
            "text/plain": [
              "['accuracy',\n",
              " 'adjusted_mutual_info_score',\n",
              " 'adjusted_rand_score',\n",
              " 'average_precision',\n",
              " 'balanced_accuracy',\n",
              " 'brier_score_loss',\n",
              " 'completeness_score',\n",
              " 'explained_variance',\n",
              " 'f1',\n",
              " 'f1_macro',\n",
              " 'f1_micro',\n",
              " 'f1_samples',\n",
              " 'f1_weighted',\n",
              " 'fowlkes_mallows_score',\n",
              " 'homogeneity_score',\n",
              " 'jaccard',\n",
              " 'jaccard_macro',\n",
              " 'jaccard_micro',\n",
              " 'jaccard_samples',\n",
              " 'jaccard_weighted',\n",
              " 'max_error',\n",
              " 'mutual_info_score',\n",
              " 'neg_log_loss',\n",
              " 'neg_mean_absolute_error',\n",
              " 'neg_mean_squared_error',\n",
              " 'neg_mean_squared_log_error',\n",
              " 'neg_median_absolute_error',\n",
              " 'normalized_mutual_info_score',\n",
              " 'precision',\n",
              " 'precision_macro',\n",
              " 'precision_micro',\n",
              " 'precision_samples',\n",
              " 'precision_weighted',\n",
              " 'r2',\n",
              " 'recall',\n",
              " 'recall_macro',\n",
              " 'recall_micro',\n",
              " 'recall_samples',\n",
              " 'recall_weighted',\n",
              " 'roc_auc',\n",
              " 'v_measure_score']"
            ]
          },
          "metadata": {
            "tags": []
          },
          "execution_count": 36
        }
      ]
    },
    {
      "cell_type": "code",
      "metadata": {
        "id": "v6fMIS2k6STC",
        "colab_type": "code",
        "colab": {}
      },
      "source": [
        "# plot the value k for KNN (x-axis) versus the cross-validated accuracy (y-axis)\n",
        "plt.plot(k_range, k_scores)\n",
        "plt.xlabel('Value of K for KNN')\n",
        "plt.ylabel('cross-validated accuracy')"
      ],
      "execution_count": 0,
      "outputs": []
    },
    {
      "cell_type": "code",
      "metadata": {
        "id": "irb7-KA6AR-W",
        "colab_type": "code",
        "outputId": "00cdd4f9-0f86-4c2c-82e7-8d01c09cfe84",
        "colab": {
          "base_uri": "https://localhost:8080/",
          "height": 68
        }
      },
      "source": [
        "# Comando para identricar os hiperparâmetros utilizados \n",
        "print(clf)"
      ],
      "execution_count": 0,
      "outputs": [
        {
          "output_type": "stream",
          "text": [
            "KNeighborsRegressor(algorithm='auto', leaf_size=30, metric='minkowski',\n",
            "                    metric_params=None, n_jobs=None, n_neighbors=20, p=2,\n",
            "                    weights='uniform')\n"
          ],
          "name": "stdout"
        }
      ]
    },
    {
      "cell_type": "code",
      "metadata": {
        "id": "CIYl9SH5_vXY",
        "colab_type": "code",
        "colab": {}
      },
      "source": [
        ""
      ],
      "execution_count": 0,
      "outputs": []
    },
    {
      "cell_type": "markdown",
      "metadata": {
        "id": "6WUMVZ6p6gqY",
        "colab_type": "text"
      },
      "source": [
        "Old - testes anteriores sem cross validation e sem ver melhor número de n-neighbors, com base nos clusters (análise errada)\n",
        "Dica de João Pedro sem número ímpar por desempate."
      ]
    },
    {
      "cell_type": "code",
      "metadata": {
        "id": "1QXF4OsNjy0N",
        "colab_type": "code",
        "colab": {}
      },
      "source": [
        "# Primeira versão \n",
        "# classsifiers KNN\n",
        "\n",
        "clf = neighbors.KNeighborsRegressor(n_neighbors=4)\n",
        "clf.fit(X_train , y_train)\n",
        "\n",
        "# Validando com 25 % dos dados de treinametno.... E após fazer a validação com os dados de teste (20.000), atenção normalizar antes ...\n",
        "y_pred = clf.predict(X_test)\n"
      ],
      "execution_count": 0,
      "outputs": []
    },
    {
      "cell_type": "code",
      "metadata": {
        "id": "MpHrd-GmAxmi",
        "colab_type": "code",
        "outputId": "7f908ee9-1587-4fa0-adab-0f7d6fcaa2df",
        "colab": {
          "base_uri": "https://localhost:8080/",
          "height": 34
        }
      },
      "source": [
        "rmse = sqrt(mean_squared_error(y_pred, y_test))\n",
        "print (rmse)"
      ],
      "execution_count": 0,
      "outputs": [
        {
          "output_type": "stream",
          "text": [
            "0.242298889493992\n"
          ],
          "name": "stdout"
        }
      ]
    },
    {
      "cell_type": "code",
      "metadata": {
        "id": "D1nBP0HpBbCH",
        "colab_type": "code",
        "outputId": "af4b204d-77d2-49dd-aeb1-bdc0f04f66fb",
        "colab": {
          "base_uri": "https://localhost:8080/",
          "height": 255
        }
      },
      "source": [
        "#Fazer testes no site do kaggle\n",
        "\n",
        "Xval = featuresval\n",
        "print(Xval)\n",
        "# Estes dados associar ao Teste - ScatterPlotId  & este score e confirmar no site...\n",
        "y_predVal = clf.predict(Xval)\n",
        "print(y_predVal)"
      ],
      "execution_count": 0,
      "outputs": [
        {
          "output_type": "stream",
          "text": [
            "[[1.         0.35069271 0.23304664 ... 0.43799472 0.24538259 0.95914333]\n",
            " [1.         0.1887101  0.1238514  ... 0.49604222 0.2585752  0.94168467]\n",
            " [0.99468085 0.25496863 0.48110143 ... 0.18997361 0.66754617 0.98067533]\n",
            " ...\n",
            " [0.99468085 0.4790201  0.57176292 ... 0.11609499 0.3298153  0.9492964 ]\n",
            " [1.         0.15521992 0.13268455 ... 0.02902375 0.49076517 0.98217308]\n",
            " [0.98670213 0.40946428 0.43198796 ... 0.55145119 0.2348285  0.94488508]]\n",
            "[[0.74665188]\n",
            " [0.78771325]\n",
            " [0.90561481]\n",
            " ...\n",
            " [0.77932236]\n",
            " [0.90898727]\n",
            " [0.34416327]]\n"
          ],
          "name": "stdout"
        }
      ]
    },
    {
      "cell_type": "markdown",
      "metadata": {
        "id": "7wDuJcOyr7qk",
        "colab_type": "text"
      },
      "source": [
        "## Testes com Decision Tree Regressor\n",
        "\n",
        "  "
      ]
    },
    {
      "cell_type": "code",
      "metadata": {
        "id": "WKo6QizZRFRM",
        "colab_type": "code",
        "outputId": "e87b72e4-0acc-40c8-ea6f-8fc652cb255e",
        "colab": {
          "base_uri": "https://localhost:8080/",
          "height": 153
        }
      },
      "source": [
        "# Tuning de Hiperparâmetros da árvore\n",
        "#Regressor\n",
        "\n",
        "\n",
        "\n",
        "maxdepth = [3,5,7,11,13,17,19]\n",
        "k_scores = []\n",
        "for k in maxdepth:\n",
        "  clf = tree.DecisionTreeRegressor(max_depth = k) # k = 11 (melhor predição)\n",
        "  scores = cross_val_score(clf, X_train, y_train, cv = 10, scoring = 'neg_mean_squared_error') \n",
        "  k_scores.append(scores.mean())\n",
        "  print(k)\n",
        "print(k_scores)\n",
        "\n",
        "# K = 11 menor valor"
      ],
      "execution_count": 0,
      "outputs": [
        {
          "output_type": "stream",
          "text": [
            "3\n",
            "5\n",
            "7\n",
            "11\n",
            "13\n",
            "17\n",
            "19\n",
            "[-0.07406641120227511, -0.06545673238453882, -0.059307252791411136, -0.05502900820528511, -0.05785115610332621, -0.06919593864859323, -0.07337242930702262]\n"
          ],
          "name": "stdout"
        }
      ]
    },
    {
      "cell_type": "code",
      "metadata": {
        "id": "8xZgkWhMUwfT",
        "colab_type": "code",
        "outputId": "bc9b73ef-7e06-4204-bd97-7b087f6bd842",
        "colab": {
          "base_uri": "https://localhost:8080/",
          "height": 34
        }
      },
      "source": [
        "# somente o rmse com base no melhor parâmetro neg mean squared error\n",
        "print(sqrt(0.05502900820528511))"
      ],
      "execution_count": 0,
      "outputs": [
        {
          "output_type": "stream",
          "text": [
            "0.23458262554009646\n"
          ],
          "name": "stdout"
        }
      ]
    },
    {
      "cell_type": "code",
      "metadata": {
        "id": "yrdRNkRrRN4T",
        "colab_type": "code",
        "outputId": "036eeb28-9957-42b0-9315-2646066bf583",
        "colab": {
          "base_uri": "https://localhost:8080/",
          "height": 51
        }
      },
      "source": [
        "# Regressor\n",
        "\n",
        "clf = tree.DecisionTreeRegressor(max_depth = 11)\n",
        "\n",
        "clf.fit(X_train , y_train)\n",
        "\n",
        "y_pred = clf.predict(X_test)\n",
        "\n",
        "print(y_pred)\n",
        "\n",
        "rmse = sqrt(mean_squared_error(y_pred, y_test))\n",
        "print (rmse)"
      ],
      "execution_count": 0,
      "outputs": [
        {
          "output_type": "stream",
          "text": [
            "[0.77219937 0.83431929 0.14461588 ... 0.66893977 0.94592516 0.91619821]\n",
            "0.23311026258173664\n"
          ],
          "name": "stdout"
        }
      ]
    },
    {
      "cell_type": "markdown",
      "metadata": {
        "id": "ClIj5MMn7mkI",
        "colab_type": "text"
      },
      "source": [
        "Testes com MLP Regressor"
      ]
    },
    {
      "cell_type": "code",
      "metadata": {
        "id": "HCzW5ogHBGcc",
        "colab_type": "code",
        "colab": {}
      },
      "source": [
        "# correção do JOão Paulo --> dica https://www.kaggle.com/alexisbcook/pipelines\n",
        "from sklearn.neural_network import MLPRegressor\n",
        "from sklearn.pipeline import Pipeline\n",
        "from sklearn.preprocessing import MinMaxScaler\n",
        "nn = Pipeline(steps=[\n",
        "    ('normalization', MinMaxScaler()),\n",
        "    ('mlp', MLPRegressor(activation='relu',solver='sgd',hidden_layer_sizes=(10,15),random_state=1))])\n",
        "nn.fit(X_train , y_train.values.ravel())\n",
        " \n",
        "print(nn)"
      ],
      "execution_count": 0,
      "outputs": []
    },
    {
      "cell_type": "code",
      "metadata": {
        "id": "QlQUYi51VqQY",
        "colab_type": "code",
        "outputId": "aef7ba0c-a3f4-48c4-d450-f54eaa06bae0",
        "colab": {
          "base_uri": "https://localhost:8080/",
          "height": 258
        }
      },
      "source": [
        "# Mateus conseguiu evoluir?? Como fez com os parâmetros...\n",
        "\n",
        "#? com erro para avaliar a predição? NAN não entendi... tive o tratamento antes...\n",
        "\n",
        "# https://scikit-learn.org/stable/auto_examples/inspection/plot_partial_dependence.html#sphx-glr-auto-examples-inspection-plot-partial-dependence-py\n",
        "from sklearn.neural_network import MLPRegressor\n",
        "nn=MLPRegressor(activation='relu',solver='sgd',hidden_layer_sizes=(10,15),random_state=1)\n",
        "nn.fit(X_train , y_train)\n",
        " \n",
        "print(nn)"
      ],
      "execution_count": 0,
      "outputs": [
        {
          "output_type": "stream",
          "text": [
            "/usr/local/lib/python3.6/dist-packages/sklearn/neural_network/multilayer_perceptron.py:1321: DataConversionWarning: A column-vector y was passed when a 1d array was expected. Please change the shape of y to (n_samples, ), for example using ravel().\n",
            "  y = column_or_1d(y, warn=True)\n",
            "/usr/local/lib/python3.6/dist-packages/sklearn/neural_network/_base.py:195: RuntimeWarning: overflow encountered in square\n",
            "  return ((y_true - y_pred) ** 2).mean() / 2\n"
          ],
          "name": "stderr"
        },
        {
          "output_type": "stream",
          "text": [
            "MLPRegressor(activation='relu', alpha=0.0001, batch_size='auto', beta_1=0.9,\n",
            "             beta_2=0.999, early_stopping=False, epsilon=1e-08,\n",
            "             hidden_layer_sizes=(10, 15), learning_rate='constant',\n",
            "             learning_rate_init=0.001, max_iter=200, momentum=0.9,\n",
            "             n_iter_no_change=10, nesterovs_momentum=True, power_t=0.5,\n",
            "             random_state=1, shuffle=True, solver='sgd', tol=0.0001,\n",
            "             validation_fraction=0.1, verbose=False, warm_start=False)\n"
          ],
          "name": "stdout"
        },
        {
          "output_type": "stream",
          "text": [
            "/usr/local/lib/python3.6/dist-packages/sklearn/neural_network/multilayer_perceptron.py:566: ConvergenceWarning: Stochastic Optimizer: Maximum iterations (200) reached and the optimization hasn't converged yet.\n",
            "  % self.max_iter, ConvergenceWarning)\n"
          ],
          "name": "stderr"
        }
      ]
    },
    {
      "cell_type": "code",
      "metadata": {
        "id": "t6MwHG_QVqzZ",
        "colab_type": "code",
        "outputId": "6f3493a3-9ebb-45bb-b7f0-edd43e1db834",
        "colab": {
          "base_uri": "https://localhost:8080/",
          "height": 341
        }
      },
      "source": [
        "y_pred = nn.predict(X_test)\n",
        "rmse = sqrt(mean_squared_error(y_pred, y_test))\n",
        "print (rmse)"
      ],
      "execution_count": 0,
      "outputs": [
        {
          "output_type": "error",
          "ename": "ValueError",
          "evalue": "ignored",
          "traceback": [
            "\u001b[0;31m---------------------------------------------------------------------------\u001b[0m",
            "\u001b[0;31mValueError\u001b[0m                                Traceback (most recent call last)",
            "\u001b[0;32m<ipython-input-31-74a2630c1b83>\u001b[0m in \u001b[0;36m<module>\u001b[0;34m()\u001b[0m\n\u001b[1;32m      1\u001b[0m \u001b[0my_pred\u001b[0m \u001b[0;34m=\u001b[0m \u001b[0mnn\u001b[0m\u001b[0;34m.\u001b[0m\u001b[0mpredict\u001b[0m\u001b[0;34m(\u001b[0m\u001b[0mX_test\u001b[0m\u001b[0;34m)\u001b[0m\u001b[0;34m\u001b[0m\u001b[0;34m\u001b[0m\u001b[0m\n\u001b[0;32m----> 2\u001b[0;31m \u001b[0mrmse\u001b[0m \u001b[0;34m=\u001b[0m \u001b[0msqrt\u001b[0m\u001b[0;34m(\u001b[0m\u001b[0mmean_squared_error\u001b[0m\u001b[0;34m(\u001b[0m\u001b[0my_pred\u001b[0m\u001b[0;34m,\u001b[0m \u001b[0my_test\u001b[0m\u001b[0;34m)\u001b[0m\u001b[0;34m)\u001b[0m\u001b[0;34m\u001b[0m\u001b[0;34m\u001b[0m\u001b[0m\n\u001b[0m\u001b[1;32m      3\u001b[0m \u001b[0mprint\u001b[0m \u001b[0;34m(\u001b[0m\u001b[0mrmse\u001b[0m\u001b[0;34m)\u001b[0m\u001b[0;34m\u001b[0m\u001b[0;34m\u001b[0m\u001b[0m\n",
            "\u001b[0;32m/usr/local/lib/python3.6/dist-packages/sklearn/metrics/regression.py\u001b[0m in \u001b[0;36mmean_squared_error\u001b[0;34m(y_true, y_pred, sample_weight, multioutput)\u001b[0m\n\u001b[1;32m    239\u001b[0m     \"\"\"\n\u001b[1;32m    240\u001b[0m     y_type, y_true, y_pred, multioutput = _check_reg_targets(\n\u001b[0;32m--> 241\u001b[0;31m         y_true, y_pred, multioutput)\n\u001b[0m\u001b[1;32m    242\u001b[0m     \u001b[0mcheck_consistent_length\u001b[0m\u001b[0;34m(\u001b[0m\u001b[0my_true\u001b[0m\u001b[0;34m,\u001b[0m \u001b[0my_pred\u001b[0m\u001b[0;34m,\u001b[0m \u001b[0msample_weight\u001b[0m\u001b[0;34m)\u001b[0m\u001b[0;34m\u001b[0m\u001b[0;34m\u001b[0m\u001b[0m\n\u001b[1;32m    243\u001b[0m     output_errors = np.average((y_true - y_pred) ** 2, axis=0,\n",
            "\u001b[0;32m/usr/local/lib/python3.6/dist-packages/sklearn/metrics/regression.py\u001b[0m in \u001b[0;36m_check_reg_targets\u001b[0;34m(y_true, y_pred, multioutput)\u001b[0m\n\u001b[1;32m     76\u001b[0m     \"\"\"\n\u001b[1;32m     77\u001b[0m     \u001b[0mcheck_consistent_length\u001b[0m\u001b[0;34m(\u001b[0m\u001b[0my_true\u001b[0m\u001b[0;34m,\u001b[0m \u001b[0my_pred\u001b[0m\u001b[0;34m)\u001b[0m\u001b[0;34m\u001b[0m\u001b[0;34m\u001b[0m\u001b[0m\n\u001b[0;32m---> 78\u001b[0;31m     \u001b[0my_true\u001b[0m \u001b[0;34m=\u001b[0m \u001b[0mcheck_array\u001b[0m\u001b[0;34m(\u001b[0m\u001b[0my_true\u001b[0m\u001b[0;34m,\u001b[0m \u001b[0mensure_2d\u001b[0m\u001b[0;34m=\u001b[0m\u001b[0;32mFalse\u001b[0m\u001b[0;34m)\u001b[0m\u001b[0;34m\u001b[0m\u001b[0;34m\u001b[0m\u001b[0m\n\u001b[0m\u001b[1;32m     79\u001b[0m     \u001b[0my_pred\u001b[0m \u001b[0;34m=\u001b[0m \u001b[0mcheck_array\u001b[0m\u001b[0;34m(\u001b[0m\u001b[0my_pred\u001b[0m\u001b[0;34m,\u001b[0m \u001b[0mensure_2d\u001b[0m\u001b[0;34m=\u001b[0m\u001b[0;32mFalse\u001b[0m\u001b[0;34m)\u001b[0m\u001b[0;34m\u001b[0m\u001b[0;34m\u001b[0m\u001b[0m\n\u001b[1;32m     80\u001b[0m \u001b[0;34m\u001b[0m\u001b[0m\n",
            "\u001b[0;32m/usr/local/lib/python3.6/dist-packages/sklearn/utils/validation.py\u001b[0m in \u001b[0;36mcheck_array\u001b[0;34m(array, accept_sparse, accept_large_sparse, dtype, order, copy, force_all_finite, ensure_2d, allow_nd, ensure_min_samples, ensure_min_features, warn_on_dtype, estimator)\u001b[0m\n\u001b[1;32m    540\u001b[0m         \u001b[0;32mif\u001b[0m \u001b[0mforce_all_finite\u001b[0m\u001b[0;34m:\u001b[0m\u001b[0;34m\u001b[0m\u001b[0;34m\u001b[0m\u001b[0m\n\u001b[1;32m    541\u001b[0m             _assert_all_finite(array,\n\u001b[0;32m--> 542\u001b[0;31m                                allow_nan=force_all_finite == 'allow-nan')\n\u001b[0m\u001b[1;32m    543\u001b[0m \u001b[0;34m\u001b[0m\u001b[0m\n\u001b[1;32m    544\u001b[0m     \u001b[0;32mif\u001b[0m \u001b[0mensure_min_samples\u001b[0m \u001b[0;34m>\u001b[0m \u001b[0;36m0\u001b[0m\u001b[0;34m:\u001b[0m\u001b[0;34m\u001b[0m\u001b[0;34m\u001b[0m\u001b[0m\n",
            "\u001b[0;32m/usr/local/lib/python3.6/dist-packages/sklearn/utils/validation.py\u001b[0m in \u001b[0;36m_assert_all_finite\u001b[0;34m(X, allow_nan)\u001b[0m\n\u001b[1;32m     54\u001b[0m                 not allow_nan and not np.isfinite(X).all()):\n\u001b[1;32m     55\u001b[0m             \u001b[0mtype_err\u001b[0m \u001b[0;34m=\u001b[0m \u001b[0;34m'infinity'\u001b[0m \u001b[0;32mif\u001b[0m \u001b[0mallow_nan\u001b[0m \u001b[0;32melse\u001b[0m \u001b[0;34m'NaN, infinity'\u001b[0m\u001b[0;34m\u001b[0m\u001b[0;34m\u001b[0m\u001b[0m\n\u001b[0;32m---> 56\u001b[0;31m             \u001b[0;32mraise\u001b[0m \u001b[0mValueError\u001b[0m\u001b[0;34m(\u001b[0m\u001b[0mmsg_err\u001b[0m\u001b[0;34m.\u001b[0m\u001b[0mformat\u001b[0m\u001b[0;34m(\u001b[0m\u001b[0mtype_err\u001b[0m\u001b[0;34m,\u001b[0m \u001b[0mX\u001b[0m\u001b[0;34m.\u001b[0m\u001b[0mdtype\u001b[0m\u001b[0;34m)\u001b[0m\u001b[0;34m)\u001b[0m\u001b[0;34m\u001b[0m\u001b[0;34m\u001b[0m\u001b[0m\n\u001b[0m\u001b[1;32m     57\u001b[0m     \u001b[0;31m# for object dtype data, we only check for NaNs (GH-13254)\u001b[0m\u001b[0;34m\u001b[0m\u001b[0;34m\u001b[0m\u001b[0;34m\u001b[0m\u001b[0m\n\u001b[1;32m     58\u001b[0m     \u001b[0;32melif\u001b[0m \u001b[0mX\u001b[0m\u001b[0;34m.\u001b[0m\u001b[0mdtype\u001b[0m \u001b[0;34m==\u001b[0m \u001b[0mnp\u001b[0m\u001b[0;34m.\u001b[0m\u001b[0mdtype\u001b[0m\u001b[0;34m(\u001b[0m\u001b[0;34m'object'\u001b[0m\u001b[0;34m)\u001b[0m \u001b[0;32mand\u001b[0m \u001b[0;32mnot\u001b[0m \u001b[0mallow_nan\u001b[0m\u001b[0;34m:\u001b[0m\u001b[0;34m\u001b[0m\u001b[0;34m\u001b[0m\u001b[0m\n",
            "\u001b[0;31mValueError\u001b[0m: Input contains NaN, infinity or a value too large for dtype('float64')."
          ]
        }
      ]
    },
    {
      "cell_type": "markdown",
      "metadata": {
        "id": "hzxxj3d87uEw",
        "colab_type": "text"
      },
      "source": [
        "Testes com SVR"
      ]
    },
    {
      "cell_type": "code",
      "metadata": {
        "id": "tHmT5Zb3f6tQ",
        "colab_type": "code",
        "outputId": "a40a6401-07a3-4c54-9216-b3e96f8d223d",
        "colab": {
          "base_uri": "https://localhost:8080/",
          "height": 105
        }
      },
      "source": [
        "# Breno será estes os hiperparâmeros do R? Olha a mensagem de errro inicial ou warning...\n",
        "from sklearn.svm import SVR\n",
        "\n",
        "\n",
        "clf = SVR(gamma='scale', C=1.0, epsilon=0.2)\n",
        "clf.fit(X_train , y_train)\n",
        "  \n",
        "print(clf)"
      ],
      "execution_count": 0,
      "outputs": [
        {
          "output_type": "stream",
          "text": [
            "/usr/local/lib/python3.6/dist-packages/sklearn/utils/validation.py:724: DataConversionWarning: A column-vector y was passed when a 1d array was expected. Please change the shape of y to (n_samples, ), for example using ravel().\n",
            "  y = column_or_1d(y, warn=True)\n"
          ],
          "name": "stderr"
        },
        {
          "output_type": "stream",
          "text": [
            "SVR(C=1.0, cache_size=200, coef0=0.0, degree=3, epsilon=0.2, gamma='scale',\n",
            "    kernel='rbf', max_iter=-1, shrinking=True, tol=0.001, verbose=False)\n"
          ],
          "name": "stdout"
        }
      ]
    },
    {
      "cell_type": "code",
      "metadata": {
        "id": "WA-vX8oeiEuq",
        "colab_type": "code",
        "outputId": "f7e37262-8f4d-4f39-c824-848287142f98",
        "colab": {
          "base_uri": "https://localhost:8080/",
          "height": 34
        }
      },
      "source": [
        "y_pred = clf.predict(X_test)\n",
        "rmse = sqrt(mean_squared_error(y_pred, y_test))\n",
        "print (rmse)"
      ],
      "execution_count": 0,
      "outputs": [
        {
          "output_type": "stream",
          "text": [
            "0.3058310053294292\n"
          ],
          "name": "stdout"
        }
      ]
    },
    {
      "cell_type": "markdown",
      "metadata": {
        "id": "x8IkxTrp7wOp",
        "colab_type": "text"
      },
      "source": [
        "Testes com Ensemble"
      ]
    },
    {
      "cell_type": "code",
      "metadata": {
        "id": "mqfTvyKhwzKU",
        "colab_type": "code",
        "outputId": "d6ae45bc-9741-4593-88a8-06309ee47799",
        "colab": {
          "base_uri": "https://localhost:8080/",
          "height": 190
        }
      },
      "source": [
        "# Adaptado do código do Fábio\n",
        "from sklearn.ensemble import RandomForestRegressor\n",
        "model = RandomForestRegressor(n_estimators=300)\n",
        "#model.fit(train_features, train_labels)\n",
        "\n",
        "model.fit(X_train,y_train)\n",
        "\n",
        "print(model)\n"
      ],
      "execution_count": 0,
      "outputs": [
        {
          "output_type": "stream",
          "text": [
            "/usr/local/lib/python3.6/dist-packages/ipykernel_launcher.py:5: DataConversionWarning: A column-vector y was passed when a 1d array was expected. Please change the shape of y to (n_samples,), for example using ravel().\n",
            "  \"\"\"\n"
          ],
          "name": "stderr"
        },
        {
          "output_type": "stream",
          "text": [
            "RandomForestRegressor(bootstrap=True, criterion='mse', max_depth=None,\n",
            "                      max_features='auto', max_leaf_nodes=None,\n",
            "                      min_impurity_decrease=0.0, min_impurity_split=None,\n",
            "                      min_samples_leaf=1, min_samples_split=2,\n",
            "                      min_weight_fraction_leaf=0.0, n_estimators=300,\n",
            "                      n_jobs=None, oob_score=False, random_state=None,\n",
            "                      verbose=0, warm_start=False)\n"
          ],
          "name": "stdout"
        }
      ]
    },
    {
      "cell_type": "code",
      "metadata": {
        "id": "IkVa3S-oxJP1",
        "colab_type": "code",
        "outputId": "703ce412-ba39-4038-c373-725536e1e1a5",
        "colab": {
          "base_uri": "https://localhost:8080/",
          "height": 34
        }
      },
      "source": [
        "y_pred = model.predict(X_test)\n",
        "rmse = sqrt(mean_squared_error(y_pred, y_test))\n",
        "print (rmse)"
      ],
      "execution_count": 0,
      "outputs": [
        {
          "output_type": "stream",
          "text": [
            "0.19391110786321894\n"
          ],
          "name": "stdout"
        }
      ]
    },
    {
      "cell_type": "markdown",
      "metadata": {
        "id": "ko4Agi2FvTis",
        "colab_type": "text"
      },
      "source": [
        "# rever os comandos, primeiro necessário autenticação com drive e late submission.\n",
        "from google.colab import files\n",
        "files.download(\"dataset.csv\")"
      ]
    },
    {
      "cell_type": "code",
      "metadata": {
        "id": "KymW5O74vWQx",
        "colab_type": "code",
        "colab": {}
      },
      "source": [
        ""
      ],
      "execution_count": 0,
      "outputs": []
    }
  ]
}