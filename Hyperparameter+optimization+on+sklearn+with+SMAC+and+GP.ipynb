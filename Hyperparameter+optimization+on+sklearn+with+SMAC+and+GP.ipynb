{
  "nbformat": 4,
  "nbformat_minor": 0,
  "metadata": {
    "kernelspec": {
      "display_name": "Python 3",
      "language": "python",
      "name": "python3"
    },
    "language_info": {
      "codemirror_mode": {
        "name": "ipython",
        "version": 3
      },
      "file_extension": ".py",
      "mimetype": "text/x-python",
      "name": "python",
      "nbconvert_exporter": "python",
      "pygments_lexer": "ipython3",
      "version": "3.6.5"
    },
    "colab": {
      "name": "Hyperparameter+optimization+on+sklearn+with+SMAC+and+GP.ipynb",
      "provenance": [],
      "include_colab_link": true
    }
  },
  "cells": [
    {
      "cell_type": "markdown",
      "metadata": {
        "id": "view-in-github",
        "colab_type": "text"
      },
      "source": [
        "<a href=\"https://colab.research.google.com/github/polivio/ML/blob/master/Hyperparameter%2Boptimization%2Bon%2Bsklearn%2Bwith%2BSMAC%2Band%2BGP.ipynb\" target=\"_parent\"><img src=\"https://colab.research.google.com/assets/colab-badge.svg\" alt=\"Open In Colab\"/></a>"
      ]
    },
    {
      "cell_type": "markdown",
      "metadata": {
        "id": "HpJ1UGPfB_wG",
        "colab_type": "text"
      },
      "source": [
        "Use of hyperparameter optimization for choosing the best algorithm and hyperparameters for the KDD BR datasets."
      ]
    },
    {
      "cell_type": "markdown",
      "metadata": {
        "id": "eMq99LrHIl39",
        "colab_type": "text"
      },
      "source": [
        ""
      ]
    },
    {
      "cell_type": "code",
      "metadata": {
        "id": "SCwdg3NKB_wH",
        "colab_type": "code",
        "colab": {}
      },
      "source": [
        "# https://www.kaggle.com/c/kddbr-2019/data (KDD BR Author: Polivio)\n",
        "\n",
        "# Hyperparameter optimization (reuse of Wang Chi) \n",
        "\n",
        "import numpy as np                    # for numerical computation\n",
        "import pandas as pd                   # for data wrangling\n",
        "import matplotlib.pyplot as plt       # for plotting\n",
        "%matplotlib inline \n",
        "\n",
        "from sklearn.model_selection import train_test_split\n",
        "from sklearn.model_selection import cross_val_score\n",
        "from sklearn.metrics import mean_squared_error\n",
        "from math import sqrt"
      ],
      "execution_count": 0,
      "outputs": []
    },
    {
      "cell_type": "code",
      "metadata": {
        "id": "SpyBmfS8B_wL",
        "colab_type": "code",
        "outputId": "ebf562a3-cc5e-4ab4-e8e1-ab1c6452d274",
        "colab": {
          "base_uri": "https://localhost:8080/",
          "height": 459
        }
      },
      "source": [
        "# preprocessing # blob # raw\n",
        "train = pd.read_csv('https://github.com/polivio/PEE/raw/master/Training_grouped.csv')\n",
        "test = pd.read_csv('https://github.com/polivio/PEE/raw/master/Test_grouped.csv')\n",
        "\n",
        "\n",
        "train.info()"
      ],
      "execution_count": 2,
      "outputs": [
        {
          "output_type": "stream",
          "text": [
            "<class 'pandas.core.frame.DataFrame'>\n",
            "RangeIndex: 80000 entries, 0 to 79999\n",
            "Data columns (total 21 columns):\n",
            "Unnamed: 0                          80000 non-null int64\n",
            "traininglabelorder.scatterplotID    80000 non-null int64\n",
            "qtde.ponto                          80000 non-null int64\n",
            "Negative                            80000 non-null int64\n",
            "Sample                              80000 non-null int64\n",
            "mean.signalX                        80000 non-null float64\n",
            "sd.signalX                          80000 non-null float64\n",
            "var.signalX                         80000 non-null float64\n",
            "kurtosis.signalX                    80000 non-null float64\n",
            "skew.signalX                        80000 non-null float64\n",
            "mean.signalY                        80000 non-null float64\n",
            "sd.signalY                          80000 non-null float64\n",
            "var.signalY                         80000 non-null float64\n",
            "kurtosis.signalY                    80000 non-null float64\n",
            "skew.signalY                        80000 non-null float64\n",
            "L                                   80000 non-null int64\n",
            "X                                   75408 non-null float64\n",
            "XY                                  60537 non-null float64\n",
            "Y                                   76289 non-null float64\n",
            "mean.silhouette                     80000 non-null float64\n",
            "traininglabelorder.score            80000 non-null float64\n",
            "dtypes: float64(15), int64(6)\n",
            "memory usage: 12.8 MB\n"
          ],
          "name": "stdout"
        }
      ]
    },
    {
      "cell_type": "code",
      "metadata": {
        "id": "hEqtbSM9JsT6",
        "colab_type": "code",
        "colab": {
          "base_uri": "https://localhost:8080/",
          "height": 459
        },
        "outputId": "835452ab-36f2-482e-fce4-64ad7225c24f"
      },
      "source": [
        "#train.isna().sum()\n",
        "##X                            4592\n",
        "##XY                          19463\n",
        "##Y                            3711\n",
        "\n",
        "# Dica Mateus substituição pela média\n",
        "train['X'].fillna(train['X'].mean(),inplace=True)\n",
        "train['XY'].fillna(train['XY'].mean(),inplace=True)\n",
        "train['Y'].fillna(train['XY'].mean(),inplace=True)\n",
        "\n",
        "train.info()"
      ],
      "execution_count": 3,
      "outputs": [
        {
          "output_type": "stream",
          "text": [
            "<class 'pandas.core.frame.DataFrame'>\n",
            "RangeIndex: 80000 entries, 0 to 79999\n",
            "Data columns (total 21 columns):\n",
            "Unnamed: 0                          80000 non-null int64\n",
            "traininglabelorder.scatterplotID    80000 non-null int64\n",
            "qtde.ponto                          80000 non-null int64\n",
            "Negative                            80000 non-null int64\n",
            "Sample                              80000 non-null int64\n",
            "mean.signalX                        80000 non-null float64\n",
            "sd.signalX                          80000 non-null float64\n",
            "var.signalX                         80000 non-null float64\n",
            "kurtosis.signalX                    80000 non-null float64\n",
            "skew.signalX                        80000 non-null float64\n",
            "mean.signalY                        80000 non-null float64\n",
            "sd.signalY                          80000 non-null float64\n",
            "var.signalY                         80000 non-null float64\n",
            "kurtosis.signalY                    80000 non-null float64\n",
            "skew.signalY                        80000 non-null float64\n",
            "L                                   80000 non-null int64\n",
            "X                                   80000 non-null float64\n",
            "XY                                  80000 non-null float64\n",
            "Y                                   80000 non-null float64\n",
            "mean.silhouette                     80000 non-null float64\n",
            "traininglabelorder.score            80000 non-null float64\n",
            "dtypes: float64(15), int64(6)\n",
            "memory usage: 12.8 MB\n"
          ],
          "name": "stdout"
        }
      ]
    },
    {
      "cell_type": "code",
      "metadata": {
        "id": "HAs4xH3IK1r4",
        "colab_type": "code",
        "colab": {
          "base_uri": "https://localhost:8080/",
          "height": 689
        },
        "outputId": "f05a5fff-1bf0-4b0b-fdc1-92db608b1b18"
      },
      "source": [
        "train = train.loc[:,[#'qtde.ponto', \n",
        "       'mean.signalX', 'sd.signalX', 'kurtosis.signalX',\n",
        "      'mean.signalY', 'sd.signalY', \n",
        "       'kurtosis.signalY', 'L', 'X', 'XY', 'Y',\n",
        "       'mean.silhouette', 'traininglabelorder.score']]\n",
        "\n",
        "## Quando iremos usar os dados de teste?\n",
        "test = test.loc[:,[# 'qtde.ponto', \n",
        "       'mean.signalX', 'sd.signalX', 'kurtosis.signalX',\n",
        "      'mean.signalY', 'sd.signalY', \n",
        "       'kurtosis.signalY', 'L', 'X', 'XY', 'Y',\n",
        "       'mean.silhouette']]\n",
        "\n",
        "train.head(20)"
      ],
      "execution_count": 4,
      "outputs": [
        {
          "output_type": "execute_result",
          "data": {
            "text/html": [
              "<div>\n",
              "<style scoped>\n",
              "    .dataframe tbody tr th:only-of-type {\n",
              "        vertical-align: middle;\n",
              "    }\n",
              "\n",
              "    .dataframe tbody tr th {\n",
              "        vertical-align: top;\n",
              "    }\n",
              "\n",
              "    .dataframe thead th {\n",
              "        text-align: right;\n",
              "    }\n",
              "</style>\n",
              "<table border=\"1\" class=\"dataframe\">\n",
              "  <thead>\n",
              "    <tr style=\"text-align: right;\">\n",
              "      <th></th>\n",
              "      <th>mean.signalX</th>\n",
              "      <th>sd.signalX</th>\n",
              "      <th>kurtosis.signalX</th>\n",
              "      <th>mean.signalY</th>\n",
              "      <th>sd.signalY</th>\n",
              "      <th>kurtosis.signalY</th>\n",
              "      <th>L</th>\n",
              "      <th>X</th>\n",
              "      <th>XY</th>\n",
              "      <th>Y</th>\n",
              "      <th>mean.silhouette</th>\n",
              "      <th>traininglabelorder.score</th>\n",
              "    </tr>\n",
              "  </thead>\n",
              "  <tbody>\n",
              "    <tr>\n",
              "      <th>0</th>\n",
              "      <td>3164.835616</td>\n",
              "      <td>804.757625</td>\n",
              "      <td>3.516731</td>\n",
              "      <td>1586.430137</td>\n",
              "      <td>568.651580</td>\n",
              "      <td>3.170632</td>\n",
              "      <td>4</td>\n",
              "      <td>92.0</td>\n",
              "      <td>269.000000</td>\n",
              "      <td>80.421065</td>\n",
              "      <td>0.840146</td>\n",
              "      <td>0.009647</td>\n",
              "    </tr>\n",
              "    <tr>\n",
              "      <th>1</th>\n",
              "      <td>1737.776042</td>\n",
              "      <td>944.798845</td>\n",
              "      <td>2.475172</td>\n",
              "      <td>2999.940104</td>\n",
              "      <td>1716.790542</td>\n",
              "      <td>2.195067</td>\n",
              "      <td>4</td>\n",
              "      <td>82.0</td>\n",
              "      <td>49.000000</td>\n",
              "      <td>249.000000</td>\n",
              "      <td>0.964427</td>\n",
              "      <td>0.842084</td>\n",
              "    </tr>\n",
              "    <tr>\n",
              "      <th>2</th>\n",
              "      <td>1139.621984</td>\n",
              "      <td>866.460225</td>\n",
              "      <td>1.922726</td>\n",
              "      <td>1836.640751</td>\n",
              "      <td>950.478945</td>\n",
              "      <td>1.436889</td>\n",
              "      <td>4</td>\n",
              "      <td>156.0</td>\n",
              "      <td>7.000000</td>\n",
              "      <td>206.000000</td>\n",
              "      <td>0.936210</td>\n",
              "      <td>0.744601</td>\n",
              "    </tr>\n",
              "    <tr>\n",
              "      <th>3</th>\n",
              "      <td>3609.692708</td>\n",
              "      <td>1808.877599</td>\n",
              "      <td>1.985210</td>\n",
              "      <td>2469.164062</td>\n",
              "      <td>1219.231193</td>\n",
              "      <td>1.913381</td>\n",
              "      <td>4</td>\n",
              "      <td>100.0</td>\n",
              "      <td>190.000000</td>\n",
              "      <td>90.000000</td>\n",
              "      <td>0.896070</td>\n",
              "      <td>0.842084</td>\n",
              "    </tr>\n",
              "    <tr>\n",
              "      <th>4</th>\n",
              "      <td>1867.203655</td>\n",
              "      <td>938.232021</td>\n",
              "      <td>2.176598</td>\n",
              "      <td>2180.908616</td>\n",
              "      <td>1515.205489</td>\n",
              "      <td>1.155226</td>\n",
              "      <td>4</td>\n",
              "      <td>176.0</td>\n",
              "      <td>2.000000</td>\n",
              "      <td>201.000000</td>\n",
              "      <td>0.952810</td>\n",
              "      <td>0.944177</td>\n",
              "    </tr>\n",
              "    <tr>\n",
              "      <th>5</th>\n",
              "      <td>449.072917</td>\n",
              "      <td>507.413489</td>\n",
              "      <td>29.834375</td>\n",
              "      <td>2910.351562</td>\n",
              "      <td>358.648637</td>\n",
              "      <td>7.460460</td>\n",
              "      <td>4</td>\n",
              "      <td>12.0</td>\n",
              "      <td>80.421065</td>\n",
              "      <td>368.000000</td>\n",
              "      <td>0.968487</td>\n",
              "      <td>1.000000</td>\n",
              "    </tr>\n",
              "    <tr>\n",
              "      <th>6</th>\n",
              "      <td>2076.953039</td>\n",
              "      <td>655.688216</td>\n",
              "      <td>2.774567</td>\n",
              "      <td>1170.375691</td>\n",
              "      <td>342.483082</td>\n",
              "      <td>2.222238</td>\n",
              "      <td>7</td>\n",
              "      <td>132.0</td>\n",
              "      <td>117.000000</td>\n",
              "      <td>106.000000</td>\n",
              "      <td>0.913787</td>\n",
              "      <td>0.578706</td>\n",
              "    </tr>\n",
              "    <tr>\n",
              "      <th>7</th>\n",
              "      <td>830.200000</td>\n",
              "      <td>648.128942</td>\n",
              "      <td>9.725987</td>\n",
              "      <td>3241.095000</td>\n",
              "      <td>693.599022</td>\n",
              "      <td>5.545654</td>\n",
              "      <td>5</td>\n",
              "      <td>3.0</td>\n",
              "      <td>22.000000</td>\n",
              "      <td>170.000000</td>\n",
              "      <td>0.916503</td>\n",
              "      <td>1.000000</td>\n",
              "    </tr>\n",
              "    <tr>\n",
              "      <th>8</th>\n",
              "      <td>3586.317708</td>\n",
              "      <td>1862.356219</td>\n",
              "      <td>2.630635</td>\n",
              "      <td>1683.195312</td>\n",
              "      <td>1436.342429</td>\n",
              "      <td>6.643115</td>\n",
              "      <td>4</td>\n",
              "      <td>326.0</td>\n",
              "      <td>80.421065</td>\n",
              "      <td>54.000000</td>\n",
              "      <td>0.956756</td>\n",
              "      <td>0.944319</td>\n",
              "    </tr>\n",
              "    <tr>\n",
              "      <th>9</th>\n",
              "      <td>222.168831</td>\n",
              "      <td>270.887643</td>\n",
              "      <td>23.916200</td>\n",
              "      <td>2146.623377</td>\n",
              "      <td>434.285275</td>\n",
              "      <td>4.516220</td>\n",
              "      <td>2</td>\n",
              "      <td>6.0</td>\n",
              "      <td>2.000000</td>\n",
              "      <td>144.000000</td>\n",
              "      <td>0.949731</td>\n",
              "      <td>0.751477</td>\n",
              "    </tr>\n",
              "    <tr>\n",
              "      <th>10</th>\n",
              "      <td>2238.825521</td>\n",
              "      <td>1480.077892</td>\n",
              "      <td>1.558220</td>\n",
              "      <td>1509.859375</td>\n",
              "      <td>1343.930384</td>\n",
              "      <td>2.139870</td>\n",
              "      <td>5</td>\n",
              "      <td>229.0</td>\n",
              "      <td>4.000000</td>\n",
              "      <td>146.000000</td>\n",
              "      <td>0.955443</td>\n",
              "      <td>1.000000</td>\n",
              "    </tr>\n",
              "    <tr>\n",
              "      <th>11</th>\n",
              "      <td>877.057292</td>\n",
              "      <td>298.678765</td>\n",
              "      <td>3.454756</td>\n",
              "      <td>496.882812</td>\n",
              "      <td>136.869587</td>\n",
              "      <td>13.971307</td>\n",
              "      <td>4</td>\n",
              "      <td>338.0</td>\n",
              "      <td>20.000000</td>\n",
              "      <td>22.000000</td>\n",
              "      <td>0.829714</td>\n",
              "      <td>0.283536</td>\n",
              "    </tr>\n",
              "    <tr>\n",
              "      <th>12</th>\n",
              "      <td>901.786458</td>\n",
              "      <td>633.263041</td>\n",
              "      <td>1.963940</td>\n",
              "      <td>1232.804688</td>\n",
              "      <td>530.281231</td>\n",
              "      <td>3.126608</td>\n",
              "      <td>4</td>\n",
              "      <td>220.0</td>\n",
              "      <td>50.000000</td>\n",
              "      <td>110.000000</td>\n",
              "      <td>0.937572</td>\n",
              "      <td>0.474833</td>\n",
              "    </tr>\n",
              "    <tr>\n",
              "      <th>13</th>\n",
              "      <td>1126.440789</td>\n",
              "      <td>697.174147</td>\n",
              "      <td>1.980671</td>\n",
              "      <td>1624.661184</td>\n",
              "      <td>637.844680</td>\n",
              "      <td>1.678215</td>\n",
              "      <td>4</td>\n",
              "      <td>140.0</td>\n",
              "      <td>8.000000</td>\n",
              "      <td>152.000000</td>\n",
              "      <td>0.907024</td>\n",
              "      <td>0.647776</td>\n",
              "    </tr>\n",
              "    <tr>\n",
              "      <th>14</th>\n",
              "      <td>379.539062</td>\n",
              "      <td>320.758506</td>\n",
              "      <td>43.888449</td>\n",
              "      <td>2732.984375</td>\n",
              "      <td>379.767518</td>\n",
              "      <td>9.060104</td>\n",
              "      <td>5</td>\n",
              "      <td>4.0</td>\n",
              "      <td>10.000000</td>\n",
              "      <td>365.000000</td>\n",
              "      <td>0.940349</td>\n",
              "      <td>0.795196</td>\n",
              "    </tr>\n",
              "    <tr>\n",
              "      <th>15</th>\n",
              "      <td>3469.518229</td>\n",
              "      <td>973.268089</td>\n",
              "      <td>2.523557</td>\n",
              "      <td>3425.468750</td>\n",
              "      <td>750.673319</td>\n",
              "      <td>2.913455</td>\n",
              "      <td>5</td>\n",
              "      <td>85.0</td>\n",
              "      <td>203.000000</td>\n",
              "      <td>91.000000</td>\n",
              "      <td>0.882495</td>\n",
              "      <td>1.000000</td>\n",
              "    </tr>\n",
              "    <tr>\n",
              "      <th>16</th>\n",
              "      <td>1668.934896</td>\n",
              "      <td>797.617574</td>\n",
              "      <td>3.382641</td>\n",
              "      <td>3097.526042</td>\n",
              "      <td>817.027791</td>\n",
              "      <td>3.431970</td>\n",
              "      <td>14</td>\n",
              "      <td>18.0</td>\n",
              "      <td>272.000000</td>\n",
              "      <td>80.000000</td>\n",
              "      <td>0.485581</td>\n",
              "      <td>0.006463</td>\n",
              "    </tr>\n",
              "    <tr>\n",
              "      <th>17</th>\n",
              "      <td>1479.209581</td>\n",
              "      <td>969.112082</td>\n",
              "      <td>2.302135</td>\n",
              "      <td>1405.598802</td>\n",
              "      <td>907.868104</td>\n",
              "      <td>1.649250</td>\n",
              "      <td>2</td>\n",
              "      <td>76.0</td>\n",
              "      <td>4.000000</td>\n",
              "      <td>85.000000</td>\n",
              "      <td>0.954536</td>\n",
              "      <td>0.768378</td>\n",
              "    </tr>\n",
              "    <tr>\n",
              "      <th>18</th>\n",
              "      <td>1505.221932</td>\n",
              "      <td>460.339956</td>\n",
              "      <td>3.421156</td>\n",
              "      <td>1128.402089</td>\n",
              "      <td>590.302079</td>\n",
              "      <td>6.052414</td>\n",
              "      <td>5</td>\n",
              "      <td>321.0</td>\n",
              "      <td>9.000000</td>\n",
              "      <td>48.000000</td>\n",
              "      <td>0.957652</td>\n",
              "      <td>0.944177</td>\n",
              "    </tr>\n",
              "    <tr>\n",
              "      <th>19</th>\n",
              "      <td>1786.101604</td>\n",
              "      <td>1507.147662</td>\n",
              "      <td>1.277980</td>\n",
              "      <td>2363.534759</td>\n",
              "      <td>1498.744208</td>\n",
              "      <td>1.211140</td>\n",
              "      <td>4</td>\n",
              "      <td>157.0</td>\n",
              "      <td>9.000000</td>\n",
              "      <td>204.000000</td>\n",
              "      <td>0.946961</td>\n",
              "      <td>0.745189</td>\n",
              "    </tr>\n",
              "  </tbody>\n",
              "</table>\n",
              "</div>"
            ],
            "text/plain": [
              "    mean.signalX   sd.signalX  ...  mean.silhouette  traininglabelorder.score\n",
              "0    3164.835616   804.757625  ...         0.840146                  0.009647\n",
              "1    1737.776042   944.798845  ...         0.964427                  0.842084\n",
              "2    1139.621984   866.460225  ...         0.936210                  0.744601\n",
              "3    3609.692708  1808.877599  ...         0.896070                  0.842084\n",
              "4    1867.203655   938.232021  ...         0.952810                  0.944177\n",
              "5     449.072917   507.413489  ...         0.968487                  1.000000\n",
              "6    2076.953039   655.688216  ...         0.913787                  0.578706\n",
              "7     830.200000   648.128942  ...         0.916503                  1.000000\n",
              "8    3586.317708  1862.356219  ...         0.956756                  0.944319\n",
              "9     222.168831   270.887643  ...         0.949731                  0.751477\n",
              "10   2238.825521  1480.077892  ...         0.955443                  1.000000\n",
              "11    877.057292   298.678765  ...         0.829714                  0.283536\n",
              "12    901.786458   633.263041  ...         0.937572                  0.474833\n",
              "13   1126.440789   697.174147  ...         0.907024                  0.647776\n",
              "14    379.539062   320.758506  ...         0.940349                  0.795196\n",
              "15   3469.518229   973.268089  ...         0.882495                  1.000000\n",
              "16   1668.934896   797.617574  ...         0.485581                  0.006463\n",
              "17   1479.209581   969.112082  ...         0.954536                  0.768378\n",
              "18   1505.221932   460.339956  ...         0.957652                  0.944177\n",
              "19   1786.101604  1507.147662  ...         0.946961                  0.745189\n",
              "\n",
              "[20 rows x 12 columns]"
            ]
          },
          "metadata": {
            "tags": []
          },
          "execution_count": 4
        }
      ]
    },
    {
      "cell_type": "code",
      "metadata": {
        "id": "jq2vulQ1LAyT",
        "colab_type": "code",
        "colab": {
          "base_uri": "https://localhost:8080/",
          "height": 306
        },
        "outputId": "101a59cf-4842-40df-f50c-54dfa1af4b71"
      },
      "source": [
        "train.head(20)\n",
        "# change the dtype to 'float64' \n",
        "train = train.astype('float64')\n",
        "train.info()\n"
      ],
      "execution_count": 5,
      "outputs": [
        {
          "output_type": "stream",
          "text": [
            "<class 'pandas.core.frame.DataFrame'>\n",
            "RangeIndex: 80000 entries, 0 to 79999\n",
            "Data columns (total 12 columns):\n",
            "mean.signalX                80000 non-null float64\n",
            "sd.signalX                  80000 non-null float64\n",
            "kurtosis.signalX            80000 non-null float64\n",
            "mean.signalY                80000 non-null float64\n",
            "sd.signalY                  80000 non-null float64\n",
            "kurtosis.signalY            80000 non-null float64\n",
            "L                           80000 non-null float64\n",
            "X                           80000 non-null float64\n",
            "XY                          80000 non-null float64\n",
            "Y                           80000 non-null float64\n",
            "mean.silhouette             80000 non-null float64\n",
            "traininglabelorder.score    80000 non-null float64\n",
            "dtypes: float64(12)\n",
            "memory usage: 7.3 MB\n"
          ],
          "name": "stdout"
        }
      ]
    },
    {
      "cell_type": "code",
      "metadata": {
        "id": "WWzzGLmVM56G",
        "colab_type": "code",
        "colab": {
          "base_uri": "https://localhost:8080/",
          "height": 1000
        },
        "outputId": "9d3b609a-c3a9-4034-da65-2982f8d95afe"
      },
      "source": [
        "dados_nulos = train.isnull()\n",
        "print(dados_nulos)"
      ],
      "execution_count": 7,
      "outputs": [
        {
          "output_type": "stream",
          "text": [
            "       mean.signalX  sd.signalX  ...  mean.silhouette  traininglabelorder.score\n",
            "0             False       False  ...            False                     False\n",
            "1             False       False  ...            False                     False\n",
            "2             False       False  ...            False                     False\n",
            "3             False       False  ...            False                     False\n",
            "4             False       False  ...            False                     False\n",
            "5             False       False  ...            False                     False\n",
            "6             False       False  ...            False                     False\n",
            "7             False       False  ...            False                     False\n",
            "8             False       False  ...            False                     False\n",
            "9             False       False  ...            False                     False\n",
            "10            False       False  ...            False                     False\n",
            "11            False       False  ...            False                     False\n",
            "12            False       False  ...            False                     False\n",
            "13            False       False  ...            False                     False\n",
            "14            False       False  ...            False                     False\n",
            "15            False       False  ...            False                     False\n",
            "16            False       False  ...            False                     False\n",
            "17            False       False  ...            False                     False\n",
            "18            False       False  ...            False                     False\n",
            "19            False       False  ...            False                     False\n",
            "20            False       False  ...            False                     False\n",
            "21            False       False  ...            False                     False\n",
            "22            False       False  ...            False                     False\n",
            "23            False       False  ...            False                     False\n",
            "24            False       False  ...            False                     False\n",
            "25            False       False  ...            False                     False\n",
            "26            False       False  ...            False                     False\n",
            "27            False       False  ...            False                     False\n",
            "28            False       False  ...            False                     False\n",
            "29            False       False  ...            False                     False\n",
            "...             ...         ...  ...              ...                       ...\n",
            "79970         False       False  ...            False                     False\n",
            "79971         False       False  ...            False                     False\n",
            "79972         False       False  ...            False                     False\n",
            "79973         False       False  ...            False                     False\n",
            "79974         False       False  ...            False                     False\n",
            "79975         False       False  ...            False                     False\n",
            "79976         False       False  ...            False                     False\n",
            "79977         False       False  ...            False                     False\n",
            "79978         False       False  ...            False                     False\n",
            "79979         False       False  ...            False                     False\n",
            "79980         False       False  ...            False                     False\n",
            "79981         False       False  ...            False                     False\n",
            "79982         False       False  ...            False                     False\n",
            "79983         False       False  ...            False                     False\n",
            "79984         False       False  ...            False                     False\n",
            "79985         False       False  ...            False                     False\n",
            "79986         False       False  ...            False                     False\n",
            "79987         False       False  ...            False                     False\n",
            "79988         False       False  ...            False                     False\n",
            "79989         False       False  ...            False                     False\n",
            "79990         False       False  ...            False                     False\n",
            "79991         False       False  ...            False                     False\n",
            "79992         False       False  ...            False                     False\n",
            "79993         False       False  ...            False                     False\n",
            "79994         False       False  ...            False                     False\n",
            "79995         False       False  ...            False                     False\n",
            "79996         False       False  ...            False                     False\n",
            "79997         False       False  ...            False                     False\n",
            "79998         False       False  ...            False                     False\n",
            "79999         False       False  ...            False                     False\n",
            "\n",
            "[80000 rows x 12 columns]\n"
          ],
          "name": "stdout"
        }
      ]
    },
    {
      "cell_type": "code",
      "metadata": {
        "id": "X1F40gQELYh-",
        "colab_type": "code",
        "colab": {
          "base_uri": "https://localhost:8080/",
          "height": 34
        },
        "outputId": "88df16fe-a4f2-4d61-a015-d3a419db0099"
      },
      "source": [
        "# feature qtde.ponto poderá ser removida??\n",
        "\n",
        "\n",
        "X = np.array(train.drop(['traininglabelorder.score'], 1))\n",
        "\n",
        "y = np.array(train['traininglabelorder.score'])\n",
        "\n",
        "\n",
        "print(y)"
      ],
      "execution_count": 6,
      "outputs": [
        {
          "output_type": "stream",
          "text": [
            "[0.00964712 0.84208443 0.74460145 ... 0.8007374  0.00594233 0.7671597 ]\n"
          ],
          "name": "stdout"
        }
      ]
    },
    {
      "cell_type": "code",
      "metadata": {
        "id": "TFvIsxFlLZdi",
        "colab_type": "code",
        "colab": {}
      },
      "source": [
        ""
      ],
      "execution_count": 0,
      "outputs": []
    },
    {
      "cell_type": "code",
      "metadata": {
        "id": "I3U0iQkZB_wO",
        "colab_type": "code",
        "outputId": "15932704-dae4-4f7b-e1ae-2a188c5611c2",
        "colab": {}
      },
      "source": [
        "                                        # raw data should be organized\n",
        "X_train, y_train, id_train, features_train = modify_data([\"time\"], \"train\")\n",
        "X_test, y_test, id_test, features_test = modify_data([\"time\"], \"test\")\n",
        "X_valid, y_valid, id_valid, features_valid = modify_data([\"time\"], \"validate\")\n",
        "X_train, y_train, id_train = remove_outliers(X_train, y_train, id_train, 1000)"
      ],
      "execution_count": 0,
      "outputs": [
        {
          "output_type": "stream",
          "text": [
            "The outliers are: (array([ 168,  185,  604, 1024]),)\n"
          ],
          "name": "stdout"
        }
      ]
    },
    {
      "cell_type": "code",
      "metadata": {
        "id": "ofRhEffqB_wS",
        "colab_type": "code",
        "colab": {}
      },
      "source": [
        "print(X_train.shape)\n",
        "print(X_test.shape[0])\n",
        "print(X_valid.shape[0])"
      ],
      "execution_count": 0,
      "outputs": []
    },
    {
      "cell_type": "markdown",
      "metadata": {
        "id": "PgmdQwPfB_wV",
        "colab_type": "text"
      },
      "source": [
        "Now, we load the necessary modules in order to build machine learning models. Most models belong to the scikit-learn package, except gradient boosted trees, where we recommend using xgboost.\n",
        "\n",
        "We consider 5 popular regression models:\n",
        "- Ridged linear regression\n",
        "- Random Forest regression\n",
        "- Gradient Boosting Tree regression\n",
        "- Support Vector Regression\n",
        "    - rbf kernel\n",
        "    - linear kernel"
      ]
    },
    {
      "cell_type": "code",
      "metadata": {
        "id": "bii8FHnAB_wW",
        "colab_type": "code",
        "colab": {}
      },
      "source": [
        "from sklearn.model_selection import KFold\n",
        "from sklearn.model_selection import cross_val_score\n",
        "from sklearn.metrics import mean_squared_error\n",
        "from sklearn.preprocessing import StandardScaler\n",
        "# preprocessing for SVR\n",
        "\n",
        "from sklearn.linear_model import LogisticRegression\n",
        "from sklearn.linear_model import Ridge\n",
        "from sklearn.ensemble import RandomForestRegressor\n",
        "from xgboost import XGBRegressor\n",
        "from sklearn.svm import SVR\n",
        "from sklearn.svm import LinearSVR"
      ],
      "execution_count": 0,
      "outputs": []
    },
    {
      "cell_type": "markdown",
      "metadata": {
        "id": "BgcLlo-_B_wY",
        "colab_type": "text"
      },
      "source": [
        "We fix the random seed, and assert some prelimary parameters. We will be doing a 5-fold cross validation to measure the performance of a hyperparameter configuration (we will explain later). Also, SVR needs the feature datasets to be normalized."
      ]
    },
    {
      "cell_type": "code",
      "metadata": {
        "id": "PdilRXQiB_wZ",
        "colab_type": "code",
        "colab": {}
      },
      "source": [
        "num_folds = 5\n",
        "seed = 1234\n",
        "kfold = KFold(n_splits=num_folds, random_state=seed)\n",
        "\n",
        "scoring = \"neg_mean_squared_error\"\n",
        "\n",
        "# normalize the data X_train for svr (it is a must for svr!), linear and logistic regressions.\n",
        "X_standard = StandardScaler()\n",
        "sd_X_train = X_standard.fit_transform(X_train)\n",
        "sd_X_test = X_standard.transform(X_test)\n",
        "sd_X_valid = X_standard.transform(X_valid)"
      ],
      "execution_count": 0,
      "outputs": []
    },
    {
      "cell_type": "markdown",
      "metadata": {
        "id": "jXcuyB4XB_wc",
        "colab_type": "text"
      },
      "source": [
        "Ridged linear regression (denoted \"linr\"): It is the simplest model we consider. It only has one hyperparameter, alpha, which is the coefficient for the L2 penalty term in the MLE. Its hyperparameter space is the continuous interval [0.0, 100.0].\n",
        "\n",
        "For details, see http://scikit-learn.org/stable/modules/generated/sklearn.linear_model.Ridge.html"
      ]
    },
    {
      "cell_type": "code",
      "metadata": {
        "id": "7Q5BxJZ6B_wd",
        "colab_type": "code",
        "colab": {}
      },
      "source": [
        "estimators = {}\n",
        "dict_spaces = {}\n",
        "\n",
        "estimators[\"linr\"] = (Ridge(solver = \"svd\"), [\"alpha\"])\n",
        "dict_spaces[\"linr\"] = {\"alpha\": [0.0, 100.0]}"
      ],
      "execution_count": 0,
      "outputs": []
    },
    {
      "cell_type": "markdown",
      "metadata": {
        "id": "tCPIqURkB_wf",
        "colab_type": "text"
      },
      "source": [
        "Random Forest Regressor: This is a tree ensemble model, from which we identify the follwoing 4 hyperparameters. 4 is not a big number, and we can still explain the hyperparameters one by one:\n",
        "\n",
        "- n_estimators is the number of trees in the ensemble, \n",
        "- max_features is the number of features considered when splitting a node in a tree.\n",
        "- max_depth is the maximum depth of a tree.\n",
        "- min_sample_split is the minimum number of data points a leave has to contain. \n",
        "\n",
        "The last three features constrain the expressiveness of the model, which help to avoid over-fittng. But if they are too small, then the model might not have enough capacity to regress the wafer thickness well. Usually, we hand tune these hyperparameters to adjust the model to the \"right capacity\". But we will apply hyperparameter optimization, which automatically tune the hyperparameters.\n",
        "\n",
        "More details for random forest can be found here:\n",
        "\n",
        "http://scikit-learn.org/stable/modules/generated/sklearn.ensemble.RandomForestRegressor.html"
      ]
    },
    {
      "cell_type": "code",
      "metadata": {
        "id": "c9O0WpWyB_wg",
        "colab_type": "code",
        "colab": {}
      },
      "source": [
        "#eg Random Forest\n",
        "estimators[\"rf\"] = (RandomForestRegressor(), [\"n_estimators\", \n",
        "                                            \"max_features\",\n",
        "                                            \"max_depth\",\n",
        "                                            \"min_samples_split\"])\n",
        "dict_spaces[\"rf\"] = {\"n_estimators\": [10, 60], \n",
        "                     \"max_features\": [\"auto\", \"sqrt\", \"log2\", 0.3, 0.4, 0.5, 0.6, 0.7, 0.8],\n",
        "                     \"max_depth\" : [None, 2, 3, 4, 5, 6, 7, 8, 9, 10],\n",
        "                     \"min_samples_split\" : [2, 10]}"
      ],
      "execution_count": 0,
      "outputs": []
    },
    {
      "cell_type": "markdown",
      "metadata": {
        "id": "q2SQEcOOB_wj",
        "colab_type": "text"
      },
      "source": [
        "Gradient boosted trees regressor: This is kinda close relative to random forest, but it requires more effort to tune the hyperparameters. There are quite a lot of hyperparameters, as listed. The details can be found here:\n",
        "\n",
        "http://xgboost.readthedocs.io/en/latest/python/python_api.html#module-xgboost.sklearn"
      ]
    },
    {
      "cell_type": "code",
      "metadata": {
        "id": "tLLsHEDXB_wj",
        "colab_type": "code",
        "colab": {}
      },
      "source": [
        "#eg xgb.XGBRegressor, the sklearn interface for xgboost regressor\n",
        "estimators[\"xgb\"] = (XGBRegressor(), [\"learning_rate\",   \n",
        "                                      \"gamma\",\n",
        "                                      \"max_depth\",       \n",
        "                                      \"min_child_weight\",                          \n",
        "                                      \"max_delta_step\",\n",
        "                                      \"subsample\", \n",
        "                                      \"colsample_bytree\",\n",
        "                                      \"colsample_bylevel\",\n",
        "                                      \"reg_lambda\",\n",
        "                                      \"reg_alpha\", \"n_estimators\"])\n",
        "\n",
        "dict_spaces[\"xgb\"] = {\"learning_rate\": (10**-5, 10**0, \"log-uniform\"),   \n",
        "                      \"gamma\": (0., 0.3),                          # gamma = min_split_loss\n",
        "                      \"max_depth\":  (2, 8),                     \n",
        "                      \"min_child_weight\":  (0., 3.),               # min_child_weight\n",
        "                      \"max_delta_step\" :   (0., 0.),               # max_delta_step\n",
        "                      \"subsample\":  (0.6, 1.0),                    # subsample\n",
        "                      \"colsample_bytree\" :  (0.6, 1.0),            # colsample_bytree\n",
        "                      \"colsample_bylevel\" : (0.6, 1.0),            # colsample_bylevel\n",
        "                      \"reg_lambda\" :  (0., 10.0),                  # lambda\n",
        "                      \"reg_alpha\" : (0., 2.0),                     \n",
        "                      \"n_estimators\":  (50, 600)}                  # num_rounds in xgb"
      ],
      "execution_count": 0,
      "outputs": []
    },
    {
      "cell_type": "markdown",
      "metadata": {
        "id": "4r8bo0VHB_wm",
        "colab_type": "text"
      },
      "source": [
        "Finally, we come to suppor vector regression, which has few hyperparameters. But the hyperparameters \"C\" and \"gamma\" are very very important. Also, SVR requires normalized feature data.\n",
        "\n",
        "http://scikit-learn.org/stable/modules/generated/sklearn.svm.SVR.html\n",
        "http://scikit-learn.org/stable/modules/generated/sklearn.svm.LinearSVR.html"
      ]
    },
    {
      "cell_type": "code",
      "metadata": {
        "id": "M26tSwO1B_wn",
        "colab_type": "code",
        "colab": {}
      },
      "source": [
        "#eg Support Vector Regression with rbf kernel\n",
        "estimators[\"svr_rbf\"] =(SVR(kernel = \"rbf\"), [\"C\", \"gamma\", \"epsilon\"])\n",
        "dict_spaces[\"svr_rbf\"] = {\"C\": (10**-3, 10**4, \"log-uniform\"),   \n",
        "                          \"gamma\": [10**-4, 10**-3.5, 10**-2, 10**-1.5, 10**-1, 10**-0.5, 1.0, 10**0.5, 10**1, \"auto\"], \n",
        "                          \"epsilon\": (0., 0.5)}                       \n",
        "\n",
        "# Support Vector Regression with linear kernel\n",
        "estimators[\"svr_lin\"] = (LinearSVR(), [\"C\", \"epsilon\"])\n",
        "dict_spaces[\"svr_lin\"] = {\"C\": (10**-3, 10**4, \"log-uniform\"),   \n",
        "                          \"epsilon\": (0., 0.5)}     "
      ],
      "execution_count": 0,
      "outputs": []
    },
    {
      "cell_type": "markdown",
      "metadata": {
        "id": "1RKfgpqzB_wq",
        "colab_type": "text"
      },
      "source": [
        "We code our hyperparameter tuning algorith below. It takes as an input a sklearn model and its hyperparameter space, and outputs a good set of hyperparameter configuration by training the model over n_calls carefully selected hyperparameter configs. These configs are usually selected in a sequential manner. \n",
        "\n",
        "We employ the following 3 hyperparameter optimization algorithms:\n",
        "\n",
        "- random search\n",
        "- gaussian process optimization \n",
        "- tree ensemble regression (when random forest is used, it is SMAC)\n",
        "\n",
        "For small n_calls (say 10), these 3 algorithms roughly have the same performance. But gp and ensemble algorithms surpass random search when we have a moderate size n_calls (say 50). It is hard to say if gaussian process opt or tree ensemble is better, and my verdict is that they are roughly the same, at least when n_calls < 100. A survey on hyperparameter optimization can be found here:\n",
        "\n",
        "https://www.cs.ox.ac.uk/people/nando.defreitas/publications/BayesOptLoop.pdf\n",
        "\n",
        "We didnt include two other famous hyperparameter optimization algorithms, namely TPE and grid search. TPE kinda have similar performance to gp and tree ensemble, and we think we have enough number of hyperparameter optimization already. (We are using only one anyway). Grid search is only good when you are extremely experienced with the dataset and model, so experienced that you have a very small search space. Kagglers perform grid search on moderate size search spaces in order to get a 3rd or 4th digit improvement. But we don't think it is necessary here."
      ]
    },
    {
      "cell_type": "code",
      "metadata": {
        "id": "eW1RxsKdB_wq",
        "colab_type": "code",
        "colab": {}
      },
      "source": [
        "from skopt import dummy_minimize, gp_minimize, gbrt_minimize, forest_minimize\n",
        "def auto_cv_score(estimator,\n",
        "                  dict_space,\n",
        "                  X, y, \n",
        "                  kfold = kfold, \n",
        "                  scoring = scoring, \n",
        "                  default = True,\n",
        "                  hpo_optimizer = \"dummy\", \n",
        "                  n_calls = 11, \n",
        "                  n_random_starts = 10,\n",
        "                  x0=None, y0=None, \n",
        "                  random_state=seed, \n",
        "                  verbose=False):\n",
        "    \"\"\"\n",
        "        auto_cv_score aims to compute the best hyperparameter configuration for an\n",
        "        sklearn classifer/regressor, by performing a cross validation on (X, y).\n",
        "        It also works with xgboost.XGBClassifer or xgboost.XGBRegressor, which are \n",
        "        the sklearn wrappers for xgboost classifier and regressor. \n",
        "        \n",
        "        TODO: sklearn wrapper for keras??        \n",
        "        \n",
        "        Input:\n",
        "        - estimator is an ordered pair.\n",
        "            -First entry is an sklearn estimator, (we assume that we can access each \n",
        "             hyperparameter through the estimator's attribute, namely \n",
        "             \"estimator.hyperparamter\")\n",
        "            -Second entry is the ordered array of the hyperparameters in the estimator.\n",
        "             It represents the desired order in the presentation of the hyperparameter \n",
        "             configuration.\n",
        "             \n",
        "        - dict_space is a dictionary.\n",
        "            -Keys = hyperparameters' names\n",
        "            -values = the respective ranges for the hyperparameters\n",
        "            \n",
        "        - X, y are the feature data and target data.\n",
        "        \n",
        "        - kfold is the k-fold cross validation set generated by \n",
        "          sklearn.model_selection.KFold:\n",
        "            kfold = KFold(n_splits=num_folds, random_state=seed)\n",
        "            \n",
        "        - scoring is the sklearn metric used for measuring the error. By default, we use\n",
        "          scoring = \"neg_mean_squared_error\". See sklearn.metric for more details.\n",
        "          \n",
        "        - default is True, if we evaluate the cv error first with the default hyperparameter\n",
        "          config recommended by sklearn. default is False otherwise. It is recommended to \n",
        "          set it to be true, unless you are very sure on what you are doing.\n",
        "          \n",
        "        - hpo_optimizer is the hyperparameter optimizer we are using:\n",
        "            - hpo_optimizer == \"dummy\" for using random search.\n",
        "            - hpo_optimizer == \"gp\" for using gaussian process optimization.\n",
        "            - hpo_optimzier == \"gbrt\" for using the gradient boosting trees variant of SMAC.\n",
        "            - hpo_optimizer == \"rf\" for using SMAC.\n",
        "            - hpo_optimzier == \"et\" for using the extra trees variaint of SMAC.\n",
        "          In fact, the performance of the last four optimizers are kinda similar. \n",
        "          TODO: make hpo_optimizer == \"gs\" (grid search), and hpo_optimizer = \"tpe\", if\n",
        "          there is a point in making these.\n",
        "        \n",
        "        - n_calls = number of hyperparameter evaluations\n",
        "            - if default == True and hpo_optimzer != dummy, then n_calls must be \\geq 11.\n",
        "            - if default == False and hpo_optimzer != dummy, then n_calls must be \\geq 10.\n",
        "            - Otherwise, hpo_optimizer == dummy, and n_calls can be any positive integer.\n",
        "            \n",
        "        - x0 is the list of hyperparameter configs to test on before running our HPO, if \n",
        "          the corresponding y0 is empty. Otherwise, (x0, y0) serves as a warm start for \n",
        "          HPO.\n",
        "          \n",
        "        - random_state is the randome seed we are using.\n",
        "              \n",
        "            \n",
        "        Output:\n",
        "        - hpo_result: The result of the hyperparameter optimization.\n",
        "        - cv_result: The mean and std of the cv score.\n",
        "    \"\"\"\n",
        "    alg = estimator[0]\n",
        "    order = estimator[1]\n",
        "    name, space = dict_space.keys(), dict_space.values()\n",
        "    if set(order)!=set(name):\n",
        "        raise ValueError(\"The hyperparameters for the estimater and the hyperspace do not match.\")\n",
        "    idx = np.empty_like(order, dtype = \"int\")\n",
        "    order = np.asarray(order)\n",
        "    name = np.asarray(name)\n",
        "    #space = np.asarray(space)\n",
        "    for i in range(len(idx)):\n",
        "        #the index INDEX in name where name[INDEX] = order[i] = i th hyperp in order.\n",
        "        idx[i] = np.where(name==order[i])[0][0]\n",
        "    ordered_space = []\n",
        "    for i in range(len(idx)):\n",
        "        ordered_space.append(space[idx[i]])\n",
        "    if default:\n",
        "        x_default = []\n",
        "        for i in range(len(order)):\n",
        "            x_default.append(getattr(alg, order[i]))\n",
        "        if x0:\n",
        "            x0 = [x_default] + x0\n",
        "        else:\n",
        "            x0 = x_default\n",
        "    def cv_skopt(hp_vec):\n",
        "        for i in range(len(order)): #key, value in hp_dict.items():\n",
        "            setattr(alg, order[i], hp_vec[i])\n",
        "        mse = cross_val_score(alg, X, y, cv = kfold, scoring = scoring)\n",
        "        return -mse.mean() \n",
        "    if hpo_optimizer == \"dummy\":\n",
        "        hpo_result = dummy_minimize(cv_skopt, ordered_space, n_calls = n_calls, \n",
        "                                x0=x0, y0=y0, random_state=random_state, verbose=verbose)\n",
        "    elif hpo_optimizer == \"gp\":\n",
        "        hpo_result = gp_minimize(cv_skopt, ordered_space,\n",
        "                                 n_calls = n_calls, n_random_starts = n_random_starts,\n",
        "                             x0=x0, y0=y0, random_state=random_state, verbose=verbose)\n",
        "    elif hpo_optimizer == \"gbrt\":\n",
        "        hpo_result = gbrt_minimize(cv_skopt, ordered_space, \n",
        "                                   n_calls = n_calls, n_random_starts = n_random_starts,\n",
        "                             x0=x0, y0=y0, random_state=random_state, verbose=verbose)\n",
        "    elif hpo_optimizer == \"rf\":\n",
        "        hpo_result = forest_minimize(cv_skopt, ordered_space, base_estimator='RF', \n",
        "                                     n_calls = n_calls, n_random_starts = n_random_starts,\n",
        "                            x0=x0, y0=y0, random_state=random_state, verbose=verbose)\n",
        "    elif hpo_optimizer == \"et\":\n",
        "        hpo_result = forest_minimize(cv_skopt, ordered_space, base_estimator='ET', \n",
        "                                     n_calls = n_calls, n_random_starts = n_random_starts,\n",
        "                            x0=x0, y0=y0, random_state=random_state, verbose=verbose)\n",
        "    else:\n",
        "        raise ValueError(\"The hpo_optimizer must be one of the followings: dummy, gp, gbrt, rf, et.\")\n",
        "    # compute the std for the cross validation under the selected hyperparameter.\n",
        "    best_hp_vec = hpo_result.x\n",
        "    for i in range(len(order)): #key, value in hp_dict.items():\n",
        "        setattr(alg, order[i], best_hp_vec[i])\n",
        "    mse = cross_val_score(alg, X, y, cv = kfold, scoring = scoring)\n",
        "    cv_result = (hpo_result.fun, mse.std())\n",
        "    return hpo_result, cv_result   "
      ],
      "execution_count": 0,
      "outputs": []
    },
    {
      "cell_type": "markdown",
      "metadata": {
        "id": "LIYOarN9B_wt",
        "colab_type": "text"
      },
      "source": [
        "Now, we evaluate the performance of the listed models. We consider doing a brief hyperparameter optimization for each model, so that a model is not unfairly judged because of one bad configuration. The good thing about using sklearn model is that sklearn always recommends a default set of hyperparameter configuration for a model. We use this default configuration as the starting point for our HPO. "
      ]
    },
    {
      "cell_type": "code",
      "metadata": {
        "id": "tU_PGpduB_wu",
        "colab_type": "code",
        "colab": {}
      },
      "source": [
        "alg_names = {\"linr\" : \"Ridge Linear Regression\",\n",
        "             \"rf\" : \"Random Forest\",\n",
        "             \"xgb\" : \"Gradient Boosting Trees\",\n",
        "             \"svr_rbf\" : \"SVR with rbf kernel\",\n",
        "             \"svr_lin\" : \"SVR with linear kernel\"}\n",
        "def get_cv_results(n_calls = 15, \n",
        "                   n_random_starts = 5,\n",
        "                   hpo_optimizer = \"gp\", \n",
        "                   estimators = estimators,\n",
        "                   dict_spaces = dict_spaces, \n",
        "                   alg_names = alg_names,\n",
        "                   X = X_train, sd_X = sd_X_train, y = y_train):\n",
        "    hpo_results = {}\n",
        "    cv_results = {}\n",
        "    need_preproc = [\"linr\", \"svr_rbf\", \"svr_lin\"]\n",
        "    for key in estimators.keys():\n",
        "        if key in need_preproc:\n",
        "            hpo_results[key], cv_results[key] = auto_cv_score(estimators[key], \n",
        "                                                              dict_spaces[key], \n",
        "                                                              X = sd_X, y =y, \n",
        "                                                              n_calls = n_calls,\n",
        "                                                              n_random_starts = n_random_starts,\n",
        "                                                              hpo_optimizer =  hpo_optimizer)\n",
        "        else:\n",
        "            hpo_results[key], cv_results[key] = auto_cv_score(estimators[key], \n",
        "                                                              dict_spaces[key], \n",
        "                                                              X = X, y =y, \n",
        "                                                              n_calls = n_calls, \n",
        "                                                              n_random_starts = n_random_starts,\n",
        "                                                              hpo_optimizer =  hpo_optimizer)\n",
        "\n",
        "\n",
        "        \n",
        "    for key, value in cv_results.items():\n",
        "        print(\"{algo}'s cv MSE: mean = {mean:7.3f} (std = {std:7.3f})\" ).format(algo = alg_names[key],\n",
        "                                                                                mean = value[0],\n",
        "                                                                                std = value[1])\n",
        "      \n",
        "    return hpo_results, cv_results"
      ],
      "execution_count": 0,
      "outputs": []
    },
    {
      "cell_type": "markdown",
      "metadata": {
        "id": "nIocwAUKB_wx",
        "colab_type": "text"
      },
      "source": [
        "The results for the cross validations are listed below. The mean and std arise from the randomness in cross validation."
      ]
    },
    {
      "cell_type": "code",
      "metadata": {
        "id": "pqevf7AgB_wx",
        "colab_type": "code",
        "outputId": "e018c377-0022-47a1-cb0e-8e61e466cb82",
        "colab": {}
      },
      "source": [
        "hpo_results, cv_results = get_cv_results()"
      ],
      "execution_count": 0,
      "outputs": [
        {
          "output_type": "stream",
          "text": [
            "/home/astar/py2/py2/local/lib/python2.7/site-packages/skopt/optimizer/optimizer.py:203: FutureWarning: elementwise comparison failed; returning scalar instead, but in the future will perform elementwise comparison\n",
            "  cat_eq = np.all(x_arr[cat_inds] == next_x_arr[cat_inds])\n"
          ],
          "name": "stderr"
        },
        {
          "output_type": "stream",
          "text": [
            "Gradient Boosting Trees's cv MSE: mean =  13.049 (std =   2.016)\n",
            "Random Forest's cv MSE: mean =  15.338 (std =   4.583)\n",
            "SVR with rbf kernel's cv MSE: mean =  44.311 (std =  20.466)\n",
            "SVR with linear kernel's cv MSE: mean =  80.038 (std =  99.001)\n",
            "Ridge Linear Regression's cv MSE: mean =  35.003 (std =   8.359)\n"
          ],
          "name": "stdout"
        }
      ]
    },
    {
      "cell_type": "markdown",
      "metadata": {
        "id": "vcDf5dpQB_w0",
        "colab_type": "text"
      },
      "source": [
        "Looks like gradient boosting tree is the best so far, but random forest is not that bad also. Surprisingly, Ridge linear regression is better than SVR. Now let's take a closer look on the hyperparameter tunning processes."
      ]
    },
    {
      "cell_type": "markdown",
      "metadata": {
        "id": "kr9_fUajB_w1",
        "colab_type": "text"
      },
      "source": [
        "We plot the convergence of the HPO in the following 3 plots. It could look like the improvement is small..."
      ]
    },
    {
      "cell_type": "code",
      "metadata": {
        "id": "B_PWOTZYB_w2",
        "colab_type": "code",
        "outputId": "5ac4353b-b579-482f-a81f-48dc354188a7",
        "colab": {}
      },
      "source": [
        "t = np.arange(1, 16, 1)\n",
        "def perf_min(lst):\n",
        "    lst_min = []\n",
        "    for i in range(len(lst)):\n",
        "        lst_min.append(np.min(lst[:(i+1)]))\n",
        "    lst_min = np.asarray(lst_min)\n",
        "    return lst_min\n",
        "\n",
        "perf={}\n",
        "for key, item in hpo_results.items():\n",
        "    perf[key] = perf_min(item.func_vals)\n",
        "# red dashes, blue squares and green triangles\n",
        "plt.figure(figsize=(12,6))\n",
        "plt.plot(t, perf[\"xgb\"], 'r8-', label = \"GBT\")\n",
        "plt.plot(t, perf[\"rf\"], 'bs-', label = \"RF\")\n",
        "plt.xlabel(\"Iteration\")\n",
        "plt.ylabel(\"CV MSE\")\n",
        "plt.legend()\n",
        "plt.show()"
      ],
      "execution_count": 0,
      "outputs": [
        {
          "output_type": "display_data",
          "data": {
            "image/png": "[encoded data removed]",
            "text/plain": [
              "<matplotlib.figure.Figure at 0x7f5e2a399410>"
            ]
          },
          "metadata": {
            "tags": []
          }
        }
      ]
    },
    {
      "cell_type": "code",
      "metadata": {
        "id": "4pVSs2bwB_w5",
        "colab_type": "code",
        "colab": {}
      },
      "source": [
        ""
      ],
      "execution_count": 0,
      "outputs": []
    },
    {
      "cell_type": "code",
      "metadata": {
        "id": "8f80zMWDB_w7",
        "colab_type": "code",
        "outputId": "6a4feaa4-c940-43cc-e374-60a4c5f75aa9",
        "colab": {}
      },
      "source": [
        "plt.figure(figsize=(12,6))\n",
        "plt.plot(t, perf[\"linr\"], 'g^:', label = \"LR\")\n",
        "plt.plot(t, perf[\"svr_rbf\"], \"m2:\", label = \"SVR_RBF\")\n",
        "plt.xlabel(\"Iteration\")\n",
        "plt.ylabel(\"CV MSE\")\n",
        "plt.legend()\n",
        "plt.show()"
      ],
      "execution_count": 0,
      "outputs": [
        {
          "output_type": "display_data",
          "data": {
            "image/png": "[encoded data removed]",
            "text/plain": [
              "<matplotlib.figure.Figure at 0x7f5e2a872110>"
            ]
          },
          "metadata": {
            "tags": []
          }
        }
      ]
    },
    {
      "cell_type": "code",
      "metadata": {
        "id": "qbUfd3APB_w_",
        "colab_type": "code",
        "outputId": "baba688f-c2a7-4872-dfdb-60b57bece75e",
        "colab": {}
      },
      "source": [
        "plt.figure(figsize=(12,6))\n",
        "plt.plot(t, perf[\"svr_lin\"], \"k1-.\")\n",
        "plt.xlabel(\"Iteration\")\n",
        "plt.ylabel(\"CV MSE\")\n",
        "plt.legend()\n",
        "plt.show()"
      ],
      "execution_count": 0,
      "outputs": [
        {
          "output_type": "display_data",
          "data": {
            "image/png": "[encoded data removed]",
            "text/plain": [
              "<matplotlib.figure.Figure at 0x7f5e2a984d50>"
            ]
          },
          "metadata": {
            "tags": []
          }
        }
      ]
    },
    {
      "cell_type": "markdown",
      "metadata": {
        "id": "LNHdYWEMB_xD",
        "colab_type": "text"
      },
      "source": [
        "If we look at the cv values during the HPO for each algorithms, we witness that there are quite a lot of fluctuation, and it is not straightforward to find hp config that beats the default hp config (the default's cv value is the first entry)"
      ]
    },
    {
      "cell_type": "code",
      "metadata": {
        "id": "YQuzw4DxB_xE",
        "colab_type": "code",
        "outputId": "70a650df-bef9-4fec-a973-2de5a2ea0764",
        "colab": {}
      },
      "source": [
        "print(\"Random Forest's cv values during HPO:\")\n",
        "print(hpo_results[\"rf\"].func_vals)\n",
        "print(\"-------------------------------\\n\")\n",
        "print(\"Gradient Boosting Trees's cv values during HPO:\")\n",
        "print(hpo_results[\"xgb\"].func_vals)\n",
        "print(\"-------------------------------\\n\")\n",
        "print(\"Ridged Linear Regression's cv values during HPO:\")\n",
        "print(hpo_results[\"linr\"].func_vals)\n",
        "print(\"-------------------------------\\n\")\n",
        "print(\"SVR (RBF)'s cv values during HPO:\")\n",
        "print(hpo_results[\"svr_rbf\"].func_vals)\n",
        "print(\"-------------------------------\\n\")\n",
        "print(\"SVR (linear)'s cv values during HPO:\")\n",
        "print(hpo_results[\"svr_lin\"].func_vals)\n",
        "print(\"-------------------------------\\n\")"
      ],
      "execution_count": 0,
      "outputs": [
        {
          "output_type": "stream",
          "text": [
            "Random Forest's cv values during HPO:\n",
            "[ 15.73616185  16.05607953  16.06705268  23.66464511  19.41560517\n",
            "  60.16747199  19.31377462  15.42660422  15.33801609  15.57829866\n",
            "  19.40809196  15.73757752  15.61385822  15.47838575  15.74637834]\n",
            "-------------------------------\n",
            "\n",
            "Gradient Boosting Trees's cv values during HPO:\n",
            "[   13.21070919  8313.75641223  4593.48883657  8777.66515427  5143.68985288\n",
            "  8781.94150632    13.21070919    13.42056323    13.40763469    13.34246484\n",
            "    13.40740184    13.51279207    13.49718591    13.3428335     13.04877033]\n",
            "-------------------------------\n",
            "\n",
            "Ridged Linear Regression's cv values during HPO:\n",
            "[ 35.03118184  49.13749051  36.06772057  38.11438471  35.33207604\n",
            "  35.3476264   35.00259731  35.01003685  35.09894886  35.00259777\n",
            "  35.00274645  35.00318818  35.00285404  35.00437912  35.0043692 ]\n",
            "-------------------------------\n",
            "\n",
            "SVR (RBF)'s cv values during HPO:\n",
            "[   48.56165431  1019.39160837   921.69505223  1018.83693862   147.13617409\n",
            "   924.90904458    52.05216795  1018.2767826     44.31143711    44.55153263\n",
            "    44.82189441    45.06521275    45.29168408    45.47270724    45.66043974]\n",
            "-------------------------------\n",
            "\n",
            "SVR (linear)'s cv values during HPO:\n",
            "[    80.03805807  13646.99761456     82.58841917    475.57563398\n",
            "    200.12702071    407.46893659     80.67625728     82.84922354\n",
            "     81.26184716     80.69094559     80.64381445     80.80780063\n",
            "     81.25468619     81.04905042     80.94835261]\n",
            "-------------------------------\n",
            "\n"
          ],
          "name": "stdout"
        }
      ]
    },
    {
      "cell_type": "markdown",
      "metadata": {
        "id": "TJH5pM6kB_xH",
        "colab_type": "text"
      },
      "source": [
        "Let's perform 50 additional iterations for our HPO. We use gaussian processes as our HP optimizers. It takes about 20 minutes for the computation below."
      ]
    },
    {
      "cell_type": "code",
      "metadata": {
        "id": "NRsyQe4bB_xH",
        "colab_type": "code",
        "outputId": "b930c5ba-ed6f-4319-afe5-a00f219a789d",
        "colab": {}
      },
      "source": [
        "# takes ~ 20 minutes...\n",
        "estimators[\"rf\"] = (RandomForestRegressor(), [\"n_estimators\", \n",
        "                                            \"max_features\",\n",
        "                                            \"max_depth\",\n",
        "                                            \"min_samples_split\"])\n",
        "\n",
        "further_rf_hpo = auto_cv_score(estimators[\"rf\"],\n",
        "                               dict_spaces[\"rf\"],\n",
        "                               X_train, y_train, \n",
        "                               kfold = kfold, \n",
        "                               scoring = scoring, \n",
        "                               default = False,\n",
        "                               hpo_optimizer = \"gp\", \n",
        "                               n_calls = 50, \n",
        "                               n_random_starts = 0,\n",
        "                               x0=hpo_results[\"rf\"].x_iters, \n",
        "                               y0=hpo_results[\"rf\"].func_vals, \n",
        "                               random_state=seed, \n",
        "                               verbose=False)\n",
        "\n",
        "estimators[\"xgb\"] = (XGBRegressor(), [\"learning_rate\",   \n",
        "                                      \"gamma\",\n",
        "                                      \"max_depth\",       \n",
        "                                      \"min_child_weight\",                          \n",
        "                                      \"max_delta_step\",\n",
        "                                      \"subsample\", \n",
        "                                      \"colsample_bytree\",\n",
        "                                      \"colsample_bylevel\",\n",
        "                                      \"reg_lambda\",\n",
        "                                      \"reg_alpha\", \"n_estimators\"])\n",
        "\n",
        "further_xgb_hpo = auto_cv_score(estimators[\"xgb\"],\n",
        "                               dict_spaces[\"xgb\"],\n",
        "                               X_train, y_train, \n",
        "                               kfold = kfold, \n",
        "                               scoring = scoring, \n",
        "                               default = False,\n",
        "                               hpo_optimizer = \"gp\", \n",
        "                               n_calls = 50, \n",
        "                               n_random_starts = 0,\n",
        "                               x0=hpo_results[\"xgb\"].x_iters, \n",
        "                               y0=hpo_results[\"xgb\"].func_vals, \n",
        "                               random_state=seed, \n",
        "                               verbose=False)"
      ],
      "execution_count": 0,
      "outputs": [
        {
          "output_type": "stream",
          "text": [
            "/home/astar/py2/py2/local/lib/python2.7/site-packages/skopt/optimizer/optimizer.py:208: UserWarning: The objective has been evaluated at this point before.\n",
            "  warnings.warn(\"The objective has been evaluated \"\n"
          ],
          "name": "stderr"
        }
      ]
    },
    {
      "cell_type": "markdown",
      "metadata": {
        "id": "jdxQSXs3B_xK",
        "colab_type": "text"
      },
      "source": [
        "Let's take a look at the best hyperparameter configurations we have obtained so far:"
      ]
    },
    {
      "cell_type": "code",
      "metadata": {
        "id": "BMRnFUyoB_xL",
        "colab_type": "code",
        "outputId": "611d442c-0f42-41f1-e436-b20268b59ded",
        "colab": {}
      },
      "source": [
        "best_rf = dict(zip(estimators[\"rf\"][1], further_rf_hpo[0].x))\n",
        "best_xgb = dict(zip(estimators[\"xgb\"][1], further_xgb_hpo[0].x))\n",
        "print(\"Our best hyperparameter configuration for random forest is\")\n",
        "for key, item in best_rf.items():\n",
        "    print(key + \": \" + str(item))\n",
        "print(\"-------------------------------------------------------------\")\n",
        "print(\"Our best hyperparameter configuration for gradient boosting is\")\n",
        "for key, item in best_xgb.items():\n",
        "    print(key + \": \" + str(item))"
      ],
      "execution_count": 0,
      "outputs": [
        {
          "output_type": "stream",
          "text": [
            "Our best hyperparameter configuration for random forest is\n",
            "n_estimators: 60\n",
            "max_features: 0.4\n",
            "min_samples_split: 2\n",
            "max_depth: None\n",
            "-------------------------------------------------------------\n",
            "Our best hyperparameter configuration for gradient boosting is\n",
            "reg_alpha: 0.948766094664\n",
            "colsample_bytree: 0.819748481326\n",
            "colsample_bylevel: 0.845517728008\n",
            "learning_rate: 0.0849090680093\n",
            "max_delta_step: 0.0\n",
            "min_child_weight: 2.37764760709\n",
            "n_estimators: 488\n",
            "subsample: 0.685707865\n",
            "reg_lambda: 1.9297111035\n",
            "max_depth: 4\n",
            "gamma: 0.218106329892\n"
          ],
          "name": "stdout"
        }
      ]
    },
    {
      "cell_type": "markdown",
      "metadata": {
        "id": "ea6nuit7B_xO",
        "colab_type": "text"
      },
      "source": [
        "We witness the following convergence:"
      ]
    },
    {
      "cell_type": "code",
      "metadata": {
        "id": "p-LZg4FzB_xO",
        "colab_type": "code",
        "outputId": "009b00ff-2ed5-41bd-981f-a68a9b60d63f",
        "colab": {}
      },
      "source": [
        "final_xgb = perf_min(np.asarray(further_xgb_hpo[0].func_vals))\n",
        "final_rf = perf_min(np.asarray(further_rf_hpo[0].func_vals))\n",
        "tt = np.arange(1, 66, 1)\n",
        "\n",
        "plt.figure(figsize=(12,6))\n",
        "plt.plot(tt, final_xgb, 'r8-', label = \"GBT\")\n",
        "plt.plot(tt, final_rf, 'bs-', label = \"RF\")\n",
        "plt.xlabel(\"Iteration\")\n",
        "plt.ylabel(\"CV MSE\")\n",
        "plt.legend()\n",
        "plt.show()"
      ],
      "execution_count": 0,
      "outputs": [
        {
          "output_type": "display_data",
          "data": {
            "image/png": "[encoded data removed]",
            "text/plain": [
              "<matplotlib.figure.Figure at 0x7f5e1e10fa50>"
            ]
          },
          "metadata": {
            "tags": []
          }
        }
      ]
    },
    {
      "cell_type": "markdown",
      "metadata": {
        "id": "kyDZt3yzB_xR",
        "colab_type": "text"
      },
      "source": [
        "Finally, we evaluate the performance of our tuned GBT and RF on the test and validation datasets."
      ]
    },
    {
      "cell_type": "code",
      "metadata": {
        "id": "SuT--7SZB_xS",
        "colab_type": "code",
        "outputId": "b1780e4a-ee73-4a02-b24f-1b8917a23574",
        "colab": {}
      },
      "source": [
        "from sklearn.metrics import mean_absolute_error, mean_squared_error\n",
        "# define the models with our best hyperparameters.\n",
        "best_rf_model = RandomForestRegressor(**best_rf)\n",
        "best_xgb_model = XGBRegressor(**best_xgb)\n",
        "# fit the xgb and rf with the whole of training dataset.\n",
        "best_rf_model.fit(X_train, y_train)\n",
        "best_xgb_model.fit(X_train, y_train)\n",
        "# predict\n",
        "y_rf_test = best_rf_model.predict(X_test)\n",
        "y_rf_valid = best_rf_model.predict(X_valid)\n",
        "y_xgb_test = best_xgb_model.predict(X_test)\n",
        "y_xgb_valid = best_xgb_model.predict(X_valid)\n",
        "# the MSEs\n",
        "xgb_test_mse = mean_squared_error(y_xgb_test, y_test)\n",
        "xgb_test_mae = mean_absolute_error(y_xgb_test, y_test)\n",
        "xgb_valid_mse = mean_squared_error(y_xgb_valid, y_valid)\n",
        "xgb_valid_mae = mean_absolute_error(y_xgb_valid, y_valid)\n",
        "rf_test_mse = mean_squared_error(y_rf_test, y_test)\n",
        "rf_test_mae = mean_absolute_error(y_rf_test, y_test)\n",
        "rf_valid_mse = mean_squared_error(y_rf_valid, y_valid)\n",
        "rf_valid_mae = mean_absolute_error(y_rf_valid, y_valid)\n",
        "# print out\n",
        "print(\"On the training set: \")\n",
        "print(\"GBT has cv MSE \" + str(13))\n",
        "print(\"Random Forest has cv MSE \" + str(15.25))\n",
        "print(\"-------------------------------------------\")\n",
        "print(\"On the test set: \")\n",
        "print(\"GBT has MSE \" + str(xgb_test_mse))\n",
        "print(\"GBT has MAE \" + str(xgb_test_mae))\n",
        "print(\"Random Forest has MSE \" + str(rf_test_mse))\n",
        "print(\"Random Forest has MAE \" + str(rf_test_mae))\n",
        "print(\"-------------------------------------------\")\n",
        "print(\"On the validation set: \")\n",
        "print(\"GBT has MSE \" + str(xgb_valid_mse))\n",
        "print(\"GBT has MAE \" + str(xgb_valid_mae))\n",
        "print(\"Random Forest has MSE \" + str(rf_valid_mse))\n",
        "print(\"Random Forest has MAE \" + str(rf_valid_mae))"
      ],
      "execution_count": 0,
      "outputs": [
        {
          "output_type": "stream",
          "text": [
            "On the training set: \n",
            "GBT has cv MSE 13\n",
            "Random Forest has cv MSE 15.25\n",
            "-------------------------------------------\n",
            "On the test set: \n",
            "GBT has MSE 11.1693288366\n",
            "GBT has MAE 2.5768468448\n",
            "Random Forest has MSE 12.1476106446\n",
            "Random Forest has MAE 2.61338905759\n",
            "-------------------------------------------\n",
            "On the validation set: \n",
            "GBT has MSE 11.552476739\n",
            "GBT has MAE 2.54867379054\n",
            "Random Forest has MSE 11.0687909462\n",
            "Random Forest has MAE 2.5090241591\n"
          ],
          "name": "stdout"
        }
      ]
    },
    {
      "cell_type": "markdown",
      "metadata": {
        "id": "5FNnYgjaB_xU",
        "colab_type": "text"
      },
      "source": [
        "Here is the code for performing HPO, in the case when you are given a training and a test dataset."
      ]
    },
    {
      "cell_type": "code",
      "metadata": {
        "id": "1R8SGDktB_xV",
        "colab_type": "code",
        "colab": {}
      },
      "source": [
        "from sklearn.metrics import mean_squared_error\n",
        "from skopt import dummy_minimize, gp_minimize, gbrt_minimize, forest_minimize\n",
        "def auto_validate(estimator, \n",
        "                  dict_space, \n",
        "                  X_train, y_train, X_test, y_test,\n",
        "                  error_func = mean_squared_error, \n",
        "                  default = True,\n",
        "                  hpo_optimizer = \"dummy\", \n",
        "                  n_calls = 11, \n",
        "                  n_random_starts = 10,\n",
        "                  x0=None, y0=None, \n",
        "                  random_state=seed, \n",
        "                  verbose=False):\n",
        "    \"\"\"\n",
        "        auto_validate aims to compute the best hyperparameter configuration for an\n",
        "        sklearn classifer/regressor. It trains a model with a given hp config on the\n",
        "        training set (X_train, y_train), then tests the model on the test set \n",
        "        (X_test, y_test). It also works with xgboost.XGBClassifer or \n",
        "        xgboost.XGBRegressor, which are the sklearn wrappers for xgboost classifier\n",
        "        and regressor. \n",
        "        \n",
        "        TODO: sklearn wrapper for keras??        \n",
        "        \n",
        "        Input:\n",
        "        - estimator is an ordered pair.\n",
        "            -First entry is an sklearn estimator, (we assume that we can access each \n",
        "             hyperparameter through the estimator's attribute, namely \n",
        "             \"estimator.hyperparamter\")\n",
        "            -Second entry is the ordered array of the hyperparameters in the estimator.\n",
        "             It represents the desired order in the presentation of the hyperparameter \n",
        "             configuration.\n",
        "             \n",
        "        - dict_space is a dictionary.\n",
        "            -Keys = hyperparameters' names\n",
        "            -values = the respective ranges for the hyperparameters\n",
        "            \n",
        "        - (X_train, y_train) is the training set, and (X_test, y_test) is the testing set.\n",
        "        \n",
        "        - error_func is the sklearn metric used for measuring the error. By default, we use\n",
        "          scoring = \"mean_squared_error\". See sklearn.metric for more details.\n",
        "          \n",
        "        - default is True, if we compute the test error first with the default hyperparameter\n",
        "          config recommended by sklearn. default is False otherwise. It is recommended to \n",
        "          set it to be true, unless you are very sure on what you are doing.\n",
        "          \n",
        "        - hpo_optimizer is the hyperparameter optimizer we are using:\n",
        "            - hpo_optimizer == \"dummy\" for using random search.\n",
        "            - hpo_optimizer == \"gp\" for using gaussian process optimization.\n",
        "            - hpo_optimzier == \"gbrt\" for using the gradient boosting trees variant of SMAC.\n",
        "            - hpo_optimizer == \"rf\" for using SMAC.\n",
        "            - hpo_optimzier == \"et\" for using the extra trees variaint of SMAC.\n",
        "          In fact, the performance of the last four optimizers are kinda similar. \n",
        "          TODO: make hpo_optimizer == \"gs\" (grid search), and hpo_optimizer = \"tpe\", if\n",
        "          there is a point in making these.\n",
        "        \n",
        "        - n_calls = number of hyperparameter evaluations\n",
        "            - if default == True and hpo_optimzer != dummy, then n_calls must be \\geq 11.\n",
        "            - if default == False and hpo_optimzer != dummy, then n_calls must be \\geq 10.\n",
        "            - Otherwise, hpo_optimizer == dummy, and n_calls can be any positive integer.\n",
        "            \n",
        "        - x0 is the list of hyperparameter configs to test on before running our HPO, if \n",
        "          the corresponding y0 is empty. Otherwise, (x0, y0) serves as a warm start for \n",
        "          HPO.\n",
        "          \n",
        "        - random_state is the randome seed we are using.\n",
        "              \n",
        "            \n",
        "        Output:\n",
        "        - hpo_result: The result of the hyperparameter optimization.\n",
        "    \"\"\"\n",
        "    alg = estimator[0]\n",
        "    order = estimator[1]\n",
        "    name, space = dict_space.keys(), dict_space.values()\n",
        "    if set(order)!=set(name):\n",
        "        raise ValueError(\"The hyperparameters for the estimater and the hyperspace do not match.\")\n",
        "    idx = np.empty_like(order, dtype = \"int\")\n",
        "    order = np.asarray(order)\n",
        "    name = np.asarray(name)\n",
        "    #space = np.asarray(space)\n",
        "    for i in range(len(idx)):\n",
        "        #the index INDEX in name where name[INDEX] = order[i] = i th hyperp in order.\n",
        "        idx[i] = np.where(name==order[i])[0][0]\n",
        "    ordered_space = []\n",
        "    for i in range(len(idx)):\n",
        "        ordered_space.append(space[idx[i]])\n",
        "    if default:\n",
        "        x_default = []\n",
        "        for i in range(len(order)):\n",
        "            x_default.append(getattr(alg, order[i]))\n",
        "        if x0:\n",
        "            x0 = [x_default] + x0\n",
        "        else:\n",
        "            x0 = x_default\n",
        "    def validate_skopt(hp_vec):\n",
        "        for i in range(len(order)): #key, value in hp_dict.items():\n",
        "            setattr(alg, order[i], hp_vec[i])\n",
        "        alg.fit(X_train, y_train)\n",
        "        y_pred = alg.pred(X_test)\n",
        "        error = error_func(y_pred, y_test)\n",
        "        return error\n",
        "    if hpo_optimizer == \"dummy\":\n",
        "        hpo_result = dummy_minimize(validate_skopt, ordered_space, n_calls = n_calls, \n",
        "                                x0=x0, y0=y0, random_state=random_state, verbose=verbose)\n",
        "    elif hpo_optimizer == \"gp\":\n",
        "        hpo_result = gp_minimize(validate_skopt, ordered_space,\n",
        "                                 n_calls = n_calls, n_random_starts = n_random_starts,\n",
        "                             x0=x0, y0=y0, random_state=random_state, verbose=verbose)\n",
        "    elif hpo_optimizer == \"gbrt\":\n",
        "        hpo_result = gbrt_minimize(validate_skopt, ordered_space, \n",
        "                                   n_calls = n_calls, n_random_starts = n_random_starts,\n",
        "                             x0=x0, y0=y0, random_state=random_state, verbose=verbose)\n",
        "    elif hpo_optimizer == \"rf\":\n",
        "        hpo_result = forest_minimize(validate_skopt, ordered_space, base_estimator='RF', \n",
        "                                     n_calls = n_calls, n_random_starts = n_random_starts,\n",
        "                            x0=x0, y0=y0, random_state=random_state, verbose=verbose)\n",
        "    elif hpo_optimizer == \"et\":\n",
        "        hpo_result = forest_minimize(validate_skopt, ordered_space, base_estimator='ET', \n",
        "                                     n_calls = n_calls, n_random_starts = n_random_starts,\n",
        "                            x0=x0, y0=y0, random_state=random_state, verbose=verbose)\n",
        "    else:\n",
        "        raise ValueError(\"The hpo_optimizer must be one of the followings: dummy, gp, gbrt, rf, et.\")\n",
        "    return hpo_result"
      ],
      "execution_count": 0,
      "outputs": []
    }
  ]
}