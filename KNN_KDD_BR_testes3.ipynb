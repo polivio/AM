{
  "nbformat": 4,
  "nbformat_minor": 0,
  "metadata": {
    "kernelspec": {
      "display_name": "Python 3",
      "language": "python",
      "name": "python3"
    },
    "language_info": {
      "codemirror_mode": {
        "name": "ipython",
        "version": 3
      },
      "file_extension": ".py",
      "mimetype": "text/x-python",
      "name": "python",
      "nbconvert_exporter": "python",
      "pygments_lexer": "ipython3",
      "version": "3.7.3"
    },
    "colab": {
      "name": "KNN_example.ipynb",
      "provenance": [],
      "include_colab_link": true
    }
  },
  "cells": [
    {
      "cell_type": "markdown",
      "metadata": {
        "id": "view-in-github",
        "colab_type": "text"
      },
      "source": [
        "<a href=\"https://colab.research.google.com/github/polivio/AM/blob/master/KNN_KDD_BR_testes3.ipynb\" target=\"_parent\"><img src=\"https://colab.research.google.com/assets/colab-badge.svg\" alt=\"Open In Colab\"/></a>"
      ]
    },
    {
      "cell_type": "code",
      "metadata": {
        "id": "-cEOVgL9jy0C",
        "colab_type": "code",
        "colab": {}
      },
      "source": [
        "# https://www.kaggle.com/c/kddbr-2019/data\n",
        "\n",
        "# KNN KDD BR -Polivio\n",
        "import numpy as np\n",
        "from sklearn import preprocessing, neighbors\n",
        "import pandas as pd\n",
        "import matplotlib.pyplot as plt\n",
        "from sklearn.model_selection import train_test_split\n",
        "from sklearn.metrics import mean_squared_error\n",
        "from math import sqrt\n",
        "\n",
        "\n"
      ],
      "execution_count": 0,
      "outputs": []
    },
    {
      "cell_type": "code",
      "metadata": {
        "id": "FyyXDD24jy0H",
        "colab_type": "code",
        "colab": {}
      },
      "source": [
        "# preprocessing # blob # raw\n",
        "train = pd.read_csv('https://github.com/polivio/PEE/raw/master/Training_grouped.csv')\n",
        "test = pd.read_csv('https://github.com/polivio/PEE/raw/master/Test_grouped.csv')\n",
        "\n"
      ],
      "execution_count": 0,
      "outputs": []
    },
    {
      "cell_type": "code",
      "metadata": {
        "id": "eAPf1EwfNgg_",
        "colab_type": "code",
        "colab": {}
      },
      "source": [
        "# separando o id, features e label para preprocessamento\n",
        "idTrain = train.loc[:,['traininglabelorder.scatterplotID']]\n",
        "features = train.loc[:,['qtde.ponto', \n",
        "       'mean.signalX', 'sd.signalX', 'kurtosis.signalX',\n",
        "      'mean.signalY', 'sd.signalY', \n",
        "       'kurtosis.signalY', 'L', 'X', 'XY', 'Y',\n",
        "       'mean.silhouette' ]]\n",
        "\n",
        "labelTrain = train.loc[:,['traininglabelorder.score']]\n",
        "\n"
      ],
      "execution_count": 0,
      "outputs": []
    },
    {
      "cell_type": "code",
      "metadata": {
        "id": "WUuBhRxuf6pa",
        "colab_type": "code",
        "outputId": "560176e0-b73f-4e6f-8d3e-3f914d1a4bd9",
        "colab": {
          "base_uri": "https://localhost:8080/",
          "height": 669
        }
      },
      "source": [
        "idVal = test.loc[:,['testorder.ID']]\n",
        "featuresval = test.loc[:,[ 'qtde.ponto', \n",
        "       'mean.signalX', 'sd.signalX', 'kurtosis.signalX',\n",
        "      'mean.signalY', 'sd.signalY', \n",
        "       'kurtosis.signalY', 'L', 'X', 'XY', 'Y',\n",
        "       'mean.silhouette']]\n",
        "featuresval.head(20)"
      ],
      "execution_count": 56,
      "outputs": [
        {
          "output_type": "execute_result",
          "data": {
            "text/html": [
              "<div>\n",
              "<style scoped>\n",
              "    .dataframe tbody tr th:only-of-type {\n",
              "        vertical-align: middle;\n",
              "    }\n",
              "\n",
              "    .dataframe tbody tr th {\n",
              "        vertical-align: top;\n",
              "    }\n",
              "\n",
              "    .dataframe thead th {\n",
              "        text-align: right;\n",
              "    }\n",
              "</style>\n",
              "<table border=\"1\" class=\"dataframe\">\n",
              "  <thead>\n",
              "    <tr style=\"text-align: right;\">\n",
              "      <th></th>\n",
              "      <th>qtde.ponto</th>\n",
              "      <th>mean.signalX</th>\n",
              "      <th>sd.signalX</th>\n",
              "      <th>kurtosis.signalX</th>\n",
              "      <th>mean.signalY</th>\n",
              "      <th>sd.signalY</th>\n",
              "      <th>kurtosis.signalY</th>\n",
              "      <th>L</th>\n",
              "      <th>X</th>\n",
              "      <th>XY</th>\n",
              "      <th>Y</th>\n",
              "      <th>mean.silhouette</th>\n",
              "    </tr>\n",
              "  </thead>\n",
              "  <tbody>\n",
              "    <tr>\n",
              "      <th>0</th>\n",
              "      <td>384</td>\n",
              "      <td>2929.713542</td>\n",
              "      <td>983.267187</td>\n",
              "      <td>2.204854</td>\n",
              "      <td>2338.335938</td>\n",
              "      <td>880.798587</td>\n",
              "      <td>1.852330</td>\n",
              "      <td>7</td>\n",
              "      <td>116.0</td>\n",
              "      <td>167.0</td>\n",
              "      <td>94.0</td>\n",
              "      <td>0.916505</td>\n",
              "    </tr>\n",
              "    <tr>\n",
              "      <th>1</th>\n",
              "      <td>384</td>\n",
              "      <td>1409.484375</td>\n",
              "      <td>525.140811</td>\n",
              "      <td>2.798995</td>\n",
              "      <td>3155.841146</td>\n",
              "      <td>978.277806</td>\n",
              "      <td>2.624796</td>\n",
              "      <td>4</td>\n",
              "      <td>92.0</td>\n",
              "      <td>189.0</td>\n",
              "      <td>99.0</td>\n",
              "      <td>0.891220</td>\n",
              "    </tr>\n",
              "    <tr>\n",
              "      <th>2</th>\n",
              "      <td>382</td>\n",
              "      <td>2031.329843</td>\n",
              "      <td>2023.975889</td>\n",
              "      <td>2.531504</td>\n",
              "      <td>2982.876963</td>\n",
              "      <td>996.573219</td>\n",
              "      <td>2.506589</td>\n",
              "      <td>5</td>\n",
              "      <td>50.0</td>\n",
              "      <td>73.0</td>\n",
              "      <td>254.0</td>\n",
              "      <td>0.947689</td>\n",
              "    </tr>\n",
              "    <tr>\n",
              "      <th>3</th>\n",
              "      <td>370</td>\n",
              "      <td>2900.078378</td>\n",
              "      <td>1278.838337</td>\n",
              "      <td>1.794436</td>\n",
              "      <td>2463.178378</td>\n",
              "      <td>1937.785232</td>\n",
              "      <td>1.229172</td>\n",
              "      <td>5</td>\n",
              "      <td>170.0</td>\n",
              "      <td>10.0</td>\n",
              "      <td>185.0</td>\n",
              "      <td>0.954000</td>\n",
              "    </tr>\n",
              "    <tr>\n",
              "      <th>4</th>\n",
              "      <td>384</td>\n",
              "      <td>2567.598958</td>\n",
              "      <td>1090.155787</td>\n",
              "      <td>2.272346</td>\n",
              "      <td>3239.945312</td>\n",
              "      <td>1195.922708</td>\n",
              "      <td>2.315470</td>\n",
              "      <td>4</td>\n",
              "      <td>106.0</td>\n",
              "      <td>182.0</td>\n",
              "      <td>92.0</td>\n",
              "      <td>0.829513</td>\n",
              "    </tr>\n",
              "    <tr>\n",
              "      <th>5</th>\n",
              "      <td>384</td>\n",
              "      <td>4270.281250</td>\n",
              "      <td>2030.633675</td>\n",
              "      <td>2.377766</td>\n",
              "      <td>4901.104167</td>\n",
              "      <td>1866.213853</td>\n",
              "      <td>2.132134</td>\n",
              "      <td>7</td>\n",
              "      <td>32.0</td>\n",
              "      <td>221.0</td>\n",
              "      <td>124.0</td>\n",
              "      <td>0.419574</td>\n",
              "    </tr>\n",
              "    <tr>\n",
              "      <th>6</th>\n",
              "      <td>373</td>\n",
              "      <td>2978.777480</td>\n",
              "      <td>1572.195225</td>\n",
              "      <td>2.029055</td>\n",
              "      <td>1948.024129</td>\n",
              "      <td>1639.697019</td>\n",
              "      <td>2.898959</td>\n",
              "      <td>4</td>\n",
              "      <td>268.0</td>\n",
              "      <td>10.0</td>\n",
              "      <td>91.0</td>\n",
              "      <td>0.896077</td>\n",
              "    </tr>\n",
              "    <tr>\n",
              "      <th>7</th>\n",
              "      <td>384</td>\n",
              "      <td>757.755208</td>\n",
              "      <td>156.297509</td>\n",
              "      <td>5.168092</td>\n",
              "      <td>1348.734375</td>\n",
              "      <td>162.318779</td>\n",
              "      <td>6.400867</td>\n",
              "      <td>5</td>\n",
              "      <td>8.0</td>\n",
              "      <td>361.0</td>\n",
              "      <td>10.0</td>\n",
              "      <td>0.858830</td>\n",
              "    </tr>\n",
              "    <tr>\n",
              "      <th>8</th>\n",
              "      <td>112</td>\n",
              "      <td>1365.607143</td>\n",
              "      <td>945.558059</td>\n",
              "      <td>2.604198</td>\n",
              "      <td>3305.116071</td>\n",
              "      <td>1046.073790</td>\n",
              "      <td>3.044885</td>\n",
              "      <td>2</td>\n",
              "      <td>2.0</td>\n",
              "      <td>36.0</td>\n",
              "      <td>72.0</td>\n",
              "      <td>0.896741</td>\n",
              "    </tr>\n",
              "    <tr>\n",
              "      <th>9</th>\n",
              "      <td>212</td>\n",
              "      <td>1061.561321</td>\n",
              "      <td>563.184851</td>\n",
              "      <td>1.879929</td>\n",
              "      <td>1370.745283</td>\n",
              "      <td>293.410815</td>\n",
              "      <td>3.574951</td>\n",
              "      <td>3</td>\n",
              "      <td>25.0</td>\n",
              "      <td>64.0</td>\n",
              "      <td>120.0</td>\n",
              "      <td>0.953351</td>\n",
              "    </tr>\n",
              "    <tr>\n",
              "      <th>10</th>\n",
              "      <td>375</td>\n",
              "      <td>2603.053333</td>\n",
              "      <td>1166.844003</td>\n",
              "      <td>2.392702</td>\n",
              "      <td>2588.016000</td>\n",
              "      <td>1824.879343</td>\n",
              "      <td>1.359683</td>\n",
              "      <td>4</td>\n",
              "      <td>135.0</td>\n",
              "      <td>20.0</td>\n",
              "      <td>216.0</td>\n",
              "      <td>0.952802</td>\n",
              "    </tr>\n",
              "    <tr>\n",
              "      <th>11</th>\n",
              "      <td>384</td>\n",
              "      <td>468.973958</td>\n",
              "      <td>218.145984</td>\n",
              "      <td>2.389161</td>\n",
              "      <td>783.830729</td>\n",
              "      <td>250.847628</td>\n",
              "      <td>3.431568</td>\n",
              "      <td>4</td>\n",
              "      <td>165.0</td>\n",
              "      <td>27.0</td>\n",
              "      <td>188.0</td>\n",
              "      <td>0.897665</td>\n",
              "    </tr>\n",
              "    <tr>\n",
              "      <th>12</th>\n",
              "      <td>371</td>\n",
              "      <td>1478.663073</td>\n",
              "      <td>302.887567</td>\n",
              "      <td>5.063998</td>\n",
              "      <td>572.962264</td>\n",
              "      <td>156.411079</td>\n",
              "      <td>6.784759</td>\n",
              "      <td>5</td>\n",
              "      <td>319.0</td>\n",
              "      <td>NaN</td>\n",
              "      <td>47.0</td>\n",
              "      <td>0.952402</td>\n",
              "    </tr>\n",
              "    <tr>\n",
              "      <th>13</th>\n",
              "      <td>309</td>\n",
              "      <td>1458.689320</td>\n",
              "      <td>908.655679</td>\n",
              "      <td>2.348331</td>\n",
              "      <td>1700.964401</td>\n",
              "      <td>1391.228226</td>\n",
              "      <td>1.413938</td>\n",
              "      <td>4</td>\n",
              "      <td>134.0</td>\n",
              "      <td>2.0</td>\n",
              "      <td>169.0</td>\n",
              "      <td>0.949457</td>\n",
              "    </tr>\n",
              "    <tr>\n",
              "      <th>14</th>\n",
              "      <td>384</td>\n",
              "      <td>2747.588542</td>\n",
              "      <td>1401.570413</td>\n",
              "      <td>2.338244</td>\n",
              "      <td>4269.533854</td>\n",
              "      <td>1376.445936</td>\n",
              "      <td>1.816148</td>\n",
              "      <td>4</td>\n",
              "      <td>147.0</td>\n",
              "      <td>156.0</td>\n",
              "      <td>77.0</td>\n",
              "      <td>0.890903</td>\n",
              "    </tr>\n",
              "    <tr>\n",
              "      <th>15</th>\n",
              "      <td>384</td>\n",
              "      <td>1796.411458</td>\n",
              "      <td>2168.301656</td>\n",
              "      <td>2.497187</td>\n",
              "      <td>3445.104167</td>\n",
              "      <td>1572.385029</td>\n",
              "      <td>1.981931</td>\n",
              "      <td>9</td>\n",
              "      <td>109.0</td>\n",
              "      <td>18.0</td>\n",
              "      <td>248.0</td>\n",
              "      <td>0.894931</td>\n",
              "    </tr>\n",
              "    <tr>\n",
              "      <th>16</th>\n",
              "      <td>384</td>\n",
              "      <td>444.885417</td>\n",
              "      <td>328.795495</td>\n",
              "      <td>43.662968</td>\n",
              "      <td>2549.010417</td>\n",
              "      <td>422.197830</td>\n",
              "      <td>6.595914</td>\n",
              "      <td>8</td>\n",
              "      <td>4.0</td>\n",
              "      <td>4.0</td>\n",
              "      <td>368.0</td>\n",
              "      <td>0.926698</td>\n",
              "    </tr>\n",
              "    <tr>\n",
              "      <th>17</th>\n",
              "      <td>384</td>\n",
              "      <td>2706.635417</td>\n",
              "      <td>1582.636534</td>\n",
              "      <td>1.778407</td>\n",
              "      <td>2674.500000</td>\n",
              "      <td>1860.597939</td>\n",
              "      <td>1.441144</td>\n",
              "      <td>27</td>\n",
              "      <td>162.0</td>\n",
              "      <td>114.0</td>\n",
              "      <td>81.0</td>\n",
              "      <td>0.736624</td>\n",
              "    </tr>\n",
              "    <tr>\n",
              "      <th>18</th>\n",
              "      <td>384</td>\n",
              "      <td>2722.815104</td>\n",
              "      <td>1612.263853</td>\n",
              "      <td>1.687889</td>\n",
              "      <td>2955.989583</td>\n",
              "      <td>1345.681739</td>\n",
              "      <td>1.754622</td>\n",
              "      <td>7</td>\n",
              "      <td>185.0</td>\n",
              "      <td>11.0</td>\n",
              "      <td>181.0</td>\n",
              "      <td>0.921240</td>\n",
              "    </tr>\n",
              "    <tr>\n",
              "      <th>19</th>\n",
              "      <td>380</td>\n",
              "      <td>2071.052632</td>\n",
              "      <td>1101.308870</td>\n",
              "      <td>2.188385</td>\n",
              "      <td>1933.286842</td>\n",
              "      <td>883.582280</td>\n",
              "      <td>1.840788</td>\n",
              "      <td>5</td>\n",
              "      <td>104.0</td>\n",
              "      <td>192.0</td>\n",
              "      <td>79.0</td>\n",
              "      <td>0.900564</td>\n",
              "    </tr>\n",
              "  </tbody>\n",
              "</table>\n",
              "</div>"
            ],
            "text/plain": [
              "    qtde.ponto  mean.signalX   sd.signalX  ...     XY      Y  mean.silhouette\n",
              "0          384   2929.713542   983.267187  ...  167.0   94.0         0.916505\n",
              "1          384   1409.484375   525.140811  ...  189.0   99.0         0.891220\n",
              "2          382   2031.329843  2023.975889  ...   73.0  254.0         0.947689\n",
              "3          370   2900.078378  1278.838337  ...   10.0  185.0         0.954000\n",
              "4          384   2567.598958  1090.155787  ...  182.0   92.0         0.829513\n",
              "5          384   4270.281250  2030.633675  ...  221.0  124.0         0.419574\n",
              "6          373   2978.777480  1572.195225  ...   10.0   91.0         0.896077\n",
              "7          384    757.755208   156.297509  ...  361.0   10.0         0.858830\n",
              "8          112   1365.607143   945.558059  ...   36.0   72.0         0.896741\n",
              "9          212   1061.561321   563.184851  ...   64.0  120.0         0.953351\n",
              "10         375   2603.053333  1166.844003  ...   20.0  216.0         0.952802\n",
              "11         384    468.973958   218.145984  ...   27.0  188.0         0.897665\n",
              "12         371   1478.663073   302.887567  ...    NaN   47.0         0.952402\n",
              "13         309   1458.689320   908.655679  ...    2.0  169.0         0.949457\n",
              "14         384   2747.588542  1401.570413  ...  156.0   77.0         0.890903\n",
              "15         384   1796.411458  2168.301656  ...   18.0  248.0         0.894931\n",
              "16         384    444.885417   328.795495  ...    4.0  368.0         0.926698\n",
              "17         384   2706.635417  1582.636534  ...  114.0   81.0         0.736624\n",
              "18         384   2722.815104  1612.263853  ...   11.0  181.0         0.921240\n",
              "19         380   2071.052632  1101.308870  ...  192.0   79.0         0.900564\n",
              "\n",
              "[20 rows x 12 columns]"
            ]
          },
          "metadata": {
            "tags": []
          },
          "execution_count": 56
        }
      ]
    },
    {
      "cell_type": "code",
      "metadata": {
        "id": "zaYlIpBQbnhS",
        "colab_type": "code",
        "colab": {}
      },
      "source": [
        "\n",
        "# change the dtype to 'float64' \n",
        "features = features.astype('float64')\n",
        "featuresval = featuresval.astype('float64')\n",
        "\n",
        "# Substituição pela média para os clusters com NA\n",
        "features['X'].fillna(features['X'].mean(),inplace=True)\n",
        "features['XY'].fillna(features['XY'].mean(),inplace=True)\n",
        "features['Y'].fillna(features['XY'].mean(),inplace=True)\n",
        "\n",
        "\n",
        "\n",
        "# Substituição pela média para os clusters com NA\n",
        "featuresval['X'].fillna(featuresval['X'].mean(),inplace=True)\n",
        "featuresval['XY'].fillna(featuresval['XY'].mean(),inplace=True)\n",
        "featuresval['Y'].fillna(featuresval['XY'].mean(),inplace=True)\n"
      ],
      "execution_count": 0,
      "outputs": []
    },
    {
      "cell_type": "code",
      "metadata": {
        "id": "vf_hJnWg-ciW",
        "colab_type": "code",
        "colab": {
          "base_uri": "https://localhost:8080/",
          "height": 204
        },
        "outputId": "e77193d8-3e74-455c-ad2d-5d7ce5a390b9"
      },
      "source": [
        "features.head()"
      ],
      "execution_count": 58,
      "outputs": [
        {
          "output_type": "execute_result",
          "data": {
            "text/html": [
              "<div>\n",
              "<style scoped>\n",
              "    .dataframe tbody tr th:only-of-type {\n",
              "        vertical-align: middle;\n",
              "    }\n",
              "\n",
              "    .dataframe tbody tr th {\n",
              "        vertical-align: top;\n",
              "    }\n",
              "\n",
              "    .dataframe thead th {\n",
              "        text-align: right;\n",
              "    }\n",
              "</style>\n",
              "<table border=\"1\" class=\"dataframe\">\n",
              "  <thead>\n",
              "    <tr style=\"text-align: right;\">\n",
              "      <th></th>\n",
              "      <th>qtde.ponto</th>\n",
              "      <th>mean.signalX</th>\n",
              "      <th>sd.signalX</th>\n",
              "      <th>kurtosis.signalX</th>\n",
              "      <th>mean.signalY</th>\n",
              "      <th>sd.signalY</th>\n",
              "      <th>kurtosis.signalY</th>\n",
              "      <th>L</th>\n",
              "      <th>X</th>\n",
              "      <th>XY</th>\n",
              "      <th>Y</th>\n",
              "      <th>mean.silhouette</th>\n",
              "    </tr>\n",
              "  </thead>\n",
              "  <tbody>\n",
              "    <tr>\n",
              "      <th>0</th>\n",
              "      <td>365.0</td>\n",
              "      <td>3164.835616</td>\n",
              "      <td>804.757625</td>\n",
              "      <td>3.516731</td>\n",
              "      <td>1586.430137</td>\n",
              "      <td>568.651580</td>\n",
              "      <td>3.170632</td>\n",
              "      <td>4.0</td>\n",
              "      <td>92.0</td>\n",
              "      <td>269.0</td>\n",
              "      <td>80.421065</td>\n",
              "      <td>0.840146</td>\n",
              "    </tr>\n",
              "    <tr>\n",
              "      <th>1</th>\n",
              "      <td>384.0</td>\n",
              "      <td>1737.776042</td>\n",
              "      <td>944.798845</td>\n",
              "      <td>2.475172</td>\n",
              "      <td>2999.940104</td>\n",
              "      <td>1716.790542</td>\n",
              "      <td>2.195067</td>\n",
              "      <td>4.0</td>\n",
              "      <td>82.0</td>\n",
              "      <td>49.0</td>\n",
              "      <td>249.000000</td>\n",
              "      <td>0.964427</td>\n",
              "    </tr>\n",
              "    <tr>\n",
              "      <th>2</th>\n",
              "      <td>373.0</td>\n",
              "      <td>1139.621984</td>\n",
              "      <td>866.460225</td>\n",
              "      <td>1.922726</td>\n",
              "      <td>1836.640751</td>\n",
              "      <td>950.478945</td>\n",
              "      <td>1.436889</td>\n",
              "      <td>4.0</td>\n",
              "      <td>156.0</td>\n",
              "      <td>7.0</td>\n",
              "      <td>206.000000</td>\n",
              "      <td>0.936210</td>\n",
              "    </tr>\n",
              "    <tr>\n",
              "      <th>3</th>\n",
              "      <td>384.0</td>\n",
              "      <td>3609.692708</td>\n",
              "      <td>1808.877599</td>\n",
              "      <td>1.985210</td>\n",
              "      <td>2469.164062</td>\n",
              "      <td>1219.231193</td>\n",
              "      <td>1.913381</td>\n",
              "      <td>4.0</td>\n",
              "      <td>100.0</td>\n",
              "      <td>190.0</td>\n",
              "      <td>90.000000</td>\n",
              "      <td>0.896070</td>\n",
              "    </tr>\n",
              "    <tr>\n",
              "      <th>4</th>\n",
              "      <td>383.0</td>\n",
              "      <td>1867.203655</td>\n",
              "      <td>938.232021</td>\n",
              "      <td>2.176598</td>\n",
              "      <td>2180.908616</td>\n",
              "      <td>1515.205489</td>\n",
              "      <td>1.155226</td>\n",
              "      <td>4.0</td>\n",
              "      <td>176.0</td>\n",
              "      <td>2.0</td>\n",
              "      <td>201.000000</td>\n",
              "      <td>0.952810</td>\n",
              "    </tr>\n",
              "  </tbody>\n",
              "</table>\n",
              "</div>"
            ],
            "text/plain": [
              "   qtde.ponto  mean.signalX   sd.signalX  ...     XY           Y  mean.silhouette\n",
              "0       365.0   3164.835616   804.757625  ...  269.0   80.421065         0.840146\n",
              "1       384.0   1737.776042   944.798845  ...   49.0  249.000000         0.964427\n",
              "2       373.0   1139.621984   866.460225  ...    7.0  206.000000         0.936210\n",
              "3       384.0   3609.692708  1808.877599  ...  190.0   90.000000         0.896070\n",
              "4       383.0   1867.203655   938.232021  ...    2.0  201.000000         0.952810\n",
              "\n",
              "[5 rows x 12 columns]"
            ]
          },
          "metadata": {
            "tags": []
          },
          "execution_count": 58
        }
      ]
    },
    {
      "cell_type": "code",
      "metadata": {
        "id": "n7GIXgwgahwG",
        "colab_type": "code",
        "colab": {
          "base_uri": "https://localhost:8080/",
          "height": 153
        },
        "outputId": "b3b486d5-8cfc-4b7f-ca7f-b32130d3297c"
      },
      "source": [
        "\n",
        "from sklearn.preprocessing import MinMaxScaler\n",
        "\n",
        "##  normalização antes\n",
        "scaler = MinMaxScaler() \n",
        "\n",
        "# Normalizando dados de validação para serem usados no Kaggle\n",
        "print(scaler.fit(featuresval))\n",
        "\n",
        "featuresval = scaler.transform(featuresval)\n",
        "\n",
        "print(featuresval)\n"
      ],
      "execution_count": 59,
      "outputs": [
        {
          "output_type": "stream",
          "text": [
            "MinMaxScaler(copy=True, feature_range=(0, 1))\n",
            "[[1.         0.35069271 0.23304664 ... 0.43799472 0.24538259 0.95914333]\n",
            " [1.         0.1887101  0.1238514  ... 0.49604222 0.2585752  0.94168467]\n",
            " [0.99468085 0.25496863 0.48110143 ... 0.18997361 0.66754617 0.98067533]\n",
            " ...\n",
            " [0.99468085 0.4790201  0.57176292 ... 0.11609499 0.3298153  0.9492964 ]\n",
            " [1.         0.15521992 0.13268455 ... 0.02902375 0.49076517 0.98217308]\n",
            " [0.98670213 0.40946428 0.43198796 ... 0.55145119 0.2348285  0.94488508]]\n"
          ],
          "name": "stdout"
        }
      ]
    },
    {
      "cell_type": "code",
      "metadata": {
        "id": "dqpJlrO9DW02",
        "colab_type": "code",
        "colab": {
          "base_uri": "https://localhost:8080/",
          "height": 153
        },
        "outputId": "adff1963-f94c-4af8-be02-ba83d148431e"
      },
      "source": [
        "# Normalizando dados de treinamento = teste\n",
        "print(scaler.fit(features))\n",
        "\n",
        "features = scaler.transform(features)\n",
        "print(features)"
      ],
      "execution_count": 60,
      "outputs": [
        {
          "output_type": "stream",
          "text": [
            "MinMaxScaler(copy=True, feature_range=(0, 1))\n",
            "[[0.94946809 0.35852097 0.17142092 ... 0.70712401 0.20955426 0.91009513]\n",
            " [1.         0.21587607 0.20141397 ... 0.12664908 0.65435356 0.99230262]\n",
            " [0.97074468 0.15608626 0.18463595 ... 0.01583113 0.5408971  0.97363791]\n",
            " ...\n",
            " [0.76861702 0.16267414 0.09241627 ... 0.29551451 0.10026385 0.97808368]\n",
            " [0.99468085 0.31879101 0.25879716 ... 0.38258575 0.49868074 0.91305659]\n",
            " [0.19946809 0.08773404 0.05210636 ... 0.20955426 0.20580475 0.99112255]]\n"
          ],
          "name": "stdout"
        }
      ]
    },
    {
      "cell_type": "code",
      "metadata": {
        "id": "Rbf8Y9SwQE-z",
        "colab_type": "code",
        "colab": {}
      },
      "source": [
        "# Já feito no estágio anterior\n",
        "##X = np.array(train.drop(['traininglabelorder.score'], 1))\n",
        "\n",
        "##y = np.array(train['traininglabelorder.score'])\n",
        "\n",
        "\n"
      ],
      "execution_count": 0,
      "outputs": []
    },
    {
      "cell_type": "code",
      "metadata": {
        "id": "Ncae-AVjPprX",
        "colab_type": "code",
        "colab": {}
      },
      "source": [
        "# https://scikit-learn.org/stable/modules/generated/sklearn.model_selection.train_test_split.html\n",
        "# separando o array em para 25% para teste com os dados de treinamento.\n",
        "\n",
        "X_train, X_test, y_train, y_test = train_test_split(features, labelTrain, test_size=0.25, random_state=10)\n",
        "\n",
        "\n"
      ],
      "execution_count": 0,
      "outputs": []
    },
    {
      "cell_type": "code",
      "metadata": {
        "id": "1QXF4OsNjy0N",
        "colab_type": "code",
        "colab": {}
      },
      "source": [
        "# classsifiers KNN\n",
        "\n",
        "clf = neighbors.KNeighborsRegressor(n_neighbors=4)\n",
        "clf.fit(X_train , y_train)\n",
        "\n",
        "# Validando com 25 % dos dados de treinametno.... E após fazer a validação com os dados de teste (20.000), atenção normalizar antes ...\n",
        "y_pred = clf.predict(X_test)\n"
      ],
      "execution_count": 0,
      "outputs": []
    },
    {
      "cell_type": "code",
      "metadata": {
        "id": "Vok0XVxyY_Md",
        "colab_type": "code",
        "outputId": "eec7d9e2-372c-4d10-ec78-ebf4e6ab3255",
        "colab": {
          "base_uri": "https://localhost:8080/",
          "height": 34
        }
      },
      "source": [
        "\n",
        "\n",
        "accuracy = clf.score(X_test, y_test)\n",
        "\n",
        "print(accuracy)"
      ],
      "execution_count": 63,
      "outputs": [
        {
          "output_type": "stream",
          "text": [
            "0.48201400851719145\n"
          ],
          "name": "stdout"
        }
      ]
    },
    {
      "cell_type": "code",
      "metadata": {
        "id": "MpHrd-GmAxmi",
        "colab_type": "code",
        "colab": {
          "base_uri": "https://localhost:8080/",
          "height": 34
        },
        "outputId": "7f908ee9-1587-4fa0-adab-0f7d6fcaa2df"
      },
      "source": [
        "rmse = sqrt(mean_squared_error(y_pred, y_test))\n",
        "print (rmse)"
      ],
      "execution_count": 64,
      "outputs": [
        {
          "output_type": "stream",
          "text": [
            "0.242298889493992\n"
          ],
          "name": "stdout"
        }
      ]
    },
    {
      "cell_type": "code",
      "metadata": {
        "id": "D1nBP0HpBbCH",
        "colab_type": "code",
        "colab": {
          "base_uri": "https://localhost:8080/",
          "height": 255
        },
        "outputId": "af4b204d-77d2-49dd-aeb1-bdc0f04f66fb"
      },
      "source": [
        "#Fazer testes no site do kaggle\n",
        "\n",
        "Xval = featuresval\n",
        "print(Xval)\n",
        "# Estes dados associar ao Teste - ScatterPlotId  & este score e confirmar no site...\n",
        "y_predVal = clf.predict(Xval)\n",
        "print(y_predVal)"
      ],
      "execution_count": 65,
      "outputs": [
        {
          "output_type": "stream",
          "text": [
            "[[1.         0.35069271 0.23304664 ... 0.43799472 0.24538259 0.95914333]\n",
            " [1.         0.1887101  0.1238514  ... 0.49604222 0.2585752  0.94168467]\n",
            " [0.99468085 0.25496863 0.48110143 ... 0.18997361 0.66754617 0.98067533]\n",
            " ...\n",
            " [0.99468085 0.4790201  0.57176292 ... 0.11609499 0.3298153  0.9492964 ]\n",
            " [1.         0.15521992 0.13268455 ... 0.02902375 0.49076517 0.98217308]\n",
            " [0.98670213 0.40946428 0.43198796 ... 0.55145119 0.2348285  0.94488508]]\n",
            "[[0.74665188]\n",
            " [0.78771325]\n",
            " [0.90561481]\n",
            " ...\n",
            " [0.77932236]\n",
            " [0.90898727]\n",
            " [0.34416327]]\n"
          ],
          "name": "stdout"
        }
      ]
    },
    {
      "cell_type": "code",
      "metadata": {
        "id": "sBBNzm29GBZ2",
        "colab_type": "code",
        "colab": {
          "base_uri": "https://localhost:8080/",
          "height": 68
        },
        "outputId": "b31aaed1-f6bd-4dfa-8f38-01a0f176e1c6"
      },
      "source": [
        "# Dummy\n",
        "a = np.array([[1, 2, 3], [4, 5, 6]])\n",
        " \n",
        "newArray = np.append(a, [[50, 60, 70]], axis = 0)\n",
        " \n",
        "print(newArray)\n",
        " \n"
      ],
      "execution_count": 53,
      "outputs": [
        {
          "output_type": "stream",
          "text": [
            "[[ 1  2  3]\n",
            " [ 4  5  6]\n",
            " [50 60 70]]\n"
          ],
          "name": "stdout"
        }
      ]
    },
    {
      "cell_type": "code",
      "metadata": {
        "id": "D9-uyi2hHHXN",
        "colab_type": "code",
        "colab": {
          "base_uri": "https://localhost:8080/",
          "height": 136
        },
        "outputId": "4a27a78a-4934-44fe-fef0-bf0cdb57b065"
      },
      "source": [
        "# Associar o teste ScatterplotID com a predição\n",
        "a = np.array(idVal)\n",
        "b= y_predVal\n",
        "\n",
        "submission = np.append(a,b, axis = 0)\n",
        "print(submission)\n"
      ],
      "execution_count": 66,
      "outputs": [
        {
          "output_type": "stream",
          "text": [
            "[[ 1.        ]\n",
            " [22.        ]\n",
            " [27.        ]\n",
            " ...\n",
            " [ 0.77932236]\n",
            " [ 0.90898727]\n",
            " [ 0.34416327]]\n"
          ],
          "name": "stdout"
        }
      ]
    },
    {
      "cell_type": "code",
      "metadata": {
        "id": "IpYgfO23IF0L",
        "colab_type": "code",
        "colab": {
          "base_uri": "https://localhost:8080/",
          "height": 164
        },
        "outputId": "60a111aa-3101-45c5-a5e5-74e7b8d34a2d"
      },
      "source": [
        "\n",
        "submission.to_csv(index=False)"
      ],
      "execution_count": 67,
      "outputs": [
        {
          "output_type": "error",
          "ename": "AttributeError",
          "evalue": "ignored",
          "traceback": [
            "\u001b[0;31m---------------------------------------------------------------------------\u001b[0m",
            "\u001b[0;31mAttributeError\u001b[0m                            Traceback (most recent call last)",
            "\u001b[0;32m<ipython-input-67-c49274e2466a>\u001b[0m in \u001b[0;36m<module>\u001b[0;34m()\u001b[0m\n\u001b[0;32m----> 1\u001b[0;31m \u001b[0msubmission\u001b[0m\u001b[0;34m.\u001b[0m\u001b[0mto_csv\u001b[0m\u001b[0;34m(\u001b[0m\u001b[0mindex\u001b[0m\u001b[0;34m=\u001b[0m\u001b[0;32mFalse\u001b[0m\u001b[0;34m)\u001b[0m\u001b[0;34m\u001b[0m\u001b[0;34m\u001b[0m\u001b[0m\n\u001b[0m",
            "\u001b[0;31mAttributeError\u001b[0m: 'numpy.ndarray' object has no attribute 'to_csv'"
          ]
        }
      ]
    },
    {
      "cell_type": "code",
      "metadata": {
        "id": "0mI5UttAI4m8",
        "colab_type": "code",
        "colab": {
          "base_uri": "https://localhost:8080/",
          "height": 119
        },
        "outputId": "c746701a-4538-46b6-88d5-2ab62ee35629"
      },
      "source": [
        "# Dummy\n",
        "# Creating a 2 dimensional numpy array\n",
        "data = np.array([[5.8, 2.8], [6.0, 2.2]])\n",
        "print(data)\n",
        "\n",
        "# Creating pandas dataframe from numpy array\n",
        "dataset = pd.DataFrame({'ID': data[0, :], 'Score': data[1, :]})\n",
        "print(dataset)\n",
        " \n",
        "dataset.to_csv(index=False)"
      ],
      "execution_count": 71,
      "outputs": [
        {
          "output_type": "stream",
          "text": [
            "[[5.8 2.8]\n",
            " [6.  2.2]]\n",
            "    ID  Score\n",
            "0  5.8    6.0\n",
            "1  2.8    2.2\n"
          ],
          "name": "stdout"
        },
        {
          "output_type": "execute_result",
          "data": {
            "text/plain": [
              "'ID,Score\\n5.8,6.0\\n2.8,2.2\\n'"
            ]
          },
          "metadata": {
            "tags": []
          },
          "execution_count": 71
        }
      ]
    },
    {
      "cell_type": "code",
      "metadata": {
        "id": "pLw-DoLyIEMw",
        "colab_type": "code",
        "colab": {
          "base_uri": "https://localhost:8080/",
          "height": 300
        },
        "outputId": "f3039c35-bec7-481f-ddf6-61baab19d054"
      },
      "source": [
        "from google.colab import files\n",
        "files.download(\"dataset.csv\")"
      ],
      "execution_count": 72,
      "outputs": [
        {
          "output_type": "error",
          "ename": "FileNotFoundError",
          "evalue": "ignored",
          "traceback": [
            "\u001b[0;31m---------------------------------------------------------------------------\u001b[0m",
            "\u001b[0;31mFileNotFoundError\u001b[0m                         Traceback (most recent call last)",
            "\u001b[0;32m<ipython-input-72-23441225886d>\u001b[0m in \u001b[0;36m<module>\u001b[0;34m()\u001b[0m\n\u001b[1;32m      1\u001b[0m \u001b[0;32mfrom\u001b[0m \u001b[0mgoogle\u001b[0m\u001b[0;34m.\u001b[0m\u001b[0mcolab\u001b[0m \u001b[0;32mimport\u001b[0m \u001b[0mfiles\u001b[0m\u001b[0;34m\u001b[0m\u001b[0;34m\u001b[0m\u001b[0m\n\u001b[0;32m----> 2\u001b[0;31m \u001b[0mfiles\u001b[0m\u001b[0;34m.\u001b[0m\u001b[0mdownload\u001b[0m\u001b[0;34m(\u001b[0m\u001b[0;34m\"dataset.csv\"\u001b[0m\u001b[0;34m)\u001b[0m\u001b[0;34m\u001b[0m\u001b[0;34m\u001b[0m\u001b[0m\n\u001b[0m",
            "\u001b[0;32m/usr/local/lib/python3.6/dist-packages/google/colab/files.py\u001b[0m in \u001b[0;36mdownload\u001b[0;34m(filename)\u001b[0m\n\u001b[1;32m    142\u001b[0m       \u001b[0;32mraise\u001b[0m \u001b[0mOSError\u001b[0m\u001b[0;34m(\u001b[0m\u001b[0mmsg\u001b[0m\u001b[0;34m)\u001b[0m\u001b[0;34m\u001b[0m\u001b[0;34m\u001b[0m\u001b[0m\n\u001b[1;32m    143\u001b[0m     \u001b[0;32melse\u001b[0m\u001b[0;34m:\u001b[0m\u001b[0;34m\u001b[0m\u001b[0;34m\u001b[0m\u001b[0m\n\u001b[0;32m--> 144\u001b[0;31m       \u001b[0;32mraise\u001b[0m \u001b[0mFileNotFoundError\u001b[0m\u001b[0;34m(\u001b[0m\u001b[0mmsg\u001b[0m\u001b[0;34m)\u001b[0m  \u001b[0;31m# pylint: disable=undefined-variable\u001b[0m\u001b[0;34m\u001b[0m\u001b[0;34m\u001b[0m\u001b[0m\n\u001b[0m\u001b[1;32m    145\u001b[0m \u001b[0;34m\u001b[0m\u001b[0m\n\u001b[1;32m    146\u001b[0m   \u001b[0mstarted\u001b[0m \u001b[0;34m=\u001b[0m \u001b[0m_threading\u001b[0m\u001b[0;34m.\u001b[0m\u001b[0mEvent\u001b[0m\u001b[0;34m(\u001b[0m\u001b[0;34m)\u001b[0m\u001b[0;34m\u001b[0m\u001b[0;34m\u001b[0m\u001b[0m\n",
            "\u001b[0;31mFileNotFoundError\u001b[0m: Cannot find file: dataset.csv"
          ]
        }
      ]
    },
    {
      "cell_type": "markdown",
      "metadata": {
        "id": "7wDuJcOyr7qk",
        "colab_type": "text"
      },
      "source": [
        "## Testes com Cross-validation, k = 5\n",
        "\n",
        "  "
      ]
    },
    {
      "cell_type": "code",
      "metadata": {
        "id": "JNBgP8qyr41p",
        "colab_type": "code",
        "colab": {
          "base_uri": "https://localhost:8080/",
          "height": 34
        },
        "outputId": "23ec05a0-f3f3-45bd-dcfd-2f460e38faed"
      },
      "source": [
        "# Normalização Min Max  https://scikit-learn.org/stable/modules/generated/sklearn.preprocessing.MinMaxScaler.html\n",
        "#https://www.kaggle.com/dansbecker/cross-validation \n",
        "\n"
      ],
      "execution_count": 2,
      "outputs": [
        {
          "output_type": "stream",
          "text": [
            "[[-1, 2], [-0.5, 6], [0, 10], [1, 18]]\n"
          ],
          "name": "stdout"
        }
      ]
    },
    {
      "cell_type": "code",
      "metadata": {
        "id": "_u3qk3HNtegN",
        "colab_type": "code",
        "colab": {}
      },
      "source": [
        "from sklearn.model_selection import cross_val_score\n",
        "scores = cross_val_score(my_pipeline, X, y, scoring='neg_mean_absolute_error')\n",
        "print(scores)"
      ],
      "execution_count": 0,
      "outputs": []
    }
  ]
}